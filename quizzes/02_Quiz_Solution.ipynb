{
 "cells": [
  {
   "cell_type": "markdown",
   "metadata": {},
   "source": [
    "# Quiz 2"
   ]
  },
  {
   "cell_type": "markdown",
   "metadata": {},
   "source": [
    "### Problem 1. Evaluate the integral given the following data (5 pts.)\n",
    "\n",
    "$$ \\int_{T_0}^{T_1} A + BT + CT^2 + DT^{-2} dT $$"
   ]
  },
  {
   "cell_type": "code",
   "execution_count": 1,
   "metadata": {},
   "outputs": [],
   "source": [
    "data = {'A': 1.702,\n",
    "       'B': 9.081*10**-3,\n",
    "       'C': -2.164*10**-6,\n",
    "       'D': 0.0,\n",
    "       'T0': 298.15,\n",
    "       'T1': 500.0}"
   ]
  },
  {
   "cell_type": "code",
   "execution_count": 2,
   "metadata": {},
   "outputs": [
    {
     "name": "stdout",
     "output_type": "stream",
     "text": [
      "Answer: 1004.0043597918714\n"
     ]
    }
   ],
   "source": [
    "from scipy.integrate import quad\n",
    "\n",
    "def integrand(t):\n",
    "    return data['A'] + data['B'] * t + data['C'] * t**2 + data['D'] * t**(-2)\n",
    "\n",
    "integral, error = quad(integrand, data['T0'], data['T1'])\n",
    "print(\"Answer: {}\".format(integral))"
   ]
  },
  {
   "cell_type": "markdown",
   "metadata": {},
   "source": [
    "### Problem 2. Exit concentration of a plug flow reactor\n",
    "\n",
    "Given the equation:\n",
    "    \n",
    "$$ V = \\int_{F_{A0}}^{F_A} r_A^{-1} dF_A $$\n",
    "\n",
    "and constants:\n",
    "\n",
    "$ V = $ 200 L\n",
    "\n",
    "$ F_{A0} = $ 2 mol/min\n",
    "\n",
    "$ \\nu = $ 10 L/min\n",
    "\n",
    "$ r_A =  -k C_A^2 $\n",
    "\n",
    "$ k = $ 0.5 L/mol/min\n",
    "\n",
    "Solve for the exit molar flow rate, $F_A = \\nu C_A$."
   ]
  },
  {
   "cell_type": "markdown",
   "metadata": {},
   "source": [
    "### A: Define a function to evaluate the integral with `scipy.integrate.quad` (5 pts.)"
   ]
  },
  {
   "cell_type": "code",
   "execution_count": 3,
   "metadata": {},
   "outputs": [],
   "source": [
    "V = 200\n",
    "Fa0 = 2\n",
    "nu = 10\n",
    "k = 0.5\n",
    "\n",
    "def integrand(Fa):\n",
    "    return 1/(-k*Fa**2/nu**2)\n",
    "\n",
    "def func(Fa):\n",
    "    integral, error = quad(integrand, Fa0, Fa)\n",
    "    return V - integral"
   ]
  },
  {
   "cell_type": "markdown",
   "metadata": {},
   "source": [
    "### B: Plot the function to find an initial guess for $F_A$ (5 pts.)"
   ]
  },
  {
   "cell_type": "code",
   "execution_count": 4,
   "metadata": {},
   "outputs": [
    {
     "data": {
      "text/plain": [
       "Text(0, 0.5, 'Residual Error')"
      ]
     },
     "execution_count": 4,
     "metadata": {},
     "output_type": "execute_result"
    }
   ],
   "source": [
    "import numpy as np\n",
    "vfunc = np.vectorize(func)\n",
    "\n",
    "import matplotlib.pyplot as plt\n",
    "x = np.linspace(0.1, 1.0)\n",
    "plt.plot(x, vfunc(x))\n",
    "plt.hlines(0, 0.1, 1.0)\n",
    "plt.xlabel(\"Exit Molar Flow Rate (mol/min)\")\n",
    "plt.ylabel(\"Residual Error\")"
   ]
  },
  {
   "cell_type": "markdown",
   "metadata": {},
   "source": [
    "### C: Use the initial guess to solve the equation (5 pts.)"
   ]
  },
  {
   "cell_type": "code",
   "execution_count": 5,
   "metadata": {},
   "outputs": [
    {
     "name": "stdout",
     "output_type": "stream",
     "text": [
      "Exit molar flow rate: 0.666666666666668 mol/min\n"
     ]
    }
   ],
   "source": [
    "from scipy.optimize import fsolve\n",
    "Fa_guess = 0.8\n",
    "Fa, = fsolve(vfunc, Fa_guess)\n",
    "print(\"Exit molar flow rate: {} mol/min\".format(Fa))"
   ]
  }
 ],
 "metadata": {
  "kernelspec": {
   "display_name": "Python 3",
   "language": "python",
   "name": "python3"
  },
  "language_info": {
   "codemirror_mode": {
    "name": "ipython",
    "version": 3
   },
   "file_extension": ".py",
   "mimetype": "text/x-python",
   "name": "python",
   "nbconvert_exporter": "python",
   "pygments_lexer": "ipython3",
   "version": "3.5.6"
  }
 },
 "nbformat": 4,
 "nbformat_minor": 4
}
