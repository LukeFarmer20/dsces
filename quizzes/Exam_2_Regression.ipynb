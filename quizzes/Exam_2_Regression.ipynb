{
  "nbformat": 4,
  "nbformat_minor": 0,
  "metadata": {
    "colab": {
      "name": "Regression.ipynb",
      "provenance": [],
      "collapsed_sections": []
    },
    "kernelspec": {
      "name": "python3",
      "display_name": "Python 3"
    }
  },
  "cells": [
    {
      "cell_type": "code",
      "metadata": {
        "id": "ukaoaNGAwbiG"
      },
      "source": [
        "!pip install skorch"
      ],
      "execution_count": null,
      "outputs": []
    },
    {
      "cell_type": "code",
      "metadata": {
        "id": "AqMtdUf5cXq1"
      },
      "source": [
        "import os\n",
        "import numpy as np\n",
        "import pandas as pd\n",
        "import matplotlib.pyplot as plt\n",
        "import torch\n",
        "import torch.nn as nn\n",
        "import skorch"
      ],
      "execution_count": null,
      "outputs": []
    },
    {
      "cell_type": "markdown",
      "metadata": {
        "id": "Augvd8xMcqjf"
      },
      "source": [
        "# Regression (60 pts.)"
      ]
    },
    {
      "cell_type": "code",
      "metadata": {
        "id": "dNp4ajSxcuWq"
      },
      "source": [
        "os.system('wget https://archive.ics.uci.edu/ml/machine-learning-databases/00381/PRSA_data_2010.1.1-2014.12.31.csv')"
      ],
      "execution_count": null,
      "outputs": []
    },
    {
      "cell_type": "markdown",
      "metadata": {
        "id": "MccztLVedE9T"
      },
      "source": [
        "##  Beijing PM2.5 Data Set \n",
        "\n",
        "Reference: Liang, X., Zou, T., Guo, B., Li, S., Zhang, H., Zhang, S., Huang, H. and Chen, S. X. (2015). [Assessing Beijing's PM2.5 pollution: severity, weather impact, APEC and winter heating](https://royalsocietypublishing.org/doi/10.1098/rspa.2015.0257). Proceedings of the Royal Society A, 471, 20150257.\n",
        "\n",
        "This hourly data set contains the PM2.5 data of US Embassy in Beijing. Meanwhile, meteorological data from Beijing Capital International Airport are also included.\n",
        "\n",
        "Dataset Description:\n",
        "```\n",
        "No: row number\n",
        "year: year of data in this row\n",
        "month: month of data in this row\n",
        "day: day of data in this row\n",
        "hour: hour of data in this row\n",
        "pm2.5: PM2.5 concentration (ug/m^3)\n",
        "DEWP: Dew Point (â„ƒ)\n",
        "TEMP: Temperature (â„ƒ)\n",
        "PRES: Pressure (hPa)\n",
        "cbwd: Combined wind direction\n",
        "Iws: Cumulated wind speed (m/s)\n",
        "Is: Cumulated hours of snow\n",
        "Ir: Cumulated hours of rain\n",
        "``` "
      ]
    },
    {
      "cell_type": "markdown",
      "metadata": {
        "id": "BjIQFI8WijjX"
      },
      "source": [
        "## Question 1: Data Visualization (10 pts.)\n",
        "\n",
        "Plot the following variables as a function of time: `pm2.5`, `DEWP`, `TEMP`, `PRES`, `Iws`, `Is`, `Ir`. Note any qualitative similarities or differences you see between these variables. Title and label the axes of your plot appropriately."
      ]
    },
    {
      "cell_type": "code",
      "metadata": {
        "id": "nc6UUQ4Qdjx0"
      },
      "source": [
        ""
      ],
      "execution_count": null,
      "outputs": []
    },
    {
      "cell_type": "markdown",
      "metadata": {
        "id": "kN-PggGUijeh"
      },
      "source": [
        "## Question 2: Dataset Construction (10 pts.)\n",
        "\n",
        "Follow the procedure in Lecture 19 Long-Short Term Memory Networks to find information on how to construct the dataset. Specifically, combine the meteorological features with a sequence of past PM2.5 concentrations (window size 7) to construct the design matrix and use the next-day PM2.5 concentration as the prediction task. Be sure to drop any data points containing NaN values and use an appropriate algorithm to re-scale the values of the features and labels.\n",
        "\n",
        "Split the data into training and test datasets based on the acquisition date. Specifically, use the first 90% of the data points for training/validation and the final 10% for testing.\n",
        "\n",
        "Hint:\n",
        "\n",
        "```\n",
        "X_train.shape = [36378, 21]\n",
        "X_test.shape = [4043, 21]\n",
        "y_train.shape = [36378, 1]\n",
        "y_test.shape = [4043, 1]\n",
        "```"
      ]
    },
    {
      "cell_type": "code",
      "metadata": {
        "id": "c2JLv-LrkOoa"
      },
      "source": [
        ""
      ],
      "execution_count": null,
      "outputs": []
    },
    {
      "cell_type": "markdown",
      "metadata": {
        "id": "Tr8Z7MnQijoQ"
      },
      "source": [
        "## Question 3: Random Forest Regression (10 pts.)\n",
        "\n",
        "Train a Random Forest Regression model to predict next-day PM2.5 concentration. Try splitting 10% off from the training set to produce a validation set. Can you improve performance on the validation set by adjusting some hyperparameters such as `n_estimators` or `max_features`?"
      ]
    },
    {
      "cell_type": "code",
      "metadata": {
        "id": "3X1BXxvukQ3A"
      },
      "source": [
        ""
      ],
      "execution_count": null,
      "outputs": []
    },
    {
      "cell_type": "markdown",
      "metadata": {
        "id": "lYqK-NGRijsk"
      },
      "source": [
        "## Question 4: Hindcast Validation (10 pts.)\n",
        "\n",
        "Re-train the best RF model from Question 3 with the entire training set and predict on the test data (future forecasting). Calculate the R2 score and RMSE (root-mean squared error) of your prediction compared with the observations. If you transformed your labels during the dataset construction, don't forget to perform the inverse transformation before calculating the error metrics.\n",
        "```"
      ]
    },
    {
      "cell_type": "code",
      "metadata": {
        "id": "VeUUTQDQkD8A"
      },
      "source": [
        ""
      ],
      "execution_count": null,
      "outputs": []
    },
    {
      "cell_type": "markdown",
      "metadata": {
        "id": "C_2fJXGIvZxW"
      },
      "source": [
        "## Question 5: Neural Network Regression (10 pts.)\n",
        "\n",
        "Train a Neural Network Regression model to predict next-day PM2.5 concentration. Try splitting 10% off from the training set to produce a validation set. First, build a two-layer, ReLU neural network with width 128 neurons and determine an appropriate learning rate based on the validation score. Can you improve the model validation performance by changing the width or depth of the neural network?"
      ]
    },
    {
      "cell_type": "code",
      "metadata": {
        "id": "QrZNvvNyvYP7"
      },
      "source": [
        ""
      ],
      "execution_count": null,
      "outputs": []
    },
    {
      "cell_type": "markdown",
      "metadata": {
        "id": "R2SrIsy-voW8"
      },
      "source": [
        "## Question 6: NN Hindcast Validation (10 pts.)\n",
        "\n",
        "Using the NN model trained in the previous question, calculate the R2 score and RMSE (root-mean squared error) of your prediction compared with the observations. If you transformed your labels during the dataset construction, don't forget to perform the inverse transformation before calculating the error metrics.\n",
        "```"
      ]
    },
    {
      "cell_type": "code",
      "metadata": {
        "id": "3nDyDYFPv0T8"
      },
      "source": [
        ""
      ],
      "execution_count": null,
      "outputs": []
    }
  ]
}