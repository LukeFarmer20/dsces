{
  "nbformat": 4,
  "nbformat_minor": 0,
  "metadata": {
    "colab": {
      "name": "Convolutional Neural Networks.ipynb",
      "provenance": [],
      "collapsed_sections": [],
      "toc_visible": true
    },
    "kernelspec": {
      "name": "python3",
      "display_name": "Python 3"
    },
    "accelerator": "GPU"
  },
  "cells": [
    {
      "cell_type": "code",
      "metadata": {
        "id": "NhPMDESLt-R1"
      },
      "source": [
        "!pip install skorch"
      ],
      "execution_count": null,
      "outputs": []
    },
    {
      "cell_type": "code",
      "metadata": {
        "id": "pcCNoRg2uJf-"
      },
      "source": [
        "import os\n",
        "import glob\n",
        "import tqdm\n",
        "import numpy as np\n",
        "import pandas as pd\n",
        "import pickle\n",
        "import matplotlib.pyplot as plt\n",
        "import torch\n",
        "import torch.nn as nn\n",
        "import torch.nn.functional as F\n",
        "import torchvision\n",
        "import skorch\n",
        "from PIL import Image\n",
        "from torchvision import transforms\n",
        "from sklearn.model_selection import train_test_split\n",
        "from sklearn.metrics import mean_absolute_error, r2_score, accuracy_score, roc_auc_score"
      ],
      "execution_count": null,
      "outputs": []
    },
    {
      "cell_type": "markdown",
      "metadata": {
        "id": "EWuESQw7uRxY"
      },
      "source": [
        "# SAT-6 Convolutional Neural Network (20 pts.)\n",
        "\n",
        "Reference: Saikat Basu, Sangram Ganguly, Supratik Mukhopadhyay, Robert Dibiano, Manohar Karki and Ramakrishna Nemani, [DeepSat - A Learning framework for Satellite Imagery](https://arxiv.org/abs/1509.03602), ACM SIGSPATIAL 2015.\n",
        "\n",
        "<img src='https://csc.lsu.edu/~saikat/deepsat/images/sat_img.png'>\n",
        "\n",
        "SAT-6 consists of a total of 405,000 image patches each of size 28x28 and covering 6 landcover classes - barren land, trees, grassland, roads, buildings and water bodies. 324,000 images (comprising of four-fifths of the total dataset) were chosen as the training dataset and 81,000 (one fifths) were chosen as the testing dataset. The training and test sets were selected from disjoint NAIP tiles. Once generated, the images in the dataset were randomized.\n",
        "\n",
        "The MAT file for the SAT-6 dataset contains the following variables:\n",
        "\n",
        "- `train_x`: 28x28x4x324000 uint8 (containing 324000 training samples of 28x28 images each with 4 channels)\n",
        "- `train_y`: 324000x6 uint8 (containing 6x1 vectors having labels for the 324000 training samples)\n",
        "- `test_x`: 28x28x4x81000 uint8 (containing 81000 test samples of 28x28 images each with 4 channels)\n",
        "- `test_y`: 81000x6 uint8 (containing 6x1 vectors having labels for the 81000 test samples) \n",
        "\n",
        "\n"
      ]
    },
    {
      "cell_type": "markdown",
      "metadata": {
        "id": "JmdbBTlUxdfu"
      },
      "source": [
        "### Download the dataset"
      ]
    },
    {
      "cell_type": "code",
      "metadata": {
        "id": "JOuCXHlDuOqh"
      },
      "source": [
        "!gdown --id 0B0Fef71_vt3PUkZ4YVZ5WWNvZWs"
      ],
      "execution_count": null,
      "outputs": []
    },
    {
      "cell_type": "code",
      "metadata": {
        "id": "O7JjTD0Eoz_P"
      },
      "source": [
        "os.system('tar -xvzf SAT-4_and_SAT-6_datasets.tar.gz')"
      ],
      "execution_count": null,
      "outputs": []
    },
    {
      "cell_type": "markdown",
      "metadata": {
        "id": "AFW2NuWMxgBL"
      },
      "source": [
        "### Load the dataset"
      ]
    },
    {
      "cell_type": "code",
      "metadata": {
        "id": "8jp_ljUn6aTa"
      },
      "source": [
        "def load_sat6_dataset():\n",
        "\n",
        "  from scipy.io import loadmat\n",
        "  sat6 = loadmat('sat-6-full.mat')\n",
        "\n",
        "  preprocess = transforms.Compose([transforms.ToTensor(),\n",
        "                                   transforms.Resize((64, 64)),\n",
        "                                   # normalization used on training resnet-50 data\n",
        "                                   transforms.Normalize(mean=[0.7137, 0.6628, 0.6519], \\\n",
        "                                                        std=[0.2970, 0.3017, 0.2979]),])\n",
        "\n",
        "  X_train, X_test, y_train, y_test = sat6['train_x'], sat6['test_x'], sat6['train_y'], sat6['test_y']\n",
        "  X_train = np.transpose(X_train, axes=[3,0,1,2])[:80000]\n",
        "  X_train = np.stack([preprocess(X_train[i, :, :, :3]) for i in range(X_train.shape[0])], axis=0)\n",
        "  X_test = np.transpose(X_test, axes=[3,0,1,2])[:20000]\n",
        "  X_test = np.stack([preprocess(X_test[i, :, :, :3]) for i in range(X_test.shape[0])], axis=0)\n",
        "  y_train = np.argmax(y_train, axis=0)[:80000]\n",
        "  y_test = np.argmax(y_test, axis=0)[:20000]\n",
        "  return X_train, X_test, y_train, y_test\n",
        "\n",
        "X_train, X_test, y_train, y_test = load_sat6_dataset()"
      ],
      "execution_count": null,
      "outputs": []
    },
    {
      "cell_type": "markdown",
      "metadata": {
        "id": "hagSyd_I4flL"
      },
      "source": [
        "## Question 1: Train a convolutional neural network for land use classification (10 pts)\n",
        "Use a pre-trained neural network from `torchvision.models` to fine-tune a land-use classifier using the SAT-6 dataset."
      ]
    },
    {
      "cell_type": "code",
      "metadata": {
        "id": "YVEz1T5IhCfB"
      },
      "source": [
        ""
      ],
      "execution_count": null,
      "outputs": []
    },
    {
      "cell_type": "markdown",
      "metadata": {
        "id": "lQTcEJexhCqJ"
      },
      "source": [
        "## Question 2: Train a convolutional neural network for land use classification with data augmentation (10 pts)\n",
        "Try to improve the performance by adding data augmentation techniques to the `load_sat6_dataset` function."
      ]
    },
    {
      "cell_type": "code",
      "metadata": {
        "id": "d0SJEeRKhNBg"
      },
      "source": [
        ""
      ],
      "execution_count": null,
      "outputs": []
    }
  ]
}