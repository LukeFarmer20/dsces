{
  "nbformat": 4,
  "nbformat_minor": 0,
  "metadata": {
    "colab": {
      "name": "Exam 1.ipynb",
      "provenance": [],
      "collapsed_sections": []
    },
    "kernelspec": {
      "name": "python3",
      "display_name": "Python 3"
    }
  },
  "cells": [
    {
      "cell_type": "markdown",
      "metadata": {
        "id": "qzg1mLPmx7Wm"
      },
      "source": [
        "# CBE 5120 Fall 2020\n",
        "# Exam #1\n",
        "\n",
        "\n",
        "\n",
        "\n",
        "\n"
      ]
    },
    {
      "cell_type": "markdown",
      "metadata": {
        "id": "WynlsYYOgH8I"
      },
      "source": [
        "---\n",
        "# Problem 1: Measurement of Viscocity by Glass Capillary Viscometer  (10 pts)\n",
        "---\n",
        "The glass capillary viscometer is a simple device used to measure the viscocity of a Newtonian fluid. Typically, the time required for a predetermined volume of fluid to flow through a capillary of fixed length $L$ under its own hydrostatic head is measured. This time can be related to the kinematic viscocity of fluid via a relation derived from the Hagen–Poiseuille equation:\n",
        "\n",
        "$$ \\nu = a t \\qquad (1) $$\n",
        "\n",
        "where $\\nu$ is the kinematic viscosity of the fluid, $t$ is the measured flow time, and $a$ is a constant characteristic of the measuring device.\n"
      ]
    },
    {
      "cell_type": "markdown",
      "metadata": {
        "id": "CLIg3447ILr2"
      },
      "source": [
        "A. (10 pts.) You are provided with following data obtained by measuring fluids of known kinematic viscosity `nu` ($mm^2/s$) in a glass capillary viscometer and noting the measured flow time `t` (s), as well as the flow time of an unknown fluid. Determine the constant `a` for the instrument and calculate the kinematic viscosity of the unknown fluid."
      ]
    },
    {
      "cell_type": "code",
      "metadata": {
        "id": "V8iUlhK1nwqI"
      },
      "source": [
        "nu = [2.9, 5.7, 18.0, 54.0, 180.0] # kinematic viscosity (mm**2/s) of known fluids\n",
        "t = [232., 456., 1439., 4319., 14398.] # flow time (s) of known fluids\n",
        "t_unk = [3200.] # flow time(s) of unknown fluid"
      ],
      "execution_count": null,
      "outputs": []
    },
    {
      "cell_type": "markdown",
      "metadata": {
        "id": "4i2N4NyZXdb3"
      },
      "source": [
        "---\n",
        "# Problem 2: Ideal Gas Thermodynamics (20 pts)\n",
        "---\n",
        "The molar enthalpy may be expressed as a function of temperature and pressure $H = H(T, P)$:\n",
        "\n",
        "$$ dH = \\bigg( \\frac{\\partial H}{\\partial T} \\bigg)_P dT + \\bigg( \\frac{\\partial H}{\\partial P} \\bigg)_T dP \\qquad (2) $$\n",
        "\n",
        "For any constant-pressure process, we can simplify this expression to:\n",
        "$$ dH = C_P dT \\qquad (3) $$ \n",
        "\n",
        "where $C_P$ is the heat capacity of the gas. The temperature dependence of the heat capacity of a gas is given by the empirical equation:\n",
        "\n",
        "$$ \\frac{C_P}{R} = A + BT + CT^2 \\qquad (4) $$\n",
        "\n",
        "where T is temperature given in units of Kelvin.\n",
        "\n",
        "Finally, for a mechanically-reversible, constant-pressure, closed system process we can relate the steady flow heat transfer, $Q$, to the enthalpy and heat capacity by:\n",
        "\n",
        "$$ Q = \\Delta H = \\int_{T_1}^{T_2} C_P dT \\qquad (5) $$"
      ]
    },
    {
      "cell_type": "markdown",
      "metadata": {
        "id": "nA1qyniTck0Y"
      },
      "source": [
        "A. (10 pts) The dimensionless heat capacity, $C_P/R$, at a set of temperatures, $T$, is measured given 1 mol of an unknown gas and given below. Determine the values of A, B, and C in Eqn (4)."
      ]
    },
    {
      "cell_type": "code",
      "metadata": {
        "id": "-uTcFtctcjSW"
      },
      "source": [
        "CP_R = [12.0, 15.7, 19.0, 22.1] # C_p / R (dimensionless)\n",
        "T = [273.15, 373.15, 473.15, 573.15] # Kelvin"
      ],
      "execution_count": null,
      "outputs": []
    },
    {
      "cell_type": "markdown",
      "metadata": {
        "id": "Gxw8HLQ_cmMF"
      },
      "source": [
        "B. (10 pts) Calculate the final temperature $T_2$ when heat in the amount of 10 kJ/mol is added to 1 mol of the unknown substance initially at 300 K in a steady flow process at 1 atm."
      ]
    },
    {
      "cell_type": "code",
      "metadata": {
        "id": "yIXfUAJCcm6f"
      },
      "source": [
        ""
      ],
      "execution_count": null,
      "outputs": []
    },
    {
      "cell_type": "markdown",
      "metadata": {
        "id": "A_PiUaXOn2W1"
      },
      "source": [
        "---\n",
        "# Problem 3: Michaelis-Menten kinetics  (20 pts)\n",
        "---\n",
        "Consider the Michaelis-Menten reaction:\n",
        "\n",
        "$$ E + S \\longleftrightarrow ES \\longrightarrow E + P \\qquad (6) $$\n",
        "\n",
        "This reaction model describes an enzyme (E) binding to a substrate (S) to form a complex (ES) which releases the final product (P) and regenerates the enzyme. The first reaction step is described by the forward rate constant $k_f$ and backward rate constant $k_r$ and the second step is described by the catalytic rate constant $k_{cat}$.\n",
        "\n",
        "The rate of change for each chemical species is given by the following set of equations:\n",
        "\n",
        "$$ \\frac{d[E]}{dt} = -k_f [E] [S] + k_r [ES] + k_{cat} [ES] \\qquad (7) $$\n",
        "$$ \\frac{d[S]}{dt} = -k_f [E] [S] + k_r [ES] \\qquad (8) $$\n",
        "$$ \\frac{d[ES]}{dt} = k_f [E] [S] - k_r [ES] - k_{cat} [ES] \\qquad (9) $$\n",
        "$$ \\frac{d[P]}{dt} = k_{cat} [ES] \\qquad (10) $$"
      ]
    },
    {
      "cell_type": "markdown",
      "metadata": {
        "id": "9Adz8s1jG9P3"
      },
      "source": [
        "A. (10 pts.) Given the following set of reaction rate parameters, determine the concentration of each species [S], [E], [ES], and [P] over time. Estimate graphically the time required to reach 90% conversion."
      ]
    },
    {
      "cell_type": "code",
      "metadata": {
        "id": "5ULqDBcjG-Dt"
      },
      "source": [
        "# Assume the following set of parameters:\n",
        "kf = 0.5 # forward rate constant, mol/L/s\n",
        "kr = 0.001 # backward rate constant, mol/L/s\n",
        "kcat = 0.14 # catalytic rate constant, /s\n",
        "S0 = 1.0 # inital concentration of substrate, mol/L\n",
        "E0 = 0.1 # initial concentration of enzyme, mol/L\n",
        "ES0 = 0.0 # initial concentration of complex, mol/L\n",
        "P0 = 0.0 # initial concentration of product, mol/L\n",
        "t_span = [0, 200.] # time, s"
      ],
      "execution_count": null,
      "outputs": []
    },
    {
      "cell_type": "markdown",
      "metadata": {
        "id": "_MBfUIssnc6j"
      },
      "source": [
        "B. (10 pts.) Under the assumption that the enzyme concentration [E] is much less than the substrate concentration [S], Eqn. 10 may be written as:\n",
        "\n",
        "$$ r = \\frac{d[P]}{dt} = \\frac{V_{max} [S]}{K_M + [S]} \\qquad (11) $$\n",
        "\n",
        "where $K_M = \\frac{k_r + k_{cat}}{k_f}$ is the Michaelis constant, $V_{max} = k_{cat} [E]_0$ is the maximum rate of reaction, and $[E]_0$ is the initial enzyme concentration. By measuring the initial rate $r_0$ as a function of substrate concentration [S], one may determine the values of $K_M$ and $V_{max}$. Using the following measurements, estimate the Michaelis constant and maximum rate of reaction."
      ]
    },
    {
      "cell_type": "code",
      "metadata": {
        "id": "VezIWS_qndVA"
      },
      "source": [
        "r0 = [7.30, 7.61, 7.71, 7.76, 7.79, 7.80, 7.82, 7.84, 7.84, 7.84]\n",
        "S = [0.1, 0.2, 0.3, 0.4, 0.5, 0.6, 0.7, 0.8, 0.9, 1.0]"
      ],
      "execution_count": null,
      "outputs": []
    },
    {
      "cell_type": "markdown",
      "metadata": {
        "id": "o1B8k3qQn_P6"
      },
      "source": [
        "---\n",
        "# Problem 4: Start-up of Poiseuille flow in a pipe (30 pts)\n",
        "---\n",
        "The Navier-Stokes equation for the time-dependent velocity profile $u(r,t)$ describing start-up of Poiseuille flow in a pipe of radius $R$ is given:\n",
        "\n",
        "$$ \\frac{\\partial u}{\\partial t} = \\frac{G}{\\rho} + \\frac{\\mu}{\\rho} \\bigg( \\frac{\\partial^2 u}{\\partial r^2} + \\frac{1}{r} \\frac{\\partial u}{\\partial r} \\bigg) \\qquad u(r,0) = 0, \\quad u(R, t) = 0 \\qquad (12) $$\n",
        "\n",
        "where $G$ is the (constant) pressure gradient, $\\rho$ the fluid density, $\\mu$ the viscocity.\n",
        "\n",
        "The analytical solution of this equation is given as:\n",
        "\n",
        "$$ u(r,t) = \\frac{G}{4 \\mu}(R^2 - r^2) - \\frac{2 G R^2}{\\mu} \\sum_{n=1}^{\\infty} \\frac{1}{\\lambda_n^3} \\frac{J_0(\\lambda_n r/R)}{J_1(\\lambda_n)}e^{-\\lambda_n^2 \\frac{\\mu t}{\\rho R^2}} \\qquad (13) $$\n",
        "\n",
        "Where $J_0$ is the Bessel function of the first kind order zero, $J_1$ is the Bessel function of the first kind order one, and $\\lambda_n$ are the positive roots of $J_0$ obtained by solving:\n",
        "\n",
        "$$ J_0(\\lambda_n) = 0 \\qquad n = 1,.., \\infty  \\qquad (14) $$"
      ]
    },
    {
      "cell_type": "code",
      "metadata": {
        "id": "mB7X3651T8iY"
      },
      "source": [
        ""
      ],
      "execution_count": null,
      "outputs": []
    },
    {
      "cell_type": "markdown",
      "metadata": {
        "id": "v_9QqRosC6kS"
      },
      "source": [
        "A. (10 pts) Plot the Bessel function of the first kind order zero, $J_0(x)$, for x>0 and estimate the first 5 roots of this function. HINT: The Bessel function of the first kind of order $v$, $J_v(x)$, can be calculated with the function `scipy.special.jn(v, x)`. "
      ]
    },
    {
      "cell_type": "code",
      "metadata": {
        "id": "gf_xldWVoDSC"
      },
      "source": [
        ""
      ],
      "execution_count": null,
      "outputs": []
    },
    {
      "cell_type": "markdown",
      "metadata": {
        "id": "51y3N3gEC37K"
      },
      "source": [
        "B. (10 pts) Using the estimates of the roots obtained in Part A, obtain the numerical values of the first 5 roots $\\lambda_1$, .., $\\lambda_5$."
      ]
    },
    {
      "cell_type": "code",
      "metadata": {
        "id": "uGUaAppvC7Xa"
      },
      "source": [
        ""
      ],
      "execution_count": null,
      "outputs": []
    },
    {
      "cell_type": "markdown",
      "metadata": {
        "id": "93xtoKNUVXV8"
      },
      "source": [
        "C. (10 pts) Given the following set of physical parameters and desired time points $t$, plot the velocity profile $u(r, t)$ by approximating the infinite sum in Eqn. X as a finite sum 5 terms."
      ]
    },
    {
      "cell_type": "code",
      "metadata": {
        "id": "Nf8XmkCkVYOw"
      },
      "source": [
        "R = 10.0 # m\n",
        "G = 1.0 # Pa\n",
        "mu = 10. # kg/m/s or Pa*s\n",
        "rho = 1.0 # kg/m**3\n",
        "ts = [1e-2, 1e-1, 0.2, 0.4, 0.8, 1.0] # s"
      ],
      "execution_count": null,
      "outputs": []
    },
    {
      "cell_type": "markdown",
      "metadata": {
        "id": "nEdlOrwSoErZ"
      },
      "source": [
        "---\n",
        "# Problem 5: Electrically Heated Stirred Tank (20 pts)\n",
        "---\n",
        "\n",
        "<center><img src=\"https://i.imgur.com/mEmGtzV.png\"></center>\n",
        "\n",
        "We consider a stirred-tank heating system of volume $V$ with constant holdup. Suppose that the metal heating element has a significant thermal capacitance and that the electrical heating rate $Q$ directly affects the temperature of the heating element, $T_e$, rather than the temperature of the liquid contents of the tank, $T$. We neglect the temperature gradients in the heating element and assume that the element has a uniform temperature that can be interpreted as the average temperature of the heating element.\n",
        "\n",
        "The unsteady-state energy balances for the tank and the heating element can be written as:\n",
        "\n",
        "$$ mC\\frac{dT}{dt} = wC(T_i - T) + h_e A_e (T_e - T) \\qquad (15)$$\n",
        "$$ m_e C_e \\frac{dT_e}{dt} = Q - h_e A_e (T_e - T) \\qquad (16) $$\n",
        "\n",
        "where $m = V\\rho$ is the total mass of fluid in the stirred-tank, $C$ is the heat capacity of the fluid, $C_e$ is the heat capacity of the heating element, $w$ is the outlet flow rate, $h_e$ is the heat transfer coefficient of the heating element, $A_e$ is the surface area of the heating element, $Q$ is the instantaneous power dissipation in the heating element, $T_i$ is the inlet temperature.\n",
        "\n"
      ]
    },
    {
      "cell_type": "markdown",
      "metadata": {
        "id": "AEJORjtvAjgo"
      },
      "source": [
        "A. (10 pts) At steady-state, the Eqns 15 and 16 can be simplified to a set of linear algebraic equations. Solve the linear system of equations to determine the steady-state temperature of the tank and heating element given the following set of physical parameters: \n",
        "\n",
        "$mC$ = 200 kcal/°C\n",
        "\n",
        "$wC$ = 20 kcal/min/°C\n",
        "\n",
        "$h_e A_e$ = 20 kcal/min/°C\n",
        "\n",
        "$m_e C_e$ = 10 kcal/°C\n",
        "\n",
        "$Q$ = 5000 kcal/min\n",
        "\n",
        "$T_i$ = 100 °C"
      ]
    },
    {
      "cell_type": "code",
      "metadata": {
        "id": "EA7Lho09oGjS"
      },
      "source": [
        ""
      ],
      "execution_count": null,
      "outputs": []
    },
    {
      "cell_type": "markdown",
      "metadata": {
        "id": "79aIS-Q4Cor6"
      },
      "source": [
        "B. (10 pts) Assume that the process is initially at the steady state determined in part A. Calculate and plot the response, T(t), to a sudden change in Q from 5000 to 5400 kcal/min. What is the new steady-state temperature?"
      ]
    },
    {
      "cell_type": "code",
      "metadata": {
        "id": "Gv5YiHMPC0oA"
      },
      "source": [
        ""
      ],
      "execution_count": null,
      "outputs": []
    }
  ]
}