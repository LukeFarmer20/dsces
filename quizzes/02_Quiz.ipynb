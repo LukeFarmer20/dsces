{
 "cells": [
  {
   "cell_type": "markdown",
   "metadata": {},
   "source": [
    "# Quiz 2"
   ]
  },
  {
   "cell_type": "markdown",
   "metadata": {},
   "source": [
    "### Problem 1. Evaluate the integral given the following data (5 pts.)\n",
    "\n",
    "$$ \\int_{T_0}^{T_1} A + BT + CT^2 + DT^{-2} dT $$"
   ]
  },
  {
   "cell_type": "code",
   "execution_count": null,
   "metadata": {},
   "outputs": [],
   "source": [
    "data = {'A': 1.702,\n",
    "       'B': 9.081*10**-3,\n",
    "       'C': -2.164*10**-6,\n",
    "       'D': 0.0,\n",
    "       'T0': 298.15,\n",
    "       'T1': 500.0}"
   ]
  },
  {
   "cell_type": "code",
   "execution_count": null,
   "metadata": {},
   "outputs": [],
   "source": []
  },
  {
   "cell_type": "markdown",
   "metadata": {},
   "source": [
    "### Problem 2. Exit concentration of a plug flow reactor\n",
    "\n",
    "Given the equation:\n",
    "    \n",
    "$$ V = \\int_{F_{A0}}^{F_A} r_A^{-1} dF_A $$\n",
    "\n",
    "and constants:\n",
    "\n",
    "$ V = $ 200 L\n",
    "\n",
    "$ F_{A0} = $ 2 mol/min\n",
    "\n",
    "$ \\nu = $ 10 L/min\n",
    "\n",
    "$ r_A =  -k C_A^2 $\n",
    "\n",
    "$ k = $ 0.5 L/mol/min\n",
    "\n",
    "Solve for the exit molar flow rate, $F_A = \\nu C_A$."
   ]
  },
  {
   "cell_type": "markdown",
   "metadata": {},
   "source": [
    "### A: Define a function to evaluate the integral with `scipy.integrate.quad` (5 pts.)"
   ]
  },
  {
   "cell_type": "code",
   "execution_count": null,
   "metadata": {},
   "outputs": [],
   "source": []
  },
  {
   "cell_type": "markdown",
   "metadata": {},
   "source": [
    "### B: Plot the function to find an initial guess for $F_A$ (5 pts.)"
   ]
  },
  {
   "cell_type": "code",
   "execution_count": null,
   "metadata": {},
   "outputs": [],
   "source": []
  },
  {
   "cell_type": "markdown",
   "metadata": {},
   "source": [
    "### C: Use the initial guess to solve the equation (5 pts.)"
   ]
  },
  {
   "cell_type": "code",
   "execution_count": null,
   "metadata": {},
   "outputs": [],
   "source": []
  }
 ],
 "metadata": {
  "kernelspec": {
   "display_name": "Python 3",
   "language": "python",
   "name": "python3"
  },
  "language_info": {
   "codemirror_mode": {
    "name": "ipython",
    "version": 3
   },
   "file_extension": ".py",
   "mimetype": "text/x-python",
   "name": "python",
   "nbconvert_exporter": "python",
   "pygments_lexer": "ipython3",
   "version": "3.6.9"
  }
 },
 "nbformat": 4,
 "nbformat_minor": 4
}
