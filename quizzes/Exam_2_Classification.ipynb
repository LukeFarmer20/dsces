{
  "nbformat": 4,
  "nbformat_minor": 0,
  "metadata": {
    "colab": {
      "name": "Classification.ipynb",
      "provenance": [],
      "collapsed_sections": [],
      "toc_visible": true
    },
    "kernelspec": {
      "name": "python3",
      "display_name": "Python 3"
    }
  },
  "cells": [
    {
      "cell_type": "code",
      "metadata": {
        "id": "mNgBUsKedwUs"
      },
      "source": [
        "!wget -c https://repo.continuum.io/miniconda/Miniconda3-py37_4.8.3-Linux-x86_64.sh\n",
        "!chmod +x Miniconda3-py37_4.8.3-Linux-x86_64.sh\n",
        "!time bash ./Miniconda3-py37_4.8.3-Linux-x86_64.sh -b -f -p /usr/local\n",
        "!time conda install -q -y -c conda-forge rdkit=2020.09.2\n",
        "\n",
        "import sys\n",
        "sys.path.append('/usr/local/lib/python3.7/site-packages/')"
      ],
      "execution_count": null,
      "outputs": []
    },
    {
      "cell_type": "code",
      "metadata": {
        "id": "ZirjlLBNzb6l"
      },
      "source": [
        "import os\n",
        "import numpy as np\n",
        "import pandas as pd\n",
        "import matplotlib.pyplot as plt\n",
        "from scipy import stats\n",
        "from rdkit import Chem\n",
        "from rdkit.Chem import AllChem\n",
        "from rdkit.Chem.Draw import IPythonConsole\n",
        "from rdkit.Chem import Draw\n",
        "from sklearn.ensemble import RandomForestRegressor"
      ],
      "execution_count": null,
      "outputs": []
    },
    {
      "cell_type": "markdown",
      "metadata": {
        "id": "wKYwllsJWRpG"
      },
      "source": [
        "# Classification (60 pts.)"
      ]
    },
    {
      "cell_type": "markdown",
      "metadata": {
        "id": "HvK0rB_cYZex"
      },
      "source": [
        "## Tox21: Toxicity in the 21st Century Challenge\n",
        "\n",
        "Wu, Z., Ramsundar, B., Feinberg, E.N., Gomes, J., Geniesse, C., Pappu, A.S., Leswing, K. and Pande, V., <a href='https://pubs.rsc.org/--/content/articlehtml/2018/sc/c7sc02664a'>MoleculeNet: a benchmark for molecular machine learning</a>. Chemical Science, 9(2), 513-530, 2018.\n",
        "\n",
        "### qHTS assay for small molecule agonists of the p53 signaling pathway\n",
        "\n",
        "p53, a tumor suppressor protein, is activated following cellular insult, including DNA damage and other cellular stresses. The activation of p53 regulates cell fate by inducing DNA repair, cell cycle arrest, apoptosis, or cellular senescence. The activation of p53, therefore, is a good indicator of DNA damage and other cellular stresses. The CellSensor p53RE-bla HCT-116 cell line (Invitrogen) contains a stably integrated beta-lactamase (BLA) reporter gene under control of the p53 response elements. The activation of the reporter gene under culture conditions can be detected by fluorescence intensity. This cell line was used to screen the Tox21 compound library in a 1536-well plate format and to identify agonists that activate the p53 signaling pathway. The cytotoxicity of the Tox21 compound library against the p53 RE-bla HCT-116 cell line was tested in parallel by measuring the intra cellular ATP content in the same wells. (<a href='https://pubchem.ncbi.nlm.nih.gov/bioassay/720552'>Source</a>)"
      ]
    },
    {
      "cell_type": "code",
      "metadata": {
        "id": "MZUSVe5BWTYu"
      },
      "source": [
        "import os\n",
        "os.system(\"wget https://tripod.nih.gov/tox21/challenge/download?id=sr-p53smiles&sec=\")"
      ],
      "execution_count": null,
      "outputs": []
    },
    {
      "cell_type": "code",
      "metadata": {
        "id": "WS8G4_trORC1"
      },
      "source": [
        "os.system(\"mv download?id=sr-p53smiles p53.smiles\")"
      ],
      "execution_count": null,
      "outputs": []
    },
    {
      "cell_type": "code",
      "metadata": {
        "id": "Pk-cTRdgN13G"
      },
      "source": [
        "df = pd.read_csv('p53.smiles', delimiter='\\t', names=['smiles', 'toxid', 'y'])\n",
        "df"
      ],
      "execution_count": null,
      "outputs": []
    },
    {
      "cell_type": "markdown",
      "metadata": {
        "id": "cKMlnUeOx4vP"
      },
      "source": [
        "## Question 1: Dataset construction (10 pts.)\n",
        "\n",
        "Refer to previous examples done in class and homework (e.g. `HW_Random_Forest_Classification`) for information on how to featurize a set of SMILES strings using `rdkit`. For this example, convert the SMILES string to an rdkit `Mol` object and use the rdkit Morgan Circular Fingerprint algorithm with a radius of 5 and number of bits 1024 (`AllChem.GetMorganFingerprintAsBitVect(mol, radius=5, nBits=1024)`) to produce the design matrix `X`. The prediction task `y` is binary classification."
      ]
    },
    {
      "cell_type": "code",
      "metadata": {
        "id": "ARKmm3vpkSlQ"
      },
      "source": [
        ""
      ],
      "execution_count": null,
      "outputs": []
    },
    {
      "cell_type": "markdown",
      "metadata": {
        "id": "oCek7CISk-kh"
      },
      "source": [
        "## Question 2: Data Visualization (10 pts.)\n",
        "\n",
        "Visualize the distribution of labels. Is there a class imbalance present in the dataset? Next, visualize some of the molecules using the provided helper function, `smiles_to_img()`."
      ]
    },
    {
      "cell_type": "code",
      "metadata": {
        "id": "kXKSYLj-lBOO"
      },
      "source": [
        "def smiles_to_img(smiles):\n",
        "  \"\"\" Converts smiles string to image\n",
        "\n",
        "  Parameters:\n",
        "  -----------\n",
        "  smiles: string\n",
        "    smiles string representing a molecule.\n",
        "\n",
        "  Returns:\n",
        "  --------\n",
        "  None\n",
        "  \"\"\"\n",
        "\n",
        "  m = Chem.MolFromSmiles(smiles)\n",
        "  img = Draw.MolToImage(m)\n",
        "  display(img)\n",
        "  return None"
      ],
      "execution_count": null,
      "outputs": []
    },
    {
      "cell_type": "code",
      "metadata": {
        "id": "36md-eLxhFZM"
      },
      "source": [
        ""
      ],
      "execution_count": null,
      "outputs": []
    },
    {
      "cell_type": "markdown",
      "metadata": {
        "id": "07reIHnHmQsX"
      },
      "source": [
        "## Question 3: Random Forest Classification and Hyperparameter Search (10 pts.)\n",
        "\n",
        "Split the dataset into 80% training and 20% testing. Construct a hyperparameter search for the hyperparameter `n_estimators` or number of decision trees. Use 5-fold cross-validation to find the optimal value for this parameter based on validation accuracy score. Comment on how you decided on the maximum and minimum values for your hyperparameter search and how, if at all, the validation score depends on this hyperparameter. Determine the performance on the test using the accuracy score and ROC-AUC score metrics.\n"
      ]
    },
    {
      "cell_type": "code",
      "metadata": {
        "id": "6dzsD4MbmVl5"
      },
      "source": [
        ""
      ],
      "execution_count": null,
      "outputs": []
    },
    {
      "cell_type": "markdown",
      "metadata": {
        "id": "LIXe42kfmWll"
      },
      "source": [
        "## Question 4: Feature Importance and Visualization (10 pts.)\n",
        "\n",
        "Determine the most important features of the dataset using the `RandomForestRegressor.feature_importances_` attribute. Each feature corresponds to a molecular functional group. Visualize the important functions groups for a few molecules. For information on how to produce the appropriate visualizations, see the function `view_feature_importances()` in `HW_Random_Forest_Classificaiton`."
      ]
    },
    {
      "cell_type": "code",
      "metadata": {
        "id": "JaBeo8WHmZgr"
      },
      "source": [
        ""
      ],
      "execution_count": null,
      "outputs": []
    },
    {
      "cell_type": "markdown",
      "metadata": {
        "id": "BTQrXj9Xzx06"
      },
      "source": [
        "## Question 5: Neural Network Classification (10 pts.)\n",
        "\n",
        "Build a neural network with 2 hidden layers and `nn.ReLU()` activation functions. Use `skorch` to optimize the parameters of the neural network. To the best of your ability, tune the dimension of the hidden layers and the learning rate to optimize the validation score. Feel free to also make the model deeper or add regularization such as batch normalization or dropout. Determine the performance on the test using the accuracy score and ROC-AUC score metrics."
      ]
    },
    {
      "cell_type": "code",
      "metadata": {
        "id": "M0IUSHNshVD7"
      },
      "source": [
        ""
      ],
      "execution_count": null,
      "outputs": []
    },
    {
      "cell_type": "markdown",
      "metadata": {
        "id": "j2V439Jo0SAV"
      },
      "source": [
        "## Question 6: Classification Score Metrics (10 pts.)\n",
        "\n",
        "In your own words, with or without formulas, state the definitions of the accuracy score and ROC AUC score. How do the model predictions (i.e. true positive predictions, true negative predictions, false positive predictions, false negative predictions) affect each metric?"
      ]
    },
    {
      "cell_type": "code",
      "metadata": {
        "id": "fllqki7H1BrS"
      },
      "source": [
        ""
      ],
      "execution_count": null,
      "outputs": []
    }
  ]
}