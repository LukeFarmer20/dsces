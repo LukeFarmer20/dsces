{
 "cells": [
  {
   "cell_type": "markdown",
   "metadata": {},
   "source": [
    "# Fitting Data to Polynomial Function"
   ]
  },
  {
   "cell_type": "code",
   "execution_count": null,
   "metadata": {},
   "outputs": [],
   "source": [
    "import numpy as np\n",
    "import matplotlib.pyplot as plt\n",
    "from scipy.optimize import curve_fit"
   ]
  },
  {
   "cell_type": "code",
   "execution_count": null,
   "metadata": {},
   "outputs": [],
   "source": [
    "x = np.array([-4.7, -4.49, -3.89, -3.69, -3.38, \n",
    "               -3.08, -2.98, -2.68, -1.67, -1.16, \n",
    "               -1.06, -1.06, -0.56, -0.35, 1.97, \n",
    "               2.47, 2.68, 3.28, 3.48, 4.19])\n",
    "\n",
    "y = np.array([-447.59, -382.38, -228.7, -189.64, -140.7, \n",
    "               -101.92, -90.98, -63.45, -14.56, -5.96, \n",
    "               -4.97, -4.97, -2.37, -2.01, 2.78, \n",
    "               2.34, 1.06, -9.32, -15.79, -56.28])"
   ]
  },
  {
   "cell_type": "markdown",
   "metadata": {},
   "source": [
    "### Hint: Try using `np.polyfit` and varying the polynomial degree. Find the smallest value that \"looks right\"."
   ]
  },
  {
   "cell_type": "code",
   "execution_count": null,
   "metadata": {},
   "outputs": [],
   "source": []
  },
  {
   "cell_type": "markdown",
   "metadata": {},
   "source": [
    "### Plot the data points (`plt.scatter`) and fit (`plt.plot`)"
   ]
  },
  {
   "cell_type": "code",
   "execution_count": null,
   "metadata": {},
   "outputs": [],
   "source": []
  }
 ],
 "metadata": {
  "kernelspec": {
   "display_name": "Python 3",
   "language": "python",
   "name": "python3"
  },
  "language_info": {
   "codemirror_mode": {
    "name": "ipython",
    "version": 3
   },
   "file_extension": ".py",
   "mimetype": "text/x-python",
   "name": "python",
   "nbconvert_exporter": "python",
   "pygments_lexer": "ipython3",
   "version": "3.5.6"
  }
 },
 "nbformat": 4,
 "nbformat_minor": 4
}
