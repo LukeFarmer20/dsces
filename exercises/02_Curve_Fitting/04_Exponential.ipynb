{
 "cells": [
  {
   "cell_type": "markdown",
   "metadata": {},
   "source": [
    "# Fitting Data to Exponential Function"
   ]
  },
  {
   "cell_type": "code",
   "execution_count": 2,
   "metadata": {},
   "outputs": [],
   "source": [
    "import numpy as np\n",
    "import matplotlib.pyplot as plt\n",
    "from scipy.optimize import curve_fit"
   ]
  },
  {
   "cell_type": "code",
   "execution_count": 3,
   "metadata": {},
   "outputs": [],
   "source": [
    "x = np.array([-5.0, -4.49, -4.29, -3.59, -3.48, \n",
    "               -2.27, -1.57, -0.86, -0.45, -0.15, \n",
    "               1.46, 1.97, 3.18, 3.28, 3.48, \n",
    "               3.79, 3.79, 4.19, 4.49, 4.49])\n",
    "\n",
    "y = np.array([24.39, 18.86, 17.2, 12.07, 11.4, \n",
    "               6.41, 4.25, 3.07, 2.42, 2.14, \n",
    "               0.94, 0.68, 0.33, 0.29, 0.19, \n",
    "               0.15, 0.15, 0.3, 0.31, 0.31])"
   ]
  },
  {
   "cell_type": "markdown",
   "metadata": {},
   "source": [
    "### Hint: Try using `curve_fit` with the functional form: $c_0 exp(kx)$"
   ]
  },
  {
   "cell_type": "code",
   "execution_count": null,
   "metadata": {},
   "outputs": [],
   "source": []
  },
  {
   "cell_type": "markdown",
   "metadata": {},
   "source": [
    "### Plot the data points (`plt.scatter`) and fit (`plt.plot`)"
   ]
  },
  {
   "cell_type": "code",
   "execution_count": null,
   "metadata": {},
   "outputs": [],
   "source": []
  }
 ],
 "metadata": {
  "kernelspec": {
   "display_name": "Python 3",
   "language": "python",
   "name": "python3"
  },
  "language_info": {
   "codemirror_mode": {
    "name": "ipython",
    "version": 3
   },
   "file_extension": ".py",
   "mimetype": "text/x-python",
   "name": "python",
   "nbconvert_exporter": "python",
   "pygments_lexer": "ipython3",
   "version": "3.5.6"
  }
 },
 "nbformat": 4,
 "nbformat_minor": 4
}
