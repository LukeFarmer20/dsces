{
 "cells": [
  {
   "cell_type": "markdown",
   "metadata": {},
   "source": [
    "# Fitting Data to Power Law Function"
   ]
  },
  {
   "cell_type": "code",
   "execution_count": 2,
   "metadata": {},
   "outputs": [],
   "source": [
    "import numpy as np\n",
    "import matplotlib.pyplot as plt\n",
    "from scipy.optimize import curve_fit"
   ]
  },
  {
   "cell_type": "code",
   "execution_count": 3,
   "metadata": {},
   "outputs": [],
   "source": [
    "xx = np.array([0.05, 0.25, 0.35, 0.4, 0.61, \n",
    "               0.86, 1.01, 1.06, 1.21, 1.26, \n",
    "               1.77, 1.97, 2.63, 3.08, 3.23, \n",
    "               3.33, 3.79, 4.09, 4.49, 4.65])\n",
    "\n",
    "yy = np.array([0.01, 0.43, -0.11, 0.36, 0.78, \n",
    "               1.06, 1.08, 1.43, 1.6, 1.69, \n",
    "               2.66, 2.74, 5.21, 6.08, 7.32, \n",
    "               7.01, 8.85, 10.12, 11.31, 11.83])"
   ]
  },
  {
   "cell_type": "markdown",
   "metadata": {},
   "source": [
    "### Hint: Try using `curve_fit` with the functional form: $c_0 * x^k$"
   ]
  },
  {
   "cell_type": "code",
   "execution_count": null,
   "metadata": {},
   "outputs": [],
   "source": []
  },
  {
   "cell_type": "markdown",
   "metadata": {},
   "source": [
    "### Plot the data points (`plt.scatter`) and fit (`plt.plot`)"
   ]
  },
  {
   "cell_type": "code",
   "execution_count": null,
   "metadata": {},
   "outputs": [],
   "source": []
  }
 ],
 "metadata": {
  "kernelspec": {
   "display_name": "Python 3",
   "language": "python",
   "name": "python3"
  },
  "language_info": {
   "codemirror_mode": {
    "name": "ipython",
    "version": 3
   },
   "file_extension": ".py",
   "mimetype": "text/x-python",
   "name": "python",
   "nbconvert_exporter": "python",
   "pygments_lexer": "ipython3",
   "version": "3.5.6"
  }
 },
 "nbformat": 4,
 "nbformat_minor": 4
}
