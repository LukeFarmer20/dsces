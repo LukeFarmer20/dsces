{
 "cells": [
  {
   "cell_type": "markdown",
   "metadata": {},
   "source": [
    "# Fitting Data to Linear Function"
   ]
  },
  {
   "cell_type": "code",
   "execution_count": 1,
   "metadata": {},
   "outputs": [],
   "source": [
    "import numpy as np\n",
    "import matplotlib.pyplot as plt\n",
    "from scipy.optimize import curve_fit"
   ]
  },
  {
   "cell_type": "code",
   "execution_count": null,
   "metadata": {},
   "outputs": [],
   "source": [
    "x = np.array([1.67, 0.25, 1.57, -3.38, 2.17, \n",
    "               1.97, -0.05, -1.36, -3.08, 2.58, \n",
    "               -0.45, 3.08, 1.06, 2.88, 5.0, \n",
    "               1.06, -0.25, -2.78, 4.09, -0.05])\n",
    "\n",
    "y = np.array([2.71, 2.41, 2.71, 0.35, 2.82, \n",
    "               2.82, 1.74, 1.28, 0.67, 2.92, \n",
    "               1.93, 3.27, 2.17, 3.31, 4.19, \n",
    "               2.17, 1.73, 0.95, 3.77, 1.74])"
   ]
  },
  {
   "cell_type": "markdown",
   "metadata": {},
   "source": [
    "### Hint: try using `np.polyfit` with a 1-degree polynomial"
   ]
  },
  {
   "cell_type": "code",
   "execution_count": null,
   "metadata": {},
   "outputs": [],
   "source": []
  },
  {
   "cell_type": "markdown",
   "metadata": {},
   "source": [
    "### Plot the data points (`plt.scatter`) and fit (`plt.plot`)"
   ]
  },
  {
   "cell_type": "code",
   "execution_count": null,
   "metadata": {},
   "outputs": [],
   "source": []
  }
 ],
 "metadata": {
  "kernelspec": {
   "display_name": "Python 3",
   "language": "python",
   "name": "python3"
  },
  "language_info": {
   "codemirror_mode": {
    "name": "ipython",
    "version": 3
   },
   "file_extension": ".py",
   "mimetype": "text/x-python",
   "name": "python",
   "nbconvert_exporter": "python",
   "pygments_lexer": "ipython3",
   "version": "3.5.6"
  }
 },
 "nbformat": 4,
 "nbformat_minor": 4
}
