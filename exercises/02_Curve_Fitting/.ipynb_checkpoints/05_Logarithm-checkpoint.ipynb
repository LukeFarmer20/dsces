{
 "cells": [
  {
   "cell_type": "markdown",
   "metadata": {},
   "source": [
    "# Fitting Data to Natural Logarithm Function"
   ]
  },
  {
   "cell_type": "code",
   "execution_count": 2,
   "metadata": {},
   "outputs": [],
   "source": [
    "import numpy as np\n",
    "import matplotlib.pyplot as plt\n",
    "from scipy.optimize import curve_fit"
   ]
  },
  {
   "cell_type": "code",
   "execution_count": 3,
   "metadata": {},
   "outputs": [],
   "source": [
    "xx = np.array([0.05, 0.4, 0.61, 1.11, 1.11, \n",
    "               1.31, 1.57, 2.22, 2.32, 2.37, \n",
    "               2.47, 2.63, 2.73, 3.13, 3.48, \n",
    "               3.54, 3.59, 3.64, 3.79, 4.9])\n",
    "\n",
    "yy = np.array([-4.79, 1.32, 2.64, 4.47, 4.47, \n",
    "               4.59, 5.68, 6.35, 6.16, 6.64, \n",
    "               6.94, 7.18, 6.92, 7.91, 7.82, \n",
    "               7.95, 8.33, 8.19, 7.86, 8.66])"
   ]
  },
  {
   "cell_type": "markdown",
   "metadata": {},
   "source": [
    "### Hint: Try using `curve_fit` with the functional form: $c_0 ln(kx)$. Note that the natural logarithm function in `numpy` is `np.log`."
   ]
  },
  {
   "cell_type": "code",
   "execution_count": null,
   "metadata": {},
   "outputs": [],
   "source": []
  },
  {
   "cell_type": "markdown",
   "metadata": {},
   "source": [
    "### Plot the data points (`plt.scatter`) and fit (`plt.plot`)"
   ]
  },
  {
   "cell_type": "code",
   "execution_count": null,
   "metadata": {},
   "outputs": [],
   "source": []
  }
 ],
 "metadata": {
  "kernelspec": {
   "display_name": "Python 3",
   "language": "python",
   "name": "python3"
  },
  "language_info": {
   "codemirror_mode": {
    "name": "ipython",
    "version": 3
   },
   "file_extension": ".py",
   "mimetype": "text/x-python",
   "name": "python",
   "nbconvert_exporter": "python",
   "pygments_lexer": "ipython3",
   "version": "3.5.6"
  }
 },
 "nbformat": 4,
 "nbformat_minor": 4
}
