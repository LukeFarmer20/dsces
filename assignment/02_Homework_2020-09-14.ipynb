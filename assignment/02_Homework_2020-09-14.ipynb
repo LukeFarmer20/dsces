{
 "cells": [
  {
   "cell_type": "markdown",
   "metadata": {},
   "source": [
    "# Homework 02"
   ]
  },
  {
   "cell_type": "markdown",
   "metadata": {},
   "source": [
    "## Problem 1: Ideal Gas Thermodynamics"
   ]
  },
  {
   "cell_type": "markdown",
   "metadata": {},
   "source": [
    "The molar enthalpy may be expressed as a function of temperature and pressure $H = H(T, P)$:\n",
    "\n",
    "$$ dH = \\bigg( \\frac{\\partial H}{\\partial T} \\bigg)_P dT + \\bigg( \\frac{\\partial H}{\\partial P} \\bigg)_T dP $$\n",
    "\n",
    "For any constant-pressure process, we can simplify this expression to:\n",
    "$$ dH = C_P dT $$ \n",
    "\n",
    "where $C_P$ is the heat capacity of the gas. The temperature dependence of the heat capacity of a gas is given by the empirical equation:\n",
    "\n",
    "$$ \\frac{C_P}{R} = A + BT + CT^2 + DT^{-2} $$\n",
    "\n",
    "Finally, for a mechanically-reversible, constant-pressure, closed system process we can relate the steady flow heat transfer, $Q$, to the enthalpy and heat capacity by:\n",
    "\n",
    "$$ Q = \\Delta H = \\int_{T_1}^{T_2} C_P dT $$"
   ]
  },
  {
   "cell_type": "markdown",
   "metadata": {},
   "source": [
    "#### Calculate the heat required to raise the temperature of 1 mol of propane from 260$^\\circ$C to 600$^\\circ$C in a steady-flow heat process. Assume the pressure is sufficiently low that propane may be considered an ideal gas. The parameters for the temperature dependence of the heat capacity are given below."
   ]
  },
  {
   "cell_type": "code",
   "execution_count": null,
   "metadata": {},
   "outputs": [],
   "source": [
    "data = {'A': 1.213,\n",
    "       'B': 28.785*10**-3,\n",
    "       'C': -8.824*10**-6,\n",
    "       'D': 0.0}"
   ]
  },
  {
   "cell_type": "code",
   "execution_count": null,
   "metadata": {},
   "outputs": [],
   "source": []
  },
  {
   "cell_type": "markdown",
   "metadata": {},
   "source": [
    "#### Calculate the final temperature $T_2$ when heat in the amount of 37 kJ/mol is added to 1 mol of Hydrogen sulfide  initially at 260$^\\circ$C in a steady-flow process at 1 atm. Hydrogen sulfide may be treated as an ideal gas. The parameters for the temperature dependence of the heat capacity are given below."
   ]
  },
  {
   "cell_type": "code",
   "execution_count": null,
   "metadata": {},
   "outputs": [],
   "source": [
    "data = {'A': 3.931,\n",
    "       'B': 1.490*10**-3,\n",
    "       'C': 0.0,\n",
    "       'D': -0.232*10**5}"
   ]
  },
  {
   "cell_type": "code",
   "execution_count": null,
   "metadata": {},
   "outputs": [],
   "source": []
  },
  {
   "cell_type": "markdown",
   "metadata": {},
   "source": [
    "## Problem 2: Equilibrium Concentrations of First-order, Reversible Reaction Systems"
   ]
  },
  {
   "cell_type": "markdown",
   "metadata": {},
   "source": [
    "Consider the isomerization reactions:\n",
    "\n",
    "$$ A \\longleftrightarrow B \\longleftrightarrow C $$\n",
    "\n",
    "with forward reaction rates $k_1$  and $k_3$, respectively, as written; reverse reaction rates $k_2$ and $k_4$, as written. First order kinetics leads to the following system of ordinary differential equations:\n",
    "\n",
    "$$ \\frac{dc_A}{dt} = -k_1 c_A + k_2 c_B $$\n",
    "$$ \\frac{dc_B}{dt} = k_1 c_A - k_2 c_B - k_3 c_B + k_4 c_C $$\n",
    "$$ \\frac{dc_C}{dt} = k_3 c_B - k_4 c_C $$\n",
    "\n",
    "We further assume the reactions occur in a isothermal, isobaric closed system and that we have reached steady-state such that $dc_i/dt$ = 0 for i = A, B, C. We add an additional equation for an overall mass balance on our system to reach the following set of linear equations:\n",
    "\n",
    "$$ 0 = -k_1 c_A + k_2 c_B $$\n",
    "$$ 0 = k_1 c_A - k_2 c_B - k_3 c_B + k_4 c_C $$\n",
    "$$ 0 = k_3 c_B - k_4 c_C $$\n",
    "$$ c_{A0} + c_{B0} + c_{C0} = c_A + c_B + c_C $$ "
   ]
  },
  {
   "cell_type": "code",
   "execution_count": null,
   "metadata": {},
   "outputs": [],
   "source": [
    "# Assume the following set of parameters:\n",
    "k1 = 1 # /s \n",
    "k2 = 0 # /s\n",
    "k3 = 2 # /s\n",
    "k4 = 3 # /s\n",
    "ca0 = 1 # mol/L\n",
    "cb0 = 0 # mol/L\n",
    "cc0 = 0 # mol/L"
   ]
  },
  {
   "cell_type": "markdown",
   "metadata": {},
   "source": [
    "#### Cast the set of equations describing this reaction system into the form $Ax = b$. Print out the matrix $A$ and vector $b$."
   ]
  },
  {
   "cell_type": "code",
   "execution_count": null,
   "metadata": {},
   "outputs": [],
   "source": []
  },
  {
   "cell_type": "markdown",
   "metadata": {},
   "source": [
    "#### Determine the equilibrium, steady-state concentrations $c_A$, $c_B$, and $c_C$. Hint: `np.linalg.solve` only works when $A$ is a square matrix. Try `np.linalg.lstsq` instead."
   ]
  },
  {
   "cell_type": "code",
   "execution_count": null,
   "metadata": {},
   "outputs": [],
   "source": []
  },
  {
   "cell_type": "markdown",
   "metadata": {},
   "source": [
    "## Problem 3: Flash Distillation"
   ]
  },
  {
   "cell_type": "markdown",
   "metadata": {},
   "source": [
    "A liquid hydrocarbon mixture undergoes a <a href=\"https://en.wikipedia.org/wiki/Flash_evaporation\">flash evaporation</a> to 3.4 bar and 65 $^\\circ$C. The composition of the liquid feed stream ($X_i$) and the \"K\" value of each component at the flash condition are given in a table below. \n",
    "\n",
    "A material balance for component $i$ gives the equation:\n",
    "\n",
    "$$ X_i = (1 - \\phi) y_i + \\phi x_i $$\n",
    "\n",
    "where $X_i$ is the mole fraction in the liquid feed, $x_i$ is the mole fraction in the liquid product stream, $y_i$ is the mole fraction in the vapour product, and $\\phi$ is the ratio of liquid product-to-feed molar flow rate. The definition of the equilibrium coefficient is $K_i = y_i/x_i$. We can eliminate $x_i$ from the material balance by introducing $K_i$ giving a single relation between $y_i$ and $X_i$:\n",
    "\n",
    "$$ y_i = \\frac{X_i}{1-\\phi(1-\\frac{1}{K_i})} $$\n",
    "\n",
    "Since the $y_i$ must sum to 1, we have a nonlinear equation for $\\phi$:\n",
    "\n",
    "$$ f(\\phi) = 1 - \\sum_{i=1}^N \\frac{X_i}{1-\\phi(1-\\frac{1}{K_i})} = 0 $$\n",
    "\n",
    "#### Solve for the composition of the vapor ($y_i$) and liquid ($x_i$) streams in a flash distillation process and the fraction of feed leaving the flash as liquid."
   ]
  },
  {
   "cell_type": "code",
   "execution_count": null,
   "metadata": {},
   "outputs": [],
   "source": [
    "c2 = {'X_i': 0.0079, 'K_i': 16.2}\n",
    "c3 = {'X_i': 0.1281, 'K_i': 5.2}\n",
    "ic4 = {'X_i': 0.0849, 'K_i': 2.6}\n",
    "nc4 = {'X_i': 0.2690, 'K_i': 1.98}\n",
    "ic5 = {'X_i': 0.0589, 'K_i': 0.91}\n",
    "nc5 = {'X_i': 0.1361, 'K_i': 0.72}\n",
    "c6 = {'X_i': 0.3151, 'K_i': 0.28}\n",
    "\n",
    "data = {'Ethane': c2,\n",
    "       'Propane': c3,\n",
    "       'iso-Butane': ic4,\n",
    "       'n-Butane': nc4,\n",
    "       'iso-Pentane': ic5,\n",
    "       'n-Pentane': nc5,\n",
    "       'Hexane': c6}"
   ]
  },
  {
   "cell_type": "code",
   "execution_count": null,
   "metadata": {},
   "outputs": [],
   "source": []
  }
 ],
 "metadata": {
  "kernelspec": {
   "display_name": "Python 3",
   "language": "python",
   "name": "python3"
  },
  "language_info": {
   "codemirror_mode": {
    "name": "ipython",
    "version": 3
   },
   "file_extension": ".py",
   "mimetype": "text/x-python",
   "name": "python",
   "nbconvert_exporter": "python",
   "pygments_lexer": "ipython3",
   "version": "3.5.6"
  }
 },
 "nbformat": 4,
 "nbformat_minor": 4
}
