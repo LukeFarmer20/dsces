{
  "nbformat": 4,
  "nbformat_minor": 0,
  "metadata": {
    "kernelspec": {
      "display_name": "Python 3",
      "language": "python",
      "name": "python3"
    },
    "language_info": {
      "codemirror_mode": {
        "name": "ipython",
        "version": 3
      },
      "file_extension": ".py",
      "mimetype": "text/x-python",
      "name": "python",
      "nbconvert_exporter": "python",
      "pygments_lexer": "ipython3",
      "version": "3.5.6"
    },
    "colab": {
      "name": "02_Homework_2020-09-14_Solution.ipynb",
      "provenance": [],
      "collapsed_sections": []
    }
  },
  "cells": [
    {
      "cell_type": "code",
      "metadata": {
        "id": "uvuwbTfAqtqW"
      },
      "source": [
        "import numpy as np\n",
        "import matplotlib.pyplot as plt"
      ],
      "execution_count": null,
      "outputs": []
    },
    {
      "cell_type": "markdown",
      "metadata": {
        "id": "wXAXMJHvqlFB"
      },
      "source": [
        "# Homework 02"
      ]
    },
    {
      "cell_type": "markdown",
      "metadata": {
        "id": "ZsFXPdw6qlFF"
      },
      "source": [
        "## Problem 1: Ideal Gas Thermodynamics"
      ]
    },
    {
      "cell_type": "markdown",
      "metadata": {
        "id": "pRUpZUx9qlFK"
      },
      "source": [
        "The molar enthalpy may be expressed as a function of temperature and pressure $H = H(T, P)$:\n",
        "\n",
        "$$ dH = \\bigg( \\frac{\\partial H}{\\partial T} \\bigg)_P dT + \\bigg( \\frac{\\partial H}{\\partial P} \\bigg)_T dP $$\n",
        "\n",
        "For any constant-pressure process, we can simplify this expression to:\n",
        "$$ dH = C_P dT $$ \n",
        "\n",
        "where $C_P$ is the heat capacity of the gas. The temperature dependence of the heat capacity of a gas is given by the empirical equation:\n",
        "\n",
        "$$ \\frac{C_P}{R} = A + BT + CT^2 + DT^{-2} $$\n",
        "\n",
        "Finally, for a mechanically-reversible, constant-pressure, closed system process we can relate the steady flow heat transfer, $Q$, to the enthalpy and heat capacity by:\n",
        "\n",
        "$$ Q = \\Delta H = \\int_{T_1}^{T_2} C_P dT $$"
      ]
    },
    {
      "cell_type": "markdown",
      "metadata": {
        "id": "W-bAolQIqlFO"
      },
      "source": [
        "#### Calculate the heat required to raise the temperature of 1 mol of propane from 260$^\\circ$C to 600$^\\circ$C in a steady-flow heat process. Assume the pressure is sufficiently low that propane may be considered an ideal gas. The parameters for the temperature dependence of the heat capacity are given below."
      ]
    },
    {
      "cell_type": "code",
      "metadata": {
        "id": "Qb9E0qaTqlFQ"
      },
      "source": [
        "data = {'A': 1.213,\n",
        "       'B': 28.785*10**-3,\n",
        "       'C': -8.824*10**-6,\n",
        "       'D': 0.0}"
      ],
      "execution_count": null,
      "outputs": []
    },
    {
      "cell_type": "code",
      "metadata": {
        "id": "XJOdy1VnqlFh",
        "outputId": "ad521cda-fbb0-4ae7-e74b-c4f7998d25bf",
        "colab": {
          "base_uri": "https://localhost:8080/",
          "height": 34
        }
      },
      "source": [
        "from scipy.integrate import quad\n",
        "\n",
        "R = 8.314 # J/mol/K\n",
        "def integrand(T, data):\n",
        "  return R * (data['A'] + data['B'] * T + data['C'] * T**2 + data['D'] * T**(-2))\n",
        "\n",
        "T1 = 260 + 273.15 # K\n",
        "T2 = 600 + 273.15 # K\n",
        "\n",
        "integral, err = quad(integrand, T1, T2, args=(data,))\n",
        "print(\"Heat required: {} J/mol\".format(integral))"
      ],
      "execution_count": null,
      "outputs": [
        {
          "output_type": "stream",
          "text": [
            "Heat required: 48070.20378399197 J/mol\n"
          ],
          "name": "stdout"
        }
      ]
    },
    {
      "cell_type": "markdown",
      "metadata": {
        "id": "A9LFRq-EqlFr"
      },
      "source": [
        "#### Calculate the final temperature $T_2$ when heat in the amount of 37 kJ/mol is added to 1 mol of Hydrogen sulfide  initially at 260$^\\circ$C in a steady-flow process at 1 atm. Hydrogen sulfide may be treated as an ideal gas. The parameters for the temperature dependence of the heat capacity are given below."
      ]
    },
    {
      "cell_type": "code",
      "metadata": {
        "id": "sOjCwewMqlFt"
      },
      "source": [
        "data = {'A': 3.931,\n",
        "       'B': 1.490*10**-3,\n",
        "       'C': 0.0,\n",
        "       'D': -0.232*10**5}"
      ],
      "execution_count": null,
      "outputs": []
    },
    {
      "cell_type": "code",
      "metadata": {
        "id": "jsHr20FvqlF0",
        "outputId": "554f45ca-51ba-4265-b398-51cc5390c897",
        "colab": {
          "base_uri": "https://localhost:8080/",
          "height": 34
        }
      },
      "source": [
        "from scipy.optimize import fsolve\n",
        "\n",
        "T0 = 260 + 273.15 # K\n",
        "dQ = 37 * 1000 # J/mol\n",
        "\n",
        "def f(T1, data):\n",
        "  integral, err = quad(integrand, T0, T1, args=(data,))\n",
        "  return dQ - integral\n",
        "\n",
        "sol = fsolve(f, x0=T0, args=(data,))\n",
        "print(\"Final temperature: {} degC\".format(sol[0]-273.15))"
      ],
      "execution_count": null,
      "outputs": [
        {
          "output_type": "stream",
          "text": [
            "Final temperature: 1096.9713085014278 degC\n"
          ],
          "name": "stdout"
        }
      ]
    },
    {
      "cell_type": "markdown",
      "metadata": {
        "id": "DEVpf1kHqlF9"
      },
      "source": [
        "## Problem 2: Equilibrium Concentrations of First-order, Reversible Reaction Systems"
      ]
    },
    {
      "cell_type": "markdown",
      "metadata": {
        "id": "FrHItFSgqlF-"
      },
      "source": [
        "Consider the isomerization reactions:\n",
        "\n",
        "$$ A \\longleftrightarrow B \\longleftrightarrow C $$\n",
        "\n",
        "with forward reaction rates $k_1$  and $k_3$, respectively, as written; reverse reaction rates $k_2$ and $k_4$, as written. First order kinetics leads to the following system of ordinary differential equations:\n",
        "\n",
        "$$ \\frac{dc_A}{dt} = -k_1 c_A + k_2 c_B $$\n",
        "$$ \\frac{dc_B}{dt} = k_1 c_A - k_2 c_B - k_3 c_B + k_4 c_C $$\n",
        "$$ \\frac{dc_C}{dt} = k_3 c_B - k_4 c_C $$\n",
        "\n",
        "We further assume the reactions occur in a isothermal, isobaric closed system and that we have reached steady-state such that $dc_i/dt$ = 0 for i = A, B, C. We add an additional equation for an overall mass balance on our system to reach the following set of linear equations:\n",
        "\n",
        "$$ 0 = -k_1 c_A + k_2 c_B $$\n",
        "$$ 0 = k_1 c_A - k_2 c_B - k_3 c_B + k_4 c_C $$\n",
        "$$ 0 = k_3 c_B - k_4 c_C $$\n",
        "$$ c_{A0} + c_{B0} + c_{C0} = c_A + c_B + c_C $$ "
      ]
    },
    {
      "cell_type": "code",
      "metadata": {
        "id": "XrtjxtLQqlGB"
      },
      "source": [
        "# Assume the following set of parameters:\n",
        "k1 = 1 # /s \n",
        "k2 = 0 # /s\n",
        "k3 = 2 # /s\n",
        "k4 = 3 # /s\n",
        "ca0 = 1 # mol/L\n",
        "cb0 = 0 # mol/L\n",
        "cc0 = 0 # mol/L"
      ],
      "execution_count": null,
      "outputs": []
    },
    {
      "cell_type": "markdown",
      "metadata": {
        "id": "R0lxzgvXqlGJ"
      },
      "source": [
        "#### Cast the set of equations describing this reaction system into the form $Ax = b$. Print out the matrix $A$ and vector $b$."
      ]
    },
    {
      "cell_type": "code",
      "metadata": {
        "id": "FhZt-UkiqlGK",
        "outputId": "5e01c15a-0220-4fea-9d0d-f3235dde171d",
        "colab": {
          "base_uri": "https://localhost:8080/",
          "height": 86
        }
      },
      "source": [
        "e1 = [-k1,k2,0]\n",
        "e2 = [k1,-k2-k3,k4]\n",
        "e3 = [0,k3,-k4]\n",
        "e4 = [1,1,1]\n",
        "A = np.stack([e1, e2, e3, e4], axis=0)\n",
        "b = np.array([0,0,0,ca0+cb0+cc0])\n",
        "print(A, b)"
      ],
      "execution_count": null,
      "outputs": [
        {
          "output_type": "stream",
          "text": [
            "[[-1  0  0]\n",
            " [ 1 -2  3]\n",
            " [ 0  2 -3]\n",
            " [ 1  1  1]] [0 0 0 1]\n"
          ],
          "name": "stdout"
        }
      ]
    },
    {
      "cell_type": "markdown",
      "metadata": {
        "id": "KZRU0wm3qlGS"
      },
      "source": [
        "#### Determine the equilibrium, steady-state concentrations $c_A$, $c_B$, and $c_C$. Hint: `np.linalg.solve` only works when $A$ is a square matrix. Try `np.linalg.lstsq` instead."
      ]
    },
    {
      "cell_type": "code",
      "metadata": {
        "id": "1Oe9ifksqlGT",
        "outputId": "0907ba27-c01a-447c-dc55-f042b997e33c",
        "colab": {
          "base_uri": "https://localhost:8080/",
          "height": 106
        }
      },
      "source": [
        "x, res, rank, s = np.linalg.lstsq(A, b)\n",
        "print(\"cA: {} mol/L; cB: {} mol/L; cC: {} mol/L\".format(*list(x)))"
      ],
      "execution_count": null,
      "outputs": [
        {
          "output_type": "stream",
          "text": [
            "cA: -7.563812542377768e-17 mol/L; cB: 0.5999999999999998 mol/L; cC: 0.3999999999999998 mol/L\n"
          ],
          "name": "stdout"
        },
        {
          "output_type": "stream",
          "text": [
            "/usr/local/lib/python3.6/dist-packages/ipykernel_launcher.py:1: FutureWarning: `rcond` parameter will change to the default of machine precision times ``max(M, N)`` where M and N are the input matrix dimensions.\n",
            "To use the future default and silence this warning we advise to pass `rcond=None`, to keep using the old, explicitly pass `rcond=-1`.\n",
            "  \"\"\"Entry point for launching an IPython kernel.\n"
          ],
          "name": "stderr"
        }
      ]
    },
    {
      "cell_type": "markdown",
      "metadata": {
        "id": "6A_qGevWqlGb"
      },
      "source": [
        "## Problem 3: Flash Distillation"
      ]
    },
    {
      "cell_type": "markdown",
      "metadata": {
        "id": "WgVLdYfFqlGe"
      },
      "source": [
        "A liquid hydrocarbon mixture undergoes a <a href=\"https://en.wikipedia.org/wiki/Flash_evaporation\">flash evaporation</a> to 3.4 bar and 65 $^\\circ$C. The composition of the liquid feed stream ($X_i$) and the \"K\" value of each component at the flash condition are given in a table below. \n",
        "\n",
        "A material balance for component $i$ gives the equation:\n",
        "\n",
        "$$ X_i = (1 - \\phi) y_i + \\phi x_i $$\n",
        "\n",
        "where $X_i$ is the mole fraction in the liquid feed, $x_i$ is the mole fraction in the liquid product stream, $y_i$ is the mole fraction in the vapour product, and $\\phi$ is the ratio of liquid product-to-feed molar flow rate. The definition of the equilibrium coefficient is $K_i = y_i/x_i$. We can eliminate $x_i$ from the material balance by introducing $K_i$ giving a single relation between $y_i$ and $X_i$:\n",
        "\n",
        "$$ y_i = \\frac{X_i}{1-\\phi(1-\\frac{1}{K_i})} $$\n",
        "\n",
        "Since the $y_i$ must sum to 1, we have a nonlinear equation for $\\phi$:\n",
        "\n",
        "$$ f(\\phi) = 1 - \\sum_{i=1}^N \\frac{X_i}{1-\\phi(1-\\frac{1}{K_i})} = 0 $$\n",
        "\n",
        "#### Solve for the composition of the vapor ($y_i$) and liquid ($x_i$) streams in a flash distillation process and the fraction of feed leaving the flash as liquid."
      ]
    },
    {
      "cell_type": "code",
      "metadata": {
        "id": "O3kJC49CqlGf"
      },
      "source": [
        "c2 = {'X_i': 0.0079, 'K_i': 16.2}\n",
        "c3 = {'X_i': 0.1281, 'K_i': 5.2}\n",
        "ic4 = {'X_i': 0.0849, 'K_i': 2.6}\n",
        "nc4 = {'X_i': 0.2690, 'K_i': 1.98}\n",
        "ic5 = {'X_i': 0.0589, 'K_i': 0.91}\n",
        "nc5 = {'X_i': 0.1361, 'K_i': 0.72}\n",
        "c6 = {'X_i': 0.3151, 'K_i': 0.28}\n",
        "\n",
        "data = {'Ethane': c2,\n",
        "       'Propane': c3,\n",
        "       'iso-Butane': ic4,\n",
        "       'n-Butane': nc4,\n",
        "       'iso-Pentane': ic5,\n",
        "       'n-Pentane': nc5,\n",
        "       'Hexane': c6}"
      ],
      "execution_count": null,
      "outputs": []
    },
    {
      "cell_type": "code",
      "metadata": {
        "id": "7etMhslHqlGl",
        "outputId": "31705038-8a01-4476-f572-745e3cc56c18",
        "colab": {
          "base_uri": "https://localhost:8080/",
          "height": 282
        }
      },
      "source": [
        "def f(phi, data):\n",
        "  sum = 0.\n",
        "  for _, p in data.items():\n",
        "    sum += p['X_i'] / (1 - phi * (1 - 1/p['K_i']))\n",
        "  return 1 - sum\n",
        "\n",
        "phi = np.linspace(0, 1)\n",
        "plt.plot(phi, f(phi, data))\n",
        "plt.hlines(0., 0., 1.0)"
      ],
      "execution_count": null,
      "outputs": [
        {
          "output_type": "execute_result",
          "data": {
            "text/plain": [
              "<matplotlib.collections.LineCollection at 0x7f08d36bc080>"
            ]
          },
          "metadata": {
            "tags": []
          },
          "execution_count": 10
        },
        {
          "output_type": "display_data",
          "data": {
            "image/png": "[encoded data removed]",
            "text/plain": [
              "<Figure size 432x288 with 1 Axes>"
            ]
          },
          "metadata": {
            "tags": [],
            "needs_background": "light"
          }
        }
      ]
    },
    {
      "cell_type": "code",
      "metadata": {
        "id": "6xuwShUZtxtS",
        "outputId": "322d2f76-d5d4-461e-836e-c9af05d7e3cc",
        "colab": {
          "base_uri": "https://localhost:8080/",
          "height": 34
        }
      },
      "source": [
        "x0 = 0.5\n",
        "sol = fsolve(f, x0, args=(data,))\n",
        "print(\"phi: {}\".format(sol[0]))"
      ],
      "execution_count": null,
      "outputs": [
        {
          "output_type": "stream",
          "text": [
            "phi: 0.45850881277671535\n"
          ],
          "name": "stdout"
        }
      ]
    },
    {
      "cell_type": "code",
      "metadata": {
        "id": "RLbKZ4ifumkr",
        "outputId": "b49bcf56-2102-4d94-eb33-1a94a3846d58",
        "colab": {
          "base_uri": "https://localhost:8080/",
          "height": 86
        }
      },
      "source": [
        "y_i = np.array([p['X_i'] / (1 - sol[0] * (1 - 1/p['K_i'])) for _, p in data.items()])\n",
        "x_i = np.array([y_i[i]/p['K_i'] for i, (_, p) in enumerate(data.items())])\n",
        "print(\"y_i: {}\".format(y_i))\n",
        "print(\"x_i: {}\".format(x_i))  "
      ],
      "execution_count": null,
      "outputs": [
        {
          "output_type": "stream",
          "text": [
            "y_i: [0.01386465 0.2034412  0.11827136 0.34796723 0.05634493 0.11550451\n",
            " 0.14460611]\n",
            "x_i: [0.00085584 0.03912331 0.04548898 0.17574103 0.0619175  0.16042293\n",
            " 0.51645041]\n"
          ],
          "name": "stdout"
        }
      ]
    },
    {
      "cell_type": "code",
      "metadata": {
        "id": "Rv2_F_dKwELG",
        "outputId": "e1c8e2b0-fc96-462f-bd6c-b2d0eb1e854a",
        "colab": {
          "base_uri": "https://localhost:8080/",
          "height": 156
        }
      },
      "source": [
        "import pandas as pd\n",
        "d = {'name': list(data.keys()), 'x_i': x_i, 'y_i': y_i}\n",
        "df = pd.DataFrame.from_dict(d)\n",
        "print(df)"
      ],
      "execution_count": null,
      "outputs": [
        {
          "output_type": "stream",
          "text": [
            "          name       x_i       y_i\n",
            "0       Ethane  0.000856  0.013865\n",
            "1      Propane  0.039123  0.203441\n",
            "2   iso-Butane  0.045489  0.118271\n",
            "3     n-Butane  0.175741  0.347967\n",
            "4  iso-Pentane  0.061918  0.056345\n",
            "5    n-Pentane  0.160423  0.115505\n",
            "6       Hexane  0.516450  0.144606\n"
          ],
          "name": "stdout"
        }
      ]
    }
  ]
}