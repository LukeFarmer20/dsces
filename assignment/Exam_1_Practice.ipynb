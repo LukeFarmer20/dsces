{
  "nbformat": 4,
  "nbformat_minor": 0,
  "metadata": {
    "colab": {
      "name": "Exam 1 Practice.ipynb",
      "provenance": [],
      "collapsed_sections": []
    },
    "kernelspec": {
      "name": "python3",
      "display_name": "Python 3"
    }
  },
  "cells": [
    {
      "cell_type": "markdown",
      "metadata": {
        "id": "qzg1mLPmx7Wm"
      },
      "source": [
        "# Practice Exam\n",
        "\n",
        "\n",
        "\n",
        "\n",
        "\n"
      ]
    },
    {
      "cell_type": "markdown",
      "metadata": {
        "id": "WynlsYYOgH8I"
      },
      "source": [
        "---\n",
        "# Problem 1: Determination of Activation Energy  (20 pts)\n",
        "---\n",
        "It is often assumed that the temperature dependence of a chemical rate constant, $k$, takes the form given by the Arrhenius equation:\n",
        "\n",
        "$$ k(T) = k_0 e^{-E/RT} $$\n",
        "\n",
        "where E is the activation energy, $k_0$ is the pre-exponential factor, R is the universal gas constant, and T is temperature.\n"
      ]
    },
    {
      "cell_type": "markdown",
      "metadata": {
        "id": "CLIg3447ILr2"
      },
      "source": [
        "A. (10 pts.) You are given a set of data below, corresponding to observed rate constant k ($min^{-1}$) measured at various temperature T (Kelvin). The rate data can be logarithm transformed, giving the following equation:\n",
        "\n",
        "$$ ln k(T) = ln k_0 - \\frac{E}{RT} $$\n",
        "\n",
        "Plot the data $lnk(T)$ vs. $1/T$."
      ]
    },
    {
      "cell_type": "code",
      "metadata": {
        "id": "V8iUlhK1nwqI"
      },
      "source": [
        "k = [0.068, 0.373, 0.614, 1.353, 2.705, 5.569, 10.723, 19.847, 35.691]\n",
        "T = [423., 435.5, 448., 460.5, 473., 485.5, 498., 510.5, 523.]"
      ],
      "execution_count": null,
      "outputs": []
    },
    {
      "cell_type": "code",
      "metadata": {
        "id": "xo2BPkG2VXst"
      },
      "source": [
        ""
      ],
      "execution_count": null,
      "outputs": []
    },
    {
      "cell_type": "markdown",
      "metadata": {
        "id": "rDYayVTNIMSp"
      },
      "source": [
        "B. (10 pts.) Determine the activation energy E in kcal/mol and $k_0$ ($min^{-1}$)."
      ]
    },
    {
      "cell_type": "code",
      "metadata": {
        "id": "q87WanmCIMvQ"
      },
      "source": [
        ""
      ],
      "execution_count": null,
      "outputs": []
    },
    {
      "cell_type": "markdown",
      "metadata": {
        "id": "A_PiUaXOn2W1"
      },
      "source": [
        "---\n",
        "# Problem 2: Equilibrium Conversion in an Isomerization Reaction  (20 pts)\n",
        "---\n",
        "Consider the isomerization reactions:\n",
        "\n",
        "$$ A \\longleftrightarrow B \\longleftrightarrow C \\longleftrightarrow A$$\n",
        "\n",
        "with forward reaction rates $k_1$, $k_3$, and $k_5$, respectively, as written; reverse reaction rates $k_2$, $k_4$, $k_6$, as written. First order kinetics leads to the following system of ordinary differential equations:\n",
        "\n",
        "$$ \\frac{dc_A}{dt} = -k_1 c_A + k_2 c_B + k_5 c_C - k_6 c_A$$\n",
        "$$ \\frac{dc_B}{dt} = k_1 c_A - k_2 c_B - k_3 c_B + k_4 c_C $$\n",
        "$$ \\frac{dc_C}{dt} = k_3 c_B - k_4 c_C - k_5 c_C + k_6 c_A $$\n",
        "\n",
        "We further assume the reactions occur in a isothermal, isobaric closed system and that we have reached steady-state such that $dc_i/dt$ = 0 for i = A, B, C. We add an additional equation for an overall mass balance on our system to reach the following set of linear equations:\n",
        "\n",
        "$$ 0 = -k_1 c_A + k_2 c_B + k_5 c_C - k_6 c_A$$\n",
        "$$ 0 = k_1 c_A - k_2 c_B - k_3 c_B + k_4 c_C $$\n",
        "$$ 0 = k_3 c_B - k_4 c_C - k_5 c_C + k_6 c_A $$\n",
        "$$ c_{A0} + c_{B0} + c_{C0} = c_A + c_B + c_C $$ "
      ]
    },
    {
      "cell_type": "code",
      "metadata": {
        "id": "3_WaOb0en5mc"
      },
      "source": [
        "# Assume the following set of parameters:\n",
        "k1 = 1 # /s \n",
        "k2 = 0 # /s\n",
        "k3 = 2 # /s\n",
        "k4 = 3 # /s\n",
        "k5 = 0 # /s\n",
        "k6 = 3 # /s\n",
        "ca0 = 1 # mol/L\n",
        "cb0 = 0 # mol/L\n",
        "cc0 = 0 # mol/L"
      ],
      "execution_count": null,
      "outputs": []
    },
    {
      "cell_type": "markdown",
      "metadata": {
        "id": "9Adz8s1jG9P3"
      },
      "source": [
        "A. (10 pts.) Cast the set of equations describing this reaction system into the form $Ax = b$. Print out the matrix $A$ and vector $b$."
      ]
    },
    {
      "cell_type": "code",
      "metadata": {
        "id": "5ULqDBcjG-Dt"
      },
      "source": [
        ""
      ],
      "execution_count": null,
      "outputs": []
    },
    {
      "cell_type": "markdown",
      "metadata": {
        "id": "1ekhzFCLG-ia"
      },
      "source": [
        "B. (10 pts.) Determine the equilibrium, steady-state concentrations $c_A$, $c_B$, and $c_C$."
      ]
    },
    {
      "cell_type": "code",
      "metadata": {
        "id": "4CJQUlqNG_F1"
      },
      "source": [
        ""
      ],
      "execution_count": null,
      "outputs": []
    },
    {
      "cell_type": "markdown",
      "metadata": {
        "id": "o1B8k3qQn_P6"
      },
      "source": [
        "---\n",
        "# Problem 3: Vapor-Liquid Equilibrium (20 pts)\n",
        "---\n",
        "At vapor-liquid equilibrium, the mole fractions of species $i$ in the liquid phase and vapor phase can be determined using the thermodynamic relation, Raoult's Law:\n",
        "\n",
        "$$ y_i P = x_i P_i^{sat}, \\quad i = 1..N $$\n",
        "\n",
        "where $x_i$ and $y_i$ are the mole fraction of species $i$ in the liquid phase and vapor phase, respectively, P is total system pressure, and $P_i^{sat}$ the vapor pressure of pure species $i$ at the temperature of the system $T$ fpr each species i in the system of interest. The vapor pressure $P_i^{sat}$ is typically given by the Antoine equation:\n",
        "\n",
        "$$ P_i^{sat}(T) [kPa] = A - \\frac{B}{T[^\\circ C] + C} $$\n",
        "\n",
        "where A, B, and C are species-dependent constants.\n",
        "\n",
        "Consider a binary mixture of acetonitrile(1) and nitromethane(2) with Antoine parameters given below."
      ]
    },
    {
      "cell_type": "code",
      "metadata": {
        "id": "mB7X3651T8iY"
      },
      "source": [
        "d1 = {'A': 14.2724, 'B': 2945.47, 'C': 224.0} # acetonitrile\n",
        "d2 = {'A': 14.2043, 'B': 2972.64, 'C': 209.0} # nitromethane"
      ],
      "execution_count": null,
      "outputs": []
    },
    {
      "cell_type": "markdown",
      "metadata": {
        "id": "v_9QqRosC6kS"
      },
      "source": [
        "B. (10 pts) Bubble-point P calculation: Determine $y_1$, $y_2$ and P given $x_1$, $x_2$, and T."
      ]
    },
    {
      "cell_type": "code",
      "metadata": {
        "id": "gf_xldWVoDSC"
      },
      "source": [
        "x1 = 0.2\n",
        "x2 = 0.8 # x2 = 1 - x1\n",
        "T = 75.0 # deg C\n"
      ],
      "execution_count": null,
      "outputs": []
    },
    {
      "cell_type": "markdown",
      "metadata": {
        "id": "51y3N3gEC37K"
      },
      "source": [
        "A. (10 pts) Dew-point T calculation: Determine $x_1$, $x_2$, and T given $y_1$, $y_2$, and P."
      ]
    },
    {
      "cell_type": "code",
      "metadata": {
        "id": "uGUaAppvC7Xa"
      },
      "source": [
        "y1 = 0.8484\n",
        "y2 = 0.1516 # y2 = 1 - y1\n",
        "P = 70 # kPa\n"
      ],
      "execution_count": null,
      "outputs": []
    },
    {
      "cell_type": "markdown",
      "metadata": {
        "id": "nEdlOrwSoErZ"
      },
      "source": [
        "---\n",
        "# Problem 4: Plug-Flow Tubular Reactor (20 pts)\n",
        "---\n",
        "We consider a plug-flow tubular reactor of length L. We first assume the tube has diameter D and also that the density does not vary with position. In this case, the linear fluid velocity throught the tube $u$ is equal to the volumetric flow rate $v$ divided by the cross-sectional area $A_t$ = $\\frac{\\pi D^2}{4}$,\n",
        "\n",
        "$$ u = \\frac{v}{A_t} = \\frac{4v}{\\pi D^2} $$\n",
        "\n",
        "A steady-state shell balance on some species $j$ in the element of length $dz$ between $z$ and $z+dz$ gives the design equation:\n",
        "\n",
        "$$ u \\frac{dC_j}{dz} = \\nu_j r $$\n",
        "\n",
        "where $C_j$ is the molar concentration of species $j$, and $\\nu_j$ is the stoichiometric coefficient of species $j$ in a reaction with rate $r$.\n",
        "\n"
      ]
    },
    {
      "cell_type": "markdown",
      "metadata": {
        "id": "AEJORjtvAjgo"
      },
      "source": [
        "A. (10 pts) Consider the irreversible reaction,\n",
        "\n",
        "$$ A \\rightarrow B $$\n",
        "$$ r = k C_A $$\n",
        "\n",
        "If k = 0.5 $min^{-1}$, $C_{A0}$ = 2 mol/liter, D = 2 cm, and $\\nu$ = 4 liter/min, determine the concentration of species A and B and plot as a function of reactor length L. Consider L between 1 m and 100 m."
      ]
    },
    {
      "cell_type": "code",
      "metadata": {
        "id": "EA7Lho09oGjS"
      },
      "source": [
        ""
      ],
      "execution_count": null,
      "outputs": []
    },
    {
      "cell_type": "markdown",
      "metadata": {
        "id": "79aIS-Q4Cor6"
      },
      "source": [
        "B. (10 pts) For the scenario described above, determine the reactor length L required to reach 90% conversion."
      ]
    },
    {
      "cell_type": "code",
      "metadata": {
        "id": "Gv5YiHMPC0oA"
      },
      "source": [
        ""
      ],
      "execution_count": null,
      "outputs": []
    }
  ]
}