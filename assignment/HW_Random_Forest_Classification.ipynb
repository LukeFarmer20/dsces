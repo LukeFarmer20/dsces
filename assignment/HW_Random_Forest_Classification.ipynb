{
  "nbformat": 4,
  "nbformat_minor": 0,
  "metadata": {
    "colab": {
      "name": "HW - Random Forest Classification.ipynb",
      "provenance": [],
      "collapsed_sections": []
    },
    "kernelspec": {
      "name": "python3",
      "display_name": "Python 3"
    }
  },
  "cells": [
    {
      "cell_type": "code",
      "metadata": {
        "id": "mNgBUsKedwUs"
      },
      "source": [
        "!wget -c https://repo.continuum.io/miniconda/Miniconda3-py37_4.8.3-Linux-x86_64.sh\n",
        "!chmod +x Miniconda3-py37_4.8.3-Linux-x86_64.sh\n",
        "!time bash ./Miniconda3-py37_4.8.3-Linux-x86_64.sh -b -f -p /usr/local\n",
        "!time conda install -q -y -c conda-forge rdkit\n",
        "\n",
        "import sys\n",
        "sys.path.append('/usr/local/lib/python3.7/site-packages/')"
      ],
      "execution_count": null,
      "outputs": []
    },
    {
      "cell_type": "code",
      "metadata": {
        "id": "ZirjlLBNzb6l"
      },
      "source": [
        "import os\n",
        "import numpy as np\n",
        "import pandas as pd\n",
        "import matplotlib.pyplot as plt\n",
        "from scipy import stats\n",
        "from rdkit import Chem\n",
        "from rdkit.Chem import AllChem\n",
        "from rdkit.Chem.Draw import IPythonConsole\n",
        "from rdkit.Chem import Draw\n",
        "from sklearn.ensemble import RandomForestRegressor"
      ],
      "execution_count": null,
      "outputs": []
    },
    {
      "cell_type": "markdown",
      "metadata": {
        "id": "wKYwllsJWRpG"
      },
      "source": [
        "# Homework: Random Forest Classification"
      ]
    },
    {
      "cell_type": "markdown",
      "metadata": {
        "id": "HvK0rB_cYZex"
      },
      "source": [
        "## Tox21: Toxicity in the 21st Century Challenge\n",
        "\n",
        "Wu, Z., Ramsundar, B., Feinberg, E.N., Gomes, J., Geniesse, C., Pappu, A.S., Leswing, K. and Pande, V., <a href='https://pubs.rsc.org/--/content/articlehtml/2018/sc/c7sc02664a'>MoleculeNet: a benchmark for molecular machine learning</a>. Chemical Science, 9(2), 513-530, 2018.\n",
        "\n",
        "### qHTS assay to identify small molecule agonists of the estrogen receptor alpha (ER-alpha) signaling pathway using the BG1 cell line\n",
        "\n",
        "Estrogen receptor (ER), a nuclear hormone receptor, plays an important role in development, metabolic homeostasis and reproduction. Endocrine disrupting chemicals (EDCs) and their interactions with steroid hormone receptors like ER causes disruption of normal endocrine function. Therefore, it is important to understand the effect of environmental chemicals on the ER signaling pathway. To identify ER agonists, BG1-Luc-4E2 cell line (provided by Dr. Michael Denison from University of California) has been used to screen the Tox21 10K compound library. BG1Luc4E2 cell line endogenously expresses full-length ER-alpha and is stably transfected with a plasmid containing four estrogen responsive elements (ERE) upstream of a luciferase reporter gene. (<a href='https://pubchem.ncbi.nlm.nih.gov/bioassay/743079'>Source</a>)"
      ]
    },
    {
      "cell_type": "code",
      "metadata": {
        "id": "MZUSVe5BWTYu"
      },
      "source": [
        "os.system(\"wget https://tripod.nih.gov/tox21/challenge/download?id=nr-ersmiles&sec=\")"
      ],
      "execution_count": null,
      "outputs": []
    },
    {
      "cell_type": "code",
      "metadata": {
        "id": "WS8G4_trORC1"
      },
      "source": [
        "os.system(\"mv download?id=nr-ersmiles er.smiles\")"
      ],
      "execution_count": null,
      "outputs": []
    },
    {
      "cell_type": "code",
      "metadata": {
        "id": "Pk-cTRdgN13G"
      },
      "source": [
        "df = pd.read_csv('er.smiles', delimiter='\\t', names=['smiles', 'toxid', 'y'])\n",
        "df"
      ],
      "execution_count": null,
      "outputs": []
    },
    {
      "cell_type": "code",
      "metadata": {
        "id": "ARKmm3vpkSlQ"
      },
      "source": [
        "smiles = df['smiles'].values\n",
        "y = df['y'].values\n",
        "fps = []\n",
        "ys = []\n",
        "for idx, s in enumerate(smiles):\n",
        "  try:\n",
        "    m = Chem.MolFromSmiles(s)\n",
        "    fp = AllChem.GetMorganFingerprintAsBitVect(m, 5)\n",
        "    fps.append(fp)\n",
        "    ys.append(y[idx])\n",
        "  except:\n",
        "    continue\n",
        "\n",
        "X = np.stack(fps, axis=0)\n",
        "y = np.array(ys)\n",
        "print(X.shape, y.shape)"
      ],
      "execution_count": null,
      "outputs": []
    },
    {
      "cell_type": "markdown",
      "metadata": {
        "id": "oCek7CISk-kh"
      },
      "source": [
        "## Question 1: Data Visualization\n",
        "\n",
        "Visualize the distribution of labels. Is there a class imbalance present in the dataset? Next, visualize some of the molecules using the provided helper function, `smiles_to_img()`."
      ]
    },
    {
      "cell_type": "code",
      "metadata": {
        "id": "kXKSYLj-lBOO"
      },
      "source": [
        "def smiles_to_img(smiles):\n",
        "  \"\"\" Converts smiles string to image\n",
        "\n",
        "  Parameters:\n",
        "  -----------\n",
        "  smiles: string\n",
        "    smiles string representing a molecule.\n",
        "\n",
        "  Returns:\n",
        "  --------\n",
        "  None\n",
        "  \"\"\"\n",
        "\n",
        "  m = Chem.MolFromSmiles(smiles)\n",
        "  img = Draw.MolToImage(m)\n",
        "  display(img)\n",
        "  return None"
      ],
      "execution_count": null,
      "outputs": []
    },
    {
      "cell_type": "code",
      "metadata": {
        "id": "36md-eLxhFZM"
      },
      "source": [
        ""
      ],
      "execution_count": null,
      "outputs": []
    },
    {
      "cell_type": "markdown",
      "metadata": {
        "id": "07reIHnHmQsX"
      },
      "source": [
        "## Question 2: Random Forest Classification and Hyperparameter Search\n",
        "\n",
        "Split the dataset into 80% training and 20% testing. Construct a hyperparameter search for the hyperparameter `n_estimators` or number of decision trees. Use 5-fold cross-validation to find the optimal value for this parameter based on validation R2 score. Comment on how you decided on the maximum and minimum values for your hyperparameter search and how, if at all, the validation score depends on this hyperparameter. What is the performance on the test set?\n",
        "\n",
        "Hint: Review `15_Gaussian_Process_and_Random_Forest_Regression.ipynb`\n",
        "\n"
      ]
    },
    {
      "cell_type": "code",
      "metadata": {
        "id": "6dzsD4MbmVl5"
      },
      "source": [
        ""
      ],
      "execution_count": null,
      "outputs": []
    },
    {
      "cell_type": "markdown",
      "metadata": {
        "id": "LIXe42kfmWll"
      },
      "source": [
        "## Question 3: Feature Importance and Visualization\n",
        "\n",
        "Determine the most important features of the dataset using the `RandomForestRegressor.feature_importances_` attribute. Each feature corresponds to a molecular functional group. Visualize the important functions groups for a few molecules using the helper function, `view_feature_importances()`."
      ]
    },
    {
      "cell_type": "code",
      "metadata": {
        "id": "JaBeo8WHmZgr"
      },
      "source": [
        "def view_feature_importances(smiles, feature_importances):\n",
        "  \"\"\" Converts smiles string to image and highlights important features\n",
        "\n",
        "  Parameters:\n",
        "  -----------\n",
        "  smiles: string\n",
        "    smiles string representing a molecule.\n",
        "  feature_importances: list\n",
        "    list of feature importances\n",
        "\n",
        "  Returns:\n",
        "  --------\n",
        "  None\n",
        "  \"\"\"\n",
        "  bitinfo = {}\n",
        "  mol = Chem.MolFromSmiles(smiles)\n",
        "  fp = AllChem.GetMorganFingerprintAsBitVect(mol, 5, bitInfo=bitinfo)\n",
        "  img = Draw.MolToImage(mol)\n",
        "  display(img)  \n",
        "\n",
        "  mfp = np.array(fp)\n",
        "  sortidx = np.argsort(feature_importances)\n",
        "  sorted_bits = []\n",
        "  for i in sortidx[::-1]:\n",
        "    if mfp[i] == 1: sorted_bits.append(i)\n",
        "  for bit in sorted_bits[5:10]:\n",
        "    img = Draw.DrawMorganBit(m, bit, bitinfo)\n",
        "    display(img)\n",
        "  return None"
      ],
      "execution_count": null,
      "outputs": []
    },
    {
      "cell_type": "code",
      "metadata": {
        "id": "M0IUSHNshVD7"
      },
      "source": [
        ""
      ],
      "execution_count": null,
      "outputs": []
    }
  ]
}