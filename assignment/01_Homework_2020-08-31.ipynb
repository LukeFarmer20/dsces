{
 "cells": [
  {
   "cell_type": "markdown",
   "metadata": {},
   "source": [
    "# Homework 01"
   ]
  },
  {
   "cell_type": "markdown",
   "metadata": {},
   "source": [
    "## Problem 1: Hagen-Poiseuille Equation"
   ]
  },
  {
   "cell_type": "markdown",
   "metadata": {},
   "source": [
    "The Hagen-Poiseuille equation is a physical law that gives the pressure drop in an incompressible and Newtonian fluid in laminar flow flowing through a long cylindrical pipe of constant cross sectional area. The pressure drop is given as:"
   ]
  },
  {
   "cell_type": "markdown",
   "metadata": {},
   "source": [
    "### <center>$\\Delta p=\\frac{8\\mu L Q}{\\pi R^4}$</center>"
   ]
  },
  {
   "cell_type": "markdown",
   "metadata": {},
   "source": [
    "where $\\Delta p$ is the pressure drop, $L$ is the length of the pip, $\\mu$ is the dynamic viscocity, $Q$ is the volumetric flowrate, $R$ is the pipe radius."
   ]
  },
  {
   "cell_type": "markdown",
   "metadata": {},
   "source": [
    "### Consider Glycerine at 26.5 $^{\\circ}$C ($\\mu$ = 0.492 Pa*s) flowing through a horizontal tube 1 ft long at a flow rate of 0.00398 $ft^3/min$. Calculate and plot the pressure drop (in psi) across the tube as the inner diameter is varied between 0.1 inch and 1.0 inch at a constant flow rate. Label all axes of the plots with the quantities plotted and their units."
   ]
  },
  {
   "cell_type": "code",
   "execution_count": null,
   "metadata": {},
   "outputs": [],
   "source": []
  },
  {
   "cell_type": "markdown",
   "metadata": {},
   "source": [
    "# Problem 2: Antoine Equation for Vapor Pressures of Pure Species"
   ]
  },
  {
   "cell_type": "markdown",
   "metadata": {},
   "source": [
    "The saturation vapor pressure of a pure species in a fixed temperature can be determined via the Antoine Equation given a suitable set of parameters. The Antoine Equation is given by:"
   ]
  },
  {
   "cell_type": "markdown",
   "metadata": {},
   "source": [
    "### <center>$ln P^{sat}(t) = A - \\frac{B}{t + C}$</center>"
   ]
  },
  {
   "cell_type": "markdown",
   "metadata": {},
   "source": [
    "where $P^{sat}$ is the vapor pressure (given in kPa), t is the temperature (given in $^{\\circ}C$) and A, B, and C are adjustable parameters fit to experimental data."
   ]
  },
  {
   "cell_type": "markdown",
   "metadata": {},
   "source": [
    "### Given the following set of parameters `params_dict`, plot the vapor pressure given by the Antoine equation as a function of temperature in the given temperature range `tmin` to `tmax` for each chemical species. Be sure to label all axes and title each plot with the chemical species name."
   ]
  },
  {
   "cell_type": "code",
   "execution_count": null,
   "metadata": {},
   "outputs": [],
   "source": [
    "params_dict = {\n",
    "    \"Acetonitrile\": {\n",
    "        \"A\": 14.8950,\n",
    "        \"B\": 3413.10,\n",
    "        \"C\": 250.523,\n",
    "        \"tmin\": -27.0,\n",
    "        \"tmax\": 81.0,\n",
    "    },\n",
    "    \"Chlorobenzene\": {\n",
    "        \"A\": 13.8635,\n",
    "        \"B\": 3174.78,\n",
    "        \"C\": 211.700,\n",
    "        \"tmin\": 29.0,\n",
    "        \"tmax\": 159.0,\n",
    "    },\n",
    "    \"Ethylene glycol\": {\n",
    "        \"A\": 15.7567,\n",
    "        \"B\": 4187.46,\n",
    "        \"C\": 178.650,\n",
    "        \"tmin\": 100.,\n",
    "        \"tmax\": 222.,\n",
    "    },\n",
    "    \"iso-Octane\": {\n",
    "        \"A\": 13.6703,\n",
    "        \"B\": 2896.31,\n",
    "        \"C\": 220.767,\n",
    "        \"tmin\": 2.0,\n",
    "        \"tmax\": 125.0,\n",
    "    },\n",
    "    \"Water\": {\n",
    "        \"A\": 16.3872,\n",
    "        \"B\": 3885.70,\n",
    "        \"C\": 230.170,\n",
    "        \"tmin\": 0.,\n",
    "        \"tmax\": 200.,\n",
    "    },\n",
    "}"
   ]
  },
  {
   "cell_type": "code",
   "execution_count": null,
   "metadata": {},
   "outputs": [],
   "source": []
  },
  {
   "cell_type": "markdown",
   "metadata": {},
   "source": [
    "# Problem 3: Determination of Antoine Equation Coefficients from Data"
   ]
  },
  {
   "cell_type": "markdown",
   "metadata": {},
   "source": [
    "You are given the following data for the pure species vapor pressure of Fluorene:"
   ]
  },
  {
   "cell_type": "markdown",
   "metadata": {},
   "source": [
    "<img src=\"https://webbook.nist.gov/cgi/cbook.cgi?Struct=C86737&Type=Color\">"
   ]
  },
  {
   "cell_type": "code",
   "execution_count": null,
   "metadata": {},
   "outputs": [],
   "source": [
    "# t in degree Celcius\n",
    "t = np.array([172.01, 175.78, 176.69, 182.47, 196.16, \n",
    "              199.05, 224.93, 230.68, 234.77, 236.01, \n",
    "              241.70, 250.77, 250.86, 268.12, 271.41, \n",
    "              271.55, 273.38, 277.37, 288.97, 293.05])\n",
    "\n",
    "# Psat in kPa\n",
    "Psat = np.array([24.15, 24.51, 25.51, 27.99, 32.91, \n",
    "                 34.86, 45.02, 49.67, 54.26, 52.12, \n",
    "                 57.25, 65.13, 64.00, 75.15, 76.98, \n",
    "                 75.96, 79.43, 82.63, 93.40, 95.62])"
   ]
  },
  {
   "cell_type": "markdown",
   "metadata": {},
   "source": [
    "### Determine the Antoine Equation coefficients `A`, `B`, and `C` for Fluorene from the provided data"
   ]
  },
  {
   "cell_type": "code",
   "execution_count": null,
   "metadata": {},
   "outputs": [],
   "source": []
  },
  {
   "cell_type": "markdown",
   "metadata": {},
   "source": [
    "### Plot the experimental data (scatter) and Antoine equation (line) together"
   ]
  },
  {
   "cell_type": "code",
   "execution_count": null,
   "metadata": {},
   "outputs": [],
   "source": []
  }
 ],
 "metadata": {
  "kernelspec": {
   "display_name": "Python 3",
   "language": "python",
   "name": "python3"
  },
  "language_info": {
   "codemirror_mode": {
    "name": "ipython",
    "version": 3
   },
   "file_extension": ".py",
   "mimetype": "text/x-python",
   "name": "python",
   "nbconvert_exporter": "python",
   "pygments_lexer": "ipython3",
   "version": "3.6.9"
  }
 },
 "nbformat": 4,
 "nbformat_minor": 2
}
