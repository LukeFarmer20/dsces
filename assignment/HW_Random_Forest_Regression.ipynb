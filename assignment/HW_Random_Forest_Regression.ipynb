{
  "nbformat": 4,
  "nbformat_minor": 0,
  "metadata": {
    "colab": {
      "name": "HW - Random Forest Regression.ipynb",
      "provenance": [],
      "collapsed_sections": []
    },
    "kernelspec": {
      "name": "python3",
      "display_name": "Python 3"
    }
  },
  "cells": [
    {
      "cell_type": "code",
      "metadata": {
        "id": "AqMtdUf5cXq1"
      },
      "source": [
        "import os\n",
        "import numpy as np\n",
        "import pandas as pd\n",
        "import matplotlib.pyplot as plt"
      ],
      "execution_count": null,
      "outputs": []
    },
    {
      "cell_type": "markdown",
      "metadata": {
        "id": "Augvd8xMcqjf"
      },
      "source": [
        "# Homework: Random Forest Regression"
      ]
    },
    {
      "cell_type": "code",
      "metadata": {
        "id": "dNp4ajSxcuWq"
      },
      "source": [
        "os.system(\"wget https://archive.ics.uci.edu/ml/machine-learning-databases/00514/Bias_correction_ucl.csv\")"
      ],
      "execution_count": null,
      "outputs": []
    },
    {
      "cell_type": "markdown",
      "metadata": {
        "id": "MccztLVedE9T"
      },
      "source": [
        "## Bias correction of numerical prediction model temperature forecast Data Set \n",
        "\n",
        "Reference: Cho, D., Yoo, C., Im, J., & Cha, D. (2020). <a href='https://agupubs.onlinelibrary.wiley.com/doi/full/10.1029/2019EA000740'>Comparative assessment of various machine learning-based bias correction methods for numerical weather prediction model forecasts of extreme air temperatures in urban areas</a>. Earth and Space Science.\n",
        "\n",
        "<u>Description (source)</u>:\n",
        "\n",
        "This data is for the purpose of bias correction of next-day maximum and minimum air temperatures forecast of the LDAPS model operated by the Korea Meteorological Administration over Seoul, South Korea. This data consists of summer data from 2013 to 2017. The input data is largely composed of the LDAPS model's next-day forecast data, in-situ maximum and minimum temperatures of present-day, and geographic auxiliary variables. There are two outputs (i.e. next-day maximum and minimum air temperatures) in this data. Hindcast validation was conducted for the period from 2015 to 2017.\n",
        "\n",
        "<u>Attribute Description</u>:\n",
        "\n",
        "1. station - used weather station number: 1 to 25\n",
        "2. Date - Present day: yyyy-mm-dd ('2013-06-30' to '2017-08-30')\n",
        "3. Present_Tmax - Maximum air temperature between 0 and 21 h on the present day (Â°C): 20 to 37.6\n",
        "4. Present_Tmin - Minimum air temperature between 0 and 21 h on the present day (Â°C): 11.3 to 29.9\n",
        "5. LDAPS_RHmin - LDAPS model forecast of next-day minimum relative humidity (%): 19.8 to 98.5\n",
        "6. LDAPS_RHmax - LDAPS model forecast of next-day maximum relative humidity (%): 58.9 to 100\n",
        "7. LDAPS_Tmax_lapse - LDAPS model forecast of next-day maximum air temperature applied lapse rate (Â°C): 17.6 to 38.5\n",
        "8. LDAPS_Tmin_lapse - LDAPS model forecast of next-day minimum air temperature applied lapse rate (Â°C): 14.3 to 29.6\n",
        "9. LDAPS_WS - LDAPS model forecast of next-day average wind speed (m/s): 2.9 to 21.9\n",
        "10. LDAPS_LH - LDAPS model forecast of next-day average latent heat flux (W/m2): -13.6 to 213.4\n",
        "11. LDAPS_CC1 - LDAPS model forecast of next-day 1st 6-hour split average cloud cover (0-5 h) (%): 0 to 0.97\n",
        "12. LDAPS_CC2 - LDAPS model forecast of next-day 2nd 6-hour split average cloud cover (6-11 h) (%): 0 to 0.97\n",
        "13. LDAPS_CC3 - LDAPS model forecast of next-day 3rd 6-hour split average cloud cover (12-17 h) (%): 0 to 0.98\n",
        "14. LDAPS_CC4 - LDAPS model forecast of next-day 4th 6-hour split average cloud cover (18-23 h) (%): 0 to 0.97\n",
        "15. LDAPS_PPT1 - LDAPS model forecast of next-day 1st 6-hour split average precipitation (0-5 h) (%): 0 to 23.7\n",
        "16. LDAPS_PPT2 - LDAPS model forecast of next-day 2nd 6-hour split average precipitation (6-11 h) (%): 0 to 21.6\n",
        "17. LDAPS_PPT3 - LDAPS model forecast of next-day 3rd 6-hour split average precipitation (12-17 h) (%): 0 to 15.8\n",
        "18. LDAPS_PPT4 - LDAPS model forecast of next-day 4th 6-hour split average precipitation (18-23 h) (%): 0 to 16.7\n",
        "19. lat - Latitude (Â°): 37.456 to 37.645\n",
        "20. lon - Longitude (Â°): 126.826 to 127.135\n",
        "21. DEM - Elevation (m): 12.4 to 212.3\n",
        "22. Slope - Slope (Â°): 0.1 to 5.2\n",
        "23. Solar radiation - Daily incoming solar radiation (wh/m2): 4329.5 to 5992.9\n",
        "24. Next_Tmax - The next-day maximum air temperature (Â°C): 17.4 to 38.9\n",
        "25. Next_Tmin - The next-day minimum air temperature (Â°C): 11.3 to 29.8"
      ]
    },
    {
      "cell_type": "markdown",
      "metadata": {
        "id": "kN-PggGUijeh"
      },
      "source": [
        "## Question 1: Dataset Construction\n",
        "\n",
        "Follow the reference above to find information on how to construct the dataset. Specifically, read section \"3.1 Methods - Data Processing\" to determine which columns of the data frame are features and which as labels/tasks (also see Table 1 and Figure 3). It will also be necessary to drop rows containing 'NaN' values (see: <a href='https://pandas.pydata.org/pandas-docs/stable/reference/api/pandas.DataFrame.dropna.html'>pandas.DataFrame.dropna</a> and examples contained within).\n",
        "\n",
        "The data is split into training and test datasets based on the acquisition date (training on data pre-2015 data, testing on 2015-2017 data). Split the training and test data in a similar way. See <a href='https://stackoverflow.com/questions/37532098/split-dataframe-into-two-on-the-basis-of-date'>here</a> for a discussion on possible ideas on how to achieve this.\n",
        "\n",
        "Hint:\n",
        "\n",
        "```\n",
        "X_train.shape = (3057, 21)\n",
        "y_train.shape = (4531, 21)\n",
        "X_test.shape = (3057, 2)\n",
        "y_test.shape = (4531, 2)\n",
        "```"
      ]
    },
    {
      "cell_type": "code",
      "metadata": {
        "id": "c2JLv-LrkOoa"
      },
      "source": [
        ""
      ],
      "execution_count": null,
      "outputs": []
    },
    {
      "cell_type": "markdown",
      "metadata": {
        "id": "BjIQFI8WijjX"
      },
      "source": [
        "## Question 2: Data Visualization\n",
        "\n",
        "Choose a specific weather station and plot the maximum and minimum next-day air temperature measured (\"Next_Tmax\") and predicted by the model (\"LDAPS_Tmax_lapse\") over the time period given in the dataset. Note any qualitative differences you see between measurements and predictions. Title and label the axes of your plot appropriately.\n",
        "\n",
        "Example:\n",
        "```\n",
        "df = pd.read_csv('Bias_correction_ucl.csv')\n",
        "df1 = df[df['station'] == 1.0]\n",
        "y_model = df1['LDAPS_Tmax_lapse'].values\n",
        "y_meas = df1['Next_Tmax'].values\n",
        "plt.plot(y_model)\n",
        "plt.plot(y_meas)\n",
        "plt.title(\"Station 1 Max Air Temperature\")\n",
        "plt.legend(['LDAPS model', 'Obs.'])\n",
        "plt.xlabel('Day')\n",
        "plt.ylabel('Max Temp. (degC)')\n",
        "```"
      ]
    },
    {
      "cell_type": "code",
      "metadata": {
        "id": "nc6UUQ4Qdjx0"
      },
      "source": [
        ""
      ],
      "execution_count": null,
      "outputs": []
    },
    {
      "cell_type": "markdown",
      "metadata": {
        "id": "Tr8Z7MnQijoQ"
      },
      "source": [
        "## Question 3: Random Forest Regression\n",
        "\n",
        "Train a Random Forest Regression model to predict next-day minimum and maximum air temperature, one separate model for each task. Try splitting 10% off from the training set to produce a validation set. Can you improve performance on the validation set by adjusting some hyperparameters such as `n_estimators` or `max_features`?\n",
        "\n",
        "To get started:\n",
        "```\n",
        "from sklearn.ensemble import RandomForestRegressor\n",
        "from sklearn.model_selection import train_test_split\n",
        "regr = RandomForestRegressor()\n",
        "X_train_1, X_valid, y_train_1, y_valid = train_test_split(X_train, y_train, test_size=0.1)\n",
        "regr.fit(...)\n",
        "```"
      ]
    },
    {
      "cell_type": "code",
      "metadata": {
        "id": "3X1BXxvukQ3A"
      },
      "source": [
        ""
      ],
      "execution_count": null,
      "outputs": []
    },
    {
      "cell_type": "markdown",
      "metadata": {
        "id": "lYqK-NGRijsk"
      },
      "source": [
        "## Question 4: Hindcast Validation\n",
        "\n",
        "Re-train the best RF model from Question 3 with the entire training set and predict on the test data (future forecasting). Calculate the R2 score and RMSE (root-mean squared error) of your prediction compared with the observations. How do your results compare with those from the original paper? (see: Figure 3 and Figure 4)\n",
        "\n",
        "To get started:\n",
        "```\n",
        "from sklearn.metrics import mean_squared_error, r2_score\n",
        "regr = RandomForestRegressor(...)\n",
        "regr.fit(...)\n",
        "preds = regr.predict(...)\n",
        "r2 = r2_score(...)\n",
        "rmse = mean_squared_error(..., squared=False)\n",
        "```"
      ]
    },
    {
      "cell_type": "code",
      "metadata": {
        "id": "VeUUTQDQkD8A"
      },
      "source": [
        ""
      ],
      "execution_count": null,
      "outputs": []
    }
  ]
}
