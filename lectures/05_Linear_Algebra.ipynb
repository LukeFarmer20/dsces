{
 "cells": [
  {
   "cell_type": "code",
   "execution_count": null,
   "metadata": {},
   "outputs": [],
   "source": [
    "import numpy as np\n",
    "import matplotlib.pyplot as plt"
   ]
  },
  {
   "cell_type": "markdown",
   "metadata": {},
   "source": [
    "# Linear Algebra"
   ]
  },
  {
   "cell_type": "markdown",
   "metadata": {},
   "source": [
    "## Vectors\n",
    "\n",
    "Vectors are ordered sets of numbers: $(x_1, x_2, ..., x_N)$"
   ]
  },
  {
   "cell_type": "code",
   "execution_count": null,
   "metadata": {},
   "outputs": [],
   "source": [
    "x = np.random.randint(10, size=10)\n",
    "y = np.random.randint(10, size=10)\n",
    "print(\"x = {}\".format(x))\n",
    "print(\"y = {}\".format(y))"
   ]
  },
  {
   "cell_type": "markdown",
   "metadata": {},
   "source": [
    "### Addition\n",
    "\n",
    "$$ \\begin{bmatrix} x_1 \\\\\n",
    "                   x_2 \\\\\n",
    "                   \\vdots \\\\\n",
    "                   x_N\n",
    "   \\end{bmatrix} + \n",
    "   \\begin{bmatrix} y_1 \\\\\n",
    "                   y_2 \\\\\n",
    "                   \\vdots \\\\\n",
    "                   y_N\n",
    "   \\end{bmatrix} =\n",
    "   \\begin{bmatrix} x_1 + y_1 \\\\\n",
    "                   x_2 + y_2 \\\\\n",
    "                   \\vdots \\\\\n",
    "                   x_N + y_N\n",
    "   \\end{bmatrix} $$"
   ]
  },
  {
   "cell_type": "code",
   "execution_count": null,
   "metadata": {},
   "outputs": [],
   "source": [
    "z = x + y\n",
    "print(\"x + y = {}\".format(z))"
   ]
  },
  {
   "cell_type": "markdown",
   "metadata": {},
   "source": [
    "### Multiplication by scalar\n",
    "\n",
    "$$ c \\begin{bmatrix} x_1 x_2 ... x_N \\end{bmatrix} = \\begin{bmatrix} cx_1 cx_2 ... cx_N \\end{bmatrix} $$"
   ]
  },
  {
   "cell_type": "code",
   "execution_count": null,
   "metadata": {},
   "outputs": [],
   "source": [
    "c = 2\n",
    "z = c * x\n",
    "print(\"c * x = {}\".format(z))"
   ]
  },
  {
   "cell_type": "markdown",
   "metadata": {},
   "source": [
    "### Dot product\n",
    "\n",
    "$$ x \\cdot y = \\sum_{i=1}^N x_i y_i $$"
   ]
  },
  {
   "cell_type": "code",
   "execution_count": null,
   "metadata": {},
   "outputs": [],
   "source": [
    "z = np.dot(x, y)\n",
    "print(\"x * y = {}\".format(z))"
   ]
  },
  {
   "cell_type": "markdown",
   "metadata": {},
   "source": [
    "### Norm\n",
    "\n",
    "$$ ||x||_p = (\\sum_{i=1}^N |x_i|^p)^{1/p} $$"
   ]
  },
  {
   "cell_type": "code",
   "execution_count": null,
   "metadata": {},
   "outputs": [],
   "source": [
    "x1 = np.linalg.norm(x, 1)\n",
    "x2 = np.linalg.norm(x, 2)\n",
    "print(\"L1 norm of x: {}\".format(x1))\n",
    "print(\"L2 norm of x: {}\".format(x2))"
   ]
  },
  {
   "cell_type": "markdown",
   "metadata": {},
   "source": [
    "## Matrices\n",
    "\n",
    "Matrices are ordered sets of numbers:\n",
    "\n",
    "$$ \\bf{A} = \\begin{bmatrix} A_{11}  A_{12}  ..  A_{1M} \\\\\n",
    "                            A_{21}  A_{22}  ..  A_{2M} \\\\\n",
    "                            \\vdots  \\vdots  \\ddots \\vdots \\\\\n",
    "                            A_{N1}  A_{N2}  ..  A_{NM} \\\\ \\end{bmatrix} $$"
   ]
  },
  {
   "cell_type": "code",
   "execution_count": null,
   "metadata": {},
   "outputs": [],
   "source": [
    "A = np.random.randint(2, size=100).reshape(10, 10)\n",
    "B = np.random.randint(2, size=100).reshape(10, 10)\n",
    "print(\"A: \\n{}\".format(A))\n",
    "print(\"B: \\n{}\".format(B))"
   ]
  },
  {
   "cell_type": "markdown",
   "metadata": {},
   "source": [
    "### Addition\n",
    "\n",
    "$$ \\bf{C} = \\bf{A} + \\bf{B} $$\n",
    "$$ C_{ij} = A_{ij} + B_{ij} $$"
   ]
  },
  {
   "cell_type": "code",
   "execution_count": null,
   "metadata": {},
   "outputs": [],
   "source": [
    "C = A + B\n",
    "print(\"A + B = \\n{}\".format(C))"
   ]
  },
  {
   "cell_type": "markdown",
   "metadata": {},
   "source": [
    "### Multiplication by scalar\n",
    "\n",
    "$$ C = cA $$\n",
    "$$ C_{ij} = cA_{ij} $$"
   ]
  },
  {
   "cell_type": "code",
   "execution_count": null,
   "metadata": {},
   "outputs": [],
   "source": [
    "C = c * A\n",
    "print(\"c * A = \\n{}\".format(C))"
   ]
  },
  {
   "cell_type": "markdown",
   "metadata": {},
   "source": [
    "### Transpose\n",
    "\n",
    "$$ C = A^T $$\n",
    "$$ C_{ij} = A_{ji} $$"
   ]
  },
  {
   "cell_type": "code",
   "execution_count": null,
   "metadata": {},
   "outputs": [],
   "source": [
    "C = A.T\n",
    "print(\"A.T = \\n{}\".format(C))"
   ]
  },
  {
   "cell_type": "markdown",
   "metadata": {},
   "source": [
    "### Trace\n",
    "\n",
    "$$ TrA = \\sum_{i=1}^N A_{ii} $$"
   ]
  },
  {
   "cell_type": "code",
   "execution_count": null,
   "metadata": {},
   "outputs": [],
   "source": [
    "C = np.trace(A)\n",
    "print(\"TrA = {}\".format(C))"
   ]
  },
  {
   "cell_type": "markdown",
   "metadata": {},
   "source": [
    "### Matrix-vector product\n",
    "\n",
    "$$ \\bf{y} = \\bf{Ax} $$\n",
    "$$ y_i = \\sum_{j=1}^M A_{ij} x_j $$"
   ]
  },
  {
   "cell_type": "code",
   "execution_count": null,
   "metadata": {},
   "outputs": [],
   "source": [
    "y = np.matmul(A, x)\n",
    "print(\"Ax = {}\".format(y))"
   ]
  },
  {
   "cell_type": "markdown",
   "metadata": {},
   "source": [
    "### Matrix-matrix product\n",
    "\n",
    "$$ C = AB $$\n",
    "$$ C_{ij} = \\sum_{k=1}^M A_{ik} B_{kj} $$"
   ]
  },
  {
   "cell_type": "code",
   "execution_count": null,
   "metadata": {},
   "outputs": [],
   "source": [
    "C = np.matmul(A, B)\n",
    "print(\"AB = \\n{}\".format(C))"
   ]
  },
  {
   "cell_type": "markdown",
   "metadata": {},
   "source": [
    "### Properties of the Matrix-matrix product:\n",
    "\n",
    "no commutation in general: $ AB \\ne BA $\n",
    "\n",
    "association: $ A(BC) = (AB)C $\n",
    "\n",
    "distribution: $ A(B + C) = AB + AC $\n",
    "\n",
    "transposition: $ (AB)^T = B^T A^T $\n",
    "\n",
    "inversion: $ A^{-1} A = A A^{-1} = I $ if $ det(A) \\ne 0 $"
   ]
  },
  {
   "cell_type": "markdown",
   "metadata": {},
   "source": [
    "## Exercise\n",
    "\n",
    "Confirm that the above properties of matrix-matrix products are true."
   ]
  },
  {
   "cell_type": "code",
   "execution_count": null,
   "metadata": {},
   "outputs": [],
   "source": []
  },
  {
   "cell_type": "markdown",
   "metadata": {},
   "source": [
    "## Determining linear independence of a set of vectors\n",
    "\n",
    "In some problems we may encounter a scenario where we have a set of vectors and need to determine whether the vectors are linearly independent. We may need to determine if the vectors form a basis, to determine how many independent equations there are, or determine how many independent reactions there are."
   ]
  },
  {
   "cell_type": "code",
   "execution_count": null,
   "metadata": {},
   "outputs": [],
   "source": [
    "import numpy as np\n",
    "v1 = [6, 0, 3, 1, 4, 2]\n",
    "v2 = [0, -1, 2, 7, 0, 5]\n",
    "v3 = [12, 3, 0, -19, 8, -11]\n",
    "\n",
    "A = np.row_stack([v1, v2, v3])\n",
    "\n",
    "# matlab definition\n",
    "eps = np.finfo(np.linalg.norm(A).dtype).eps\n",
    "TOLERANCE = max(eps * np.array(A.shape))\n",
    "\n",
    "U, s, V = np.linalg.svd(A)\n",
    "print(s)\n",
    "print(np.sum(s > TOLERANCE))\n",
    "\n",
    "TOLERANCE = 1e-14\n",
    "print(np.sum(s > TOLERANCE))"
   ]
  },
  {
   "cell_type": "markdown",
   "metadata": {},
   "source": [
    "It looks like the third vector can be written as a linear combination of the first two. We can determine how by solving a linear system of equations."
   ]
  },
  {
   "cell_type": "code",
   "execution_count": null,
   "metadata": {},
   "outputs": [],
   "source": [
    "A = np.column_stack([v1, v2])\n",
    "x = np.linalg.lstsq(A, v3)\n",
    "print(x[0])"
   ]
  },
  {
   "cell_type": "markdown",
   "metadata": {},
   "source": [
    "## Example: Hydrogenation of Bromine\n",
    "\n",
    " The following reactions are proposed in the hydrogenation of bromine:\n",
    "\n",
    "Let this be our species vector: $ \\begin{bmatrix} H_2, H, Br_2, Br, HBr \\end{bmatrix}^T $\n",
    "\n",
    "the reactions are then defined by M*v where M is a stoichometric matrix in which each row represents a reaction with negative stoichiometric coefficients for reactants, and positive stoichiometric coefficients for products. A stoichiometric coefficient of 0 is used for species not participating in the reaction. "
   ]
  },
  {
   "cell_type": "code",
   "execution_count": null,
   "metadata": {},
   "outputs": [],
   "source": [
    "#    [H2  H Br2 Br HBr]\n",
    "M = [[-1,  0, -1,  0,  2],  # H2 + Br2 == 2HBR\n",
    "     [ 0,  0, -1,  2,  0],  # Br2 == 2Br\n",
    "     [-1,  1,  0, -1,  1],  # Br + H2 == HBr + H\n",
    "     [ 0, -1, -1,  1,  1],  # H + Br2 == HBr + Br\n",
    "     [ 1, -1,  0,  1,  -1], # H + HBr == H2 + Br\n",
    "     [ 0,  0,  1, -2,  0]]  # 2Br == Br2"
   ]
  },
  {
   "cell_type": "code",
   "execution_count": null,
   "metadata": {},
   "outputs": [],
   "source": [
    "print(U.shape, s.shape, V.shape)"
   ]
  },
  {
   "cell_type": "code",
   "execution_count": null,
   "metadata": {},
   "outputs": [],
   "source": [
    "U, s, V = np.linalg.svd(M)\n",
    "print(s)\n",
    "print(np.sum(np.abs(s) > 1e-15))"
   ]
  },
  {
   "cell_type": "code",
   "execution_count": null,
   "metadata": {},
   "outputs": [],
   "source": [
    "S = np.zeros((6, 5))\n",
    "for idx, i in enumerate(s):\n",
    "    S[idx, idx] = i\n",
    "print(U @ S @ V)"
   ]
  },
  {
   "cell_type": "code",
   "execution_count": null,
   "metadata": {},
   "outputs": [],
   "source": [
    "import sympy\n",
    "M = sympy.Matrix(M)\n",
    "reduced_form, inds = M.rref()\n",
    "\n",
    "print(reduced_form)"
   ]
  },
  {
   "cell_type": "code",
   "execution_count": null,
   "metadata": {},
   "outputs": [],
   "source": [
    "labels = ['H2',  'H', 'Br2', 'Br', 'HBr']\n",
    "for row in reduced_form.tolist():\n",
    "    s = '0 = '\n",
    "    for nu,species in zip(row,labels):\n",
    "        if nu != 0:\n",
    "\n",
    "            s += ' {0:+d}{1}'.format(int(nu), species)\n",
    "    if s != '0 = ':\n",
    "        print(s)"
   ]
  }
 ],
 "metadata": {
  "kernelspec": {
   "display_name": "Python 3",
   "language": "python",
   "name": "python3"
  },
  "language_info": {
   "codemirror_mode": {
    "name": "ipython",
    "version": 3
   },
   "file_extension": ".py",
   "mimetype": "text/x-python",
   "name": "python",
   "nbconvert_exporter": "python",
   "pygments_lexer": "ipython3",
   "version": "3.7.7"
  }
 },
 "nbformat": 4,
 "nbformat_minor": 4
}
