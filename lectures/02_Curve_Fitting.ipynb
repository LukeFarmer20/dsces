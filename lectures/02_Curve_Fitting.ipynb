{
 "cells": [
  {
   "cell_type": "code",
   "execution_count": null,
   "metadata": {},
   "outputs": [],
   "source": [
    "import numpy as np\n",
    "np.random.seed(123)\n",
    "import matplotlib.pyplot as plt"
   ]
  },
  {
   "cell_type": "markdown",
   "metadata": {},
   "source": [
    "# Curve Fitting"
   ]
  },
  {
   "cell_type": "markdown",
   "metadata": {},
   "source": [
    "Let's examine how we can use data stored in numpy arrays to perform curve fitting."
   ]
  },
  {
   "cell_type": "markdown",
   "metadata": {},
   "source": [
    "## Polynomial Functions in NumPy"
   ]
  },
  {
   "cell_type": "markdown",
   "metadata": {},
   "source": [
    "`numpy` provides a function `np.poly1d` to allow you to easily construct and evaluate polynomial functions of arbitrary order. Note that you can construct polynomials by passing `np.poly1d` an array of coefficients or roots."
   ]
  },
  {
   "cell_type": "markdown",
   "metadata": {},
   "source": [
    "## $y(x) = c_0 + c_1 x + c_2 x^2 + .. + c_n x^n = \\sum_{i=1}^n c_i x^i$"
   ]
  },
  {
   "cell_type": "code",
   "execution_count": null,
   "metadata": {},
   "outputs": [],
   "source": [
    "help(np.poly1d)"
   ]
  },
  {
   "cell_type": "markdown",
   "metadata": {},
   "source": [
    "Let's plot a straight line $y(x)=mx+b$ with slope m=0.5 and y-intercept b=0."
   ]
  },
  {
   "cell_type": "code",
   "execution_count": null,
   "metadata": {},
   "outputs": [],
   "source": [
    "x = np.linspace(-5, 5)\n",
    "y = np.poly1d([0.5, 0.])(x)\n",
    "plt.scatter(x, y)\n",
    "plt.plot(x, y)"
   ]
  },
  {
   "cell_type": "markdown",
   "metadata": {},
   "source": [
    "Let's construct a simple parabola $y(x)=x^2$"
   ]
  },
  {
   "cell_type": "code",
   "execution_count": null,
   "metadata": {},
   "outputs": [],
   "source": [
    "x = np.linspace(-5, 5)\n",
    "y = np.poly1d([1.0, 0.0, 0.0])(x)\n",
    "plt.scatter(x, y)\n",
    "plt.plot(x, y)"
   ]
  },
  {
   "cell_type": "markdown",
   "metadata": {},
   "source": [
    "## Polynomial Function Fitting"
   ]
  },
  {
   "cell_type": "markdown",
   "metadata": {},
   "source": [
    "In this example, we attempt to fit a n-degree polynomial to the function $y(x) = sin(2x)$, where n is varied between 4-10."
   ]
  },
  {
   "cell_type": "markdown",
   "metadata": {},
   "source": [
    "### x ~ inputs (features, independent variables)\n",
    "### y ~ outputs (labels, dependent variables)"
   ]
  },
  {
   "cell_type": "code",
   "execution_count": null,
   "metadata": {},
   "outputs": [],
   "source": [
    "x = np.linspace(0, 2*np.pi, 64)\n",
    "y = np.sin(2*x)\n",
    "plt.plot(x, y)\n",
    "plt.show()\n",
    "plt.close()"
   ]
  },
  {
   "cell_type": "code",
   "execution_count": null,
   "metadata": {},
   "outputs": [],
   "source": [
    "help(np.polyfit)"
   ]
  },
  {
   "cell_type": "code",
   "execution_count": null,
   "metadata": {},
   "outputs": [],
   "source": [
    "for deg in [4, 6, 8, 10]:\n",
    "    z = np.polyfit(x, y, deg=deg)\n",
    "    y_fit = np.poly1d(z)\n",
    "    plt.plot(x, y_fit(x))\n",
    "    plt.plot(x, y)\n",
    "    plt.legend(['pred', 'target'])\n",
    "    plt.title(\"poly deg: {}\".format(deg))\n",
    "    plt.show()\n",
    "    plt.close()"
   ]
  },
  {
   "cell_type": "markdown",
   "metadata": {},
   "source": [
    "Always be aware that sometimes models fit with data can perform unexpected when applied outside the training data distribution. If the model you use to fit does not match well with the model generating the data (here, using a polynomial to fit a periodic function), you may see odd results!"
   ]
  },
  {
   "cell_type": "code",
   "execution_count": null,
   "metadata": {},
   "outputs": [],
   "source": [
    "x_pred = np.linspace(0, 2.2*np.pi, 128)\n",
    "\n",
    "for deg in [4, 6, 8, 10]:\n",
    "    z = np.polyfit(x, y, deg=deg)\n",
    "    y_fit = np.poly1d(z)\n",
    "    plt.plot(x_pred, y_fit(x_pred))\n",
    "    plt.plot(x_pred, np.sin(2*x_pred))\n",
    "    plt.legend(['pred', 'target'])\n",
    "    plt.title(\"poly deg: {}\".format(deg))\n",
    "    plt.show()\n",
    "    plt.close()"
   ]
  },
  {
   "cell_type": "markdown",
   "metadata": {},
   "source": [
    "## Fitting Arbitrary Functions"
   ]
  },
  {
   "cell_type": "markdown",
   "metadata": {},
   "source": [
    "Here, we use the `scipy.optimize.curve_fit` function to fit the same data to a periodic function. Be aware that that the starting guess for parameters has an effect on the outcome!"
   ]
  },
  {
   "cell_type": "code",
   "execution_count": null,
   "metadata": {},
   "outputs": [],
   "source": [
    "from scipy.optimize import curve_fit\n",
    "help(curve_fit)"
   ]
  },
  {
   "cell_type": "code",
   "execution_count": null,
   "metadata": {},
   "outputs": [],
   "source": [
    "x = np.linspace(0, 2*np.pi, 64)\n",
    "y = np.sin(2.0*x)\n",
    "\n",
    "def func(x, k):\n",
    "    return np.sin(k*x)\n",
    "\n",
    "pars, pcov = curve_fit(func, x, y, p0=[1.7])\n",
    "print(pars, pcov)"
   ]
  },
  {
   "cell_type": "code",
   "execution_count": null,
   "metadata": {},
   "outputs": [],
   "source": [
    "plt.plot(x, func(x, *pars))\n",
    "plt.plot(x, y)\n",
    "plt.legend(['pred', 'target'])"
   ]
  },
  {
   "cell_type": "markdown",
   "metadata": {},
   "source": [
    "# Example: Estimating the Rate Constant of a First-Order Reaction"
   ]
  },
  {
   "cell_type": "markdown",
   "metadata": {},
   "source": [
    "Let's consider a batch-reactor where we are performing a first-order, irreversible reaction with some species \"A\". In the problem, we'd like to determine the rate constant $k_1$ by measuring the concentration of species A, $C_A$, at fixed time intervals."
   ]
  },
  {
   "cell_type": "markdown",
   "metadata": {},
   "source": [
    "For a first order, irreversible reaction, we have from the law of mass action:"
   ]
  },
  {
   "cell_type": "markdown",
   "metadata": {},
   "source": [
    "### $\\frac{dC_A}{dt} = k_1 C_A$"
   ]
  },
  {
   "cell_type": "markdown",
   "metadata": {},
   "source": [
    "The resulting first order differential equation yields the solution:"
   ]
  },
  {
   "cell_type": "markdown",
   "metadata": {},
   "source": [
    "$ C_A(t) = C_{A,0} exp(-k_1t)$"
   ]
  },
  {
   "cell_type": "markdown",
   "metadata": {},
   "source": [
    "where $C_{A,0}$ is the starting concentration of species A"
   ]
  },
  {
   "cell_type": "markdown",
   "metadata": {},
   "source": [
    "## Generating Data"
   ]
  },
  {
   "cell_type": "markdown",
   "metadata": {},
   "source": [
    "In lieu of collection actual measurements, we will generate synthetic data using the solution to the ODE and add random noise to represent \"measurement error\""
   ]
  },
  {
   "cell_type": "code",
   "execution_count": null,
   "metadata": {},
   "outputs": [],
   "source": [
    "k = 0.5 # s-1\n",
    "Ca_0 = 10.0 # mol\n",
    "noise = 5e-1 # measurement error\n",
    "t = np.linspace(0, 10, 20)\n",
    "Ca = Ca_0 * np.exp(-k*t)\n",
    "Ca += noise * np.random.randn(*Ca.shape)\n",
    "plt.scatter(t, Ca)"
   ]
  },
  {
   "cell_type": "markdown",
   "metadata": {},
   "source": [
    "## Estimating the Rate Constant with Imperfect Data"
   ]
  },
  {
   "cell_type": "markdown",
   "metadata": {},
   "source": [
    "Let's use `curve_fit` to determine the rate constant $k_1$ given our \"measurement\" data and functional form of the concentration as a function of time."
   ]
  },
  {
   "cell_type": "code",
   "execution_count": null,
   "metadata": {},
   "outputs": [],
   "source": [
    "def func(t, Ca_0, k):\n",
    "    return Ca_0 * np.exp(-k*t)\n",
    "\n",
    "pars, pcov = curve_fit(func, t, Ca, p0=[1., 1.])\n",
    "print(pars)\n",
    "plt.scatter(t, Ca)\n",
    "plt.plot(t, func(t, *pars))"
   ]
  }
 ],
 "metadata": {
  "kernelspec": {
   "display_name": "Python 3",
   "language": "python",
   "name": "python3"
  },
  "language_info": {
   "codemirror_mode": {
    "name": "ipython",
    "version": 3
   },
   "file_extension": ".py",
   "mimetype": "text/x-python",
   "name": "python",
   "nbconvert_exporter": "python",
   "pygments_lexer": "ipython3",
   "version": "3.5.6"
  }
 },
 "nbformat": 4,
 "nbformat_minor": 2
}
