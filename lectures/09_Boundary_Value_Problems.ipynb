{
 "cells": [
  {
   "cell_type": "code",
   "execution_count": null,
   "metadata": {},
   "outputs": [],
   "source": [
    "import numpy as np\n",
    "import matplotlib.pyplot as plt\n",
    "from scipy.integrate import solve_bvp"
   ]
  },
  {
   "cell_type": "markdown",
   "metadata": {},
   "source": [
    "# Review: Reduction of Order\n",
    "\n",
    "Let's review the reduction of order technique we learned in last lecture."
   ]
  },
  {
   "cell_type": "markdown",
   "metadata": {},
   "source": [
    "## Example"
   ]
  },
  {
   "cell_type": "markdown",
   "metadata": {},
   "source": [
    "$$ \\frac{d^2y}{dt^2} = f(t) $$\n",
    "$$ y(0) = 1, y'(0) = 0 $$"
   ]
  },
  {
   "cell_type": "markdown",
   "metadata": {},
   "source": [
    "Step 1: Introduce substitution variable\n",
    "    \n",
    "$$ \\frac{dy}{dt} = z(t) $$"
   ]
  },
  {
   "cell_type": "markdown",
   "metadata": {},
   "source": [
    "Step 2: Re-write equation of interest in terms of substitution variable\n",
    "    \n",
    "$$ \\frac{d}{dt} \\frac{dy}{dt} = \\frac{dz}{dt} = f(t) $$"
   ]
  },
  {
   "cell_type": "markdown",
   "metadata": {},
   "source": [
    "Step 3: Re-write boundary conditions\n",
    "\n",
    "$$ y(0) = 1, z(0) = 0 $$"
   ]
  },
  {
   "cell_type": "markdown",
   "metadata": {},
   "source": [
    "Step 4: Combine the results of each previous step\n",
    "    \n",
    "$$ \\frac{dy}{dt} = z(t) $$\n",
    "$$ \\frac{dz}{dt} = f(t) $$\n",
    "$$ y(0) = 1, z(0) = 0 $$"
   ]
  },
  {
   "cell_type": "markdown",
   "metadata": {},
   "source": [
    "Step 5: Modify variable names (for convenience only)\n",
    "    \n",
    "$$ \\frac{dy_1}{dt} = y_2(t) $$\n",
    "$$ \\frac{dy_2}{dt} = f(t) $$\n",
    "$$ y_1(0) = 1, y_2(0) = 0 $$"
   ]
  },
  {
   "cell_type": "code",
   "execution_count": null,
   "metadata": {},
   "outputs": [],
   "source": [
    "from scipy.integrate import solve_ivp\n",
    "\n",
    "# let f(x) = c = 1.0\n",
    "def f(t, y):\n",
    "    return [y[1], 1.0]\n",
    "\n",
    "t_span = [0., 10.]\n",
    "y0 = [1.0, 0.0]\n",
    "\n",
    "sol = solve_ivp(f, t_span, y0, t_eval=np.linspace(*t_span, 100))\n",
    "y = sol.y[0]\n",
    "t = sol.t\n",
    "plt.plot(t, y)\n",
    "plt.xlabel(\"t\")\n",
    "plt.ylabel(\"y\")"
   ]
  },
  {
   "cell_type": "markdown",
   "metadata": {},
   "source": [
    "## Exercise"
   ]
  },
  {
   "cell_type": "markdown",
   "metadata": {},
   "source": [
    "Construct a system of first-order ordinary differential equations for the following equations:\n",
    "\n",
    "$$ \\frac{d^2y}{dt^2} = sin(t) $$\n",
    "$$ y(0) = 1, y'(0) = 0 $$\n",
    "    \n",
    "$$ \\frac{d^2y}{dt^2} + k^2 y = 0 $$\n",
    "$$ y(0) = 1, y'(0) = 0 $$\n",
    "\n",
    "$$ \\frac{d^2y}{dt^2} + \\frac{dy}{dt} + 3y = 0 $$\n",
    "$$ y(0) = 1, y'(0) = 0 $$"
   ]
  },
  {
   "cell_type": "markdown",
   "metadata": {},
   "source": [
    "# Boundary Value Problems\n",
    "\n",
    "A boundary value problem is a differential equation that is solved subject to a set of constraints applied at the domain boundaries called boundary conditions. We can use `scipy.integrate.solve_bvp` to produce numerical solutions to these equations."
   ]
  },
  {
   "cell_type": "markdown",
   "metadata": {},
   "source": [
    "## Example: Simple BVP"
   ]
  },
  {
   "cell_type": "markdown",
   "metadata": {},
   "source": [
    "$$ \\frac{du}{dx} = f(x, u) = 1 $$\n",
    "$$ u(0) = 1, 0<x<1 $$"
   ]
  },
  {
   "cell_type": "code",
   "execution_count": null,
   "metadata": {},
   "outputs": [],
   "source": [
    "def f(x, u):\n",
    "    retval = np.ones((1, x.size))\n",
    "    print(\"retval.shape: {}\".format(retval.shape))\n",
    "    return retval\n",
    "\n",
    "def bc(ua, ub):\n",
    "    print(\"ua.shape: {}, ub.shape: {}\".format(ua.shape, ub.shape))\n",
    "    return [ua[0]-1]\n",
    "\n",
    "x = np.linspace(0., 1.)\n",
    "u = np.zeros((1, x.size))\n",
    "sol = solve_bvp(f, bc, x, u)\n",
    "u_sol = sol.y[0]\n",
    "plt.scatter(x, u_sol)\n",
    "\n",
    "print(\"x.shape: {}, u.shape: {}, u_sol.shape: {}\".format(x.shape, u.shape, u_sol.shape))"
   ]
  },
  {
   "cell_type": "markdown",
   "metadata": {},
   "source": [
    "## Example: 1-D Heat Conduction"
   ]
  },
  {
   "cell_type": "markdown",
   "metadata": {},
   "source": [
    "$$ \\frac{d^2u}{dx^2} = 0 $$\n",
    "$$ u(0) = T_0, u(1) = T_1 $$\n",
    "$$ 0<x<1 $$"
   ]
  },
  {
   "cell_type": "markdown",
   "metadata": {},
   "source": [
    "Step 1: Introduce substitution variable\n",
    "    \n",
    "$$ \\frac{du}{dx} = v $$\n",
    "\n",
    "Step 2: Re-write original equation\n",
    "    \n",
    "$$ \\frac{dv}{dx} = 0 $$\n",
    "\n",
    "Step 3: Re-write boundary conditions\n",
    "\n",
    "$$ u(0) = T_0, u(1) = T_1 $$\n",
    "\n",
    "Step 4: Combine previous steps\n",
    "\n",
    "$$ \\frac{du}{dx} = v $$\n",
    "$$ \\frac{dv}{dx} = 0 $$\n",
    "$$ u(0) = T_0, u(1) = T_1 $$"
   ]
  },
  {
   "cell_type": "code",
   "execution_count": null,
   "metadata": {},
   "outputs": [],
   "source": [
    "T0 = 100.\n",
    "T1 = 275.\n",
    "\n",
    "def f(x, u):\n",
    "    retval = np.stack((u[1], np.zeros(x.size)), axis=0)\n",
    "    print(\"retval.shape: {}\".format(retval.shape))\n",
    "    return retval\n",
    "\n",
    "def bc(ua, ub):\n",
    "    print(\"ua.shape: {}, ub.shape: {}\".format(ua.shape, ub.shape))\n",
    "    return [ua[0]-T0, ub[0]-T1]\n",
    "\n",
    "x = np.linspace(0, 1)\n",
    "u = np.zeros((2, x.size))\n",
    "sol = solve_bvp(f, bc, x, u)\n",
    "u_sol = sol.y[0]\n",
    "plt.scatter(x, u_sol)"
   ]
  },
  {
   "cell_type": "markdown",
   "metadata": {},
   "source": [
    "## Exercise: Plane Poiseuille Flow"
   ]
  },
  {
   "cell_type": "markdown",
   "metadata": {},
   "source": [
    "Plane Poiseuille flow is flow created between two infinitely long parallel plates, separated by a distance $h$ with a constant pressure gradient ($ G = − \\frac{dp}{dx} = constant $) applied in the direction of flow. The flow is essentially unidirectional because of infinite length. We can write the Navier-Stokes equation as:\n",
    "\n",
    "$$ \\frac{d^2u}{dx^2} = - \\frac{G}{\\mu} $$\n",
    "\n",
    "and the no-slip conditions as:\n",
    "\n",
    "$$ u(0) = 0, u(h) = 0 $$\n",
    "\n",
    "Solve the equation given:\n",
    "\n",
    "$$ h = 1, \\frac{G}{\\mu} = 1.0 $$"
   ]
  },
  {
   "cell_type": "code",
   "execution_count": null,
   "metadata": {},
   "outputs": [],
   "source": []
  },
  {
   "cell_type": "markdown",
   "metadata": {},
   "source": [
    "## Example: 1-D Reaction-diffusion equation"
   ]
  },
  {
   "cell_type": "markdown",
   "metadata": {},
   "source": [
    "The one-dimensional, time-dependent reaction-diffusion equation can be written as:\n",
    "    \n",
    "$$ \\frac{\\partial c}{\\partial t} = \\mathscr{D} \\frac{\\partial^2 c}{\\partial x^2} + R(c) $$\n",
    "\n",
    "where $\\mathscr{D}$ is the diffusion constant and $R(c)$ is the rate of generation by chemical reaction.\n",
    "\n",
    "We are interested in the steady-state concentration profile given a first order reaction and the following boundary conditions:\n",
    "\n",
    "$$ R(c) = -k c $$\n",
    "$$ c(0) = C_0, c(L) = C_0 $$\n",
    "$$ 0 < x < L $$\n",
    "\n",
    "We re-write the reaction-diffusion equation as:\n",
    "\n",
    "$$ \\frac{d^2u}{d\\xi^2} = Da*u $$\n",
    "\n",
    "Where we have introduce the following dimensionless variables:\n",
    "\n",
    "$$ u = \\frac{c}{C_0} $$\n",
    "$$ \\xi = \\frac{x}{L} $$\n",
    "$$ Da = \\frac{k C_0^{n-1}}{\\mathscr{D}L^2} $$\n",
    "\n",
    "$Da$ is known as the Damköhler number, which describes the relative ratio between the chemical reaction rate (of order $n$) and mass transfer rate.\n",
    "\n",
    "Finally, we re-write this as a system of coupled, first-order ODEs:\n",
    "\n",
    "$$ \\frac{du}{d\\xi} = v $$\n",
    "$$ \\frac{dv}{d\\xi} = Da*u $$\n",
    "$$ u(0) = 1, u(1) = 1 $$\n",
    "$$ 0 < x < 1 $$"
   ]
  },
  {
   "cell_type": "code",
   "execution_count": null,
   "metadata": {},
   "outputs": [],
   "source": [
    "# Let's solve the equation for a few different values of Da\n",
    "for Da in [1e-2, 1e-1, 1., 10.]:\n",
    "\n",
    "    def f(x, y):\n",
    "        return np.stack((y[1], y[0]*Da), axis=0)\n",
    "\n",
    "    def bc(ya, yb):\n",
    "        return [ya[0]-1, yb[0]-1]\n",
    "\n",
    "    x = np.linspace(0, 1)\n",
    "    u = np.zeros((2, x.size))\n",
    "    sol = solve_bvp(f, bc, x, u)\n",
    "    u_sol = sol.y[0]\n",
    "    plt.scatter(x, u_sol, label=\"Da: {}\".format(Da))\n",
    "\n",
    "plt.xlabel(\"$\\\\xi=x/L$\")\n",
    "plt.ylabel(\"$u=c/C_0$\")\n",
    "plt.legend()\n",
    "plt.show()\n",
    "plt.close()"
   ]
  },
  {
   "cell_type": "markdown",
   "metadata": {},
   "source": [
    "## Exercise: 1-D Reaction-diffusion equation\n",
    "\n",
    "Try repeating the above analysis for a second-order reaction:\n",
    "    \n",
    "$$ R(c) = k c^2 $$"
   ]
  },
  {
   "cell_type": "code",
   "execution_count": null,
   "metadata": {},
   "outputs": [],
   "source": []
  }
 ],
 "metadata": {
  "kernelspec": {
   "display_name": "Python 3",
   "language": "python",
   "name": "python3"
  },
  "language_info": {
   "codemirror_mode": {
    "name": "ipython",
    "version": 3
   },
   "file_extension": ".py",
   "mimetype": "text/x-python",
   "name": "python",
   "nbconvert_exporter": "python",
   "pygments_lexer": "ipython3",
   "version": "3.5.6"
  }
 },
 "nbformat": 4,
 "nbformat_minor": 4
}
