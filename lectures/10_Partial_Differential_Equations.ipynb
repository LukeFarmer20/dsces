{
 "cells": [
  {
   "cell_type": "code",
   "execution_count": null,
   "metadata": {},
   "outputs": [],
   "source": [
    "import numpy as np\n",
    "import matplotlib.pyplot as plt\n",
    "from scipy.integrate import solve_bvp"
   ]
  },
  {
   "cell_type": "markdown",
   "metadata": {},
   "source": [
    "# Boundary Value Problems"
   ]
  },
  {
   "cell_type": "markdown",
   "metadata": {},
   "source": [
    "## Example: 1-D Reaction-diffusion equation"
   ]
  },
  {
   "cell_type": "markdown",
   "metadata": {},
   "source": [
    "The one-dimensional, time-dependent reaction-diffusion equation can be written as:\n",
    "    \n",
    "$$ \\frac{\\partial c}{\\partial t} = \\mathscr{D} \\frac{\\partial^2 c}{\\partial x^2} + R(c) $$\n",
    "\n",
    "where $\\mathscr{D}$ is the diffusion constant and $R(c)$ is the rate of generation by chemical reaction.\n",
    "\n",
    "We are interested in the steady-state concentration profile given a first order reaction and the following boundary conditions:\n",
    "\n",
    "$$ R(c) = -k c $$\n",
    "$$ c(0) = C_0, c(L) = C_0 $$\n",
    "$$ 0 < x < L $$\n",
    "\n",
    "We re-write the reaction-diffusion equation as:\n",
    "\n",
    "$$ \\frac{d^2u}{d\\xi^2} = Da*u $$\n",
    "\n",
    "Where we have introduce the following dimensionless variables:\n",
    "\n",
    "$$ u = \\frac{c}{C_0} $$\n",
    "$$ \\xi = \\frac{x}{L} $$\n",
    "$$ Da = \\frac{k C_0^{n-1}}{\\mathscr{D}L^2} $$\n",
    "\n",
    "$Da$ is known as the Damköhler number, which describes the relative ratio between the chemical reaction rate (of order $n$) and mass transfer rate.\n",
    "\n",
    "Finally, we re-write this as a system of coupled, first-order ODEs:\n",
    "\n",
    "$$ \\frac{du}{d\\xi} = v $$\n",
    "$$ \\frac{dv}{d\\xi} = Da*u $$\n",
    "$$ u(0) = 1, u(1) = 1 $$\n",
    "$$ 0 < x < 1 $$"
   ]
  },
  {
   "cell_type": "code",
   "execution_count": null,
   "metadata": {},
   "outputs": [],
   "source": [
    "# Let's solve the equation for a few different values of Da\n",
    "for Da in [1e-2, 1e-1, 1., 10.]:\n",
    "\n",
    "    def f(x, y):\n",
    "        return np.stack((y[1], y[0]*Da), axis=0)\n",
    "\n",
    "    def bc(ya, yb):\n",
    "        return [ya[0]-1, yb[0]-1]\n",
    "\n",
    "    x = np.linspace(0, 1)\n",
    "    u = np.zeros((2, x.size))\n",
    "    sol = solve_bvp(f, bc, x, u)\n",
    "    u_sol = sol.y[0]\n",
    "    plt.scatter(x, u_sol, label=\"Da: {}\".format(Da))\n",
    "\n",
    "plt.xlabel(\"$\\\\xi=x/L$\")\n",
    "plt.ylabel(\"$u=c/C_0$\")\n",
    "plt.legend()\n",
    "plt.show()\n",
    "plt.close()"
   ]
  },
  {
   "cell_type": "markdown",
   "metadata": {},
   "source": [
    "## Exercise: 1-D Reaction-diffusion equation\n",
    "\n",
    "Try repeating the above analysis for a second-order reaction:\n",
    "    \n",
    "$$ R(c) = k c^2 $$"
   ]
  },
  {
   "cell_type": "code",
   "execution_count": null,
   "metadata": {},
   "outputs": [],
   "source": []
  },
  {
   "cell_type": "markdown",
   "metadata": {},
   "source": [
    "# Gradients\n",
    "\n",
    "Numpy has a built-in function for performing numerical differentiation. The gradient is computed using a second-order, central difference method on the interior points and a first- or second-order forward/backward difference method on either boundary. Let's use the `np.gradient` function to check our answers above."
   ]
  },
  {
   "cell_type": "markdown",
   "metadata": {},
   "source": [
    "We wrote down the reaction-diffusion equation as:\n",
    "\n",
    "$$ \\frac{d^2u}{d\\xi^2} = Da*u $$\n",
    "\n",
    "Does $ \\frac{d}{dx} \\frac{d}{dx} u = Da*u $?"
   ]
  },
  {
   "cell_type": "code",
   "execution_count": null,
   "metadata": {},
   "outputs": [],
   "source": [
    "u_sol_grad = np.gradient(u_sol, x, edge_order=2)\n",
    "u_sol_grad_grad = np.gradient(u_sol_grad, x, edge_order=2)\n",
    "plt.plot(x, Da*u_sol)\n",
    "plt.plot(x, u_sol_grad_grad)"
   ]
  },
  {
   "cell_type": "markdown",
   "metadata": {},
   "source": [
    "# Partial differential equations\n",
    "\n",
    "We can combine `np.gradients` with `scipy.integrate.solve_ivp` to solve partial differential equations with independent time and space variables. Let's re-visit the problem of 1-D heat conduction, this time considering the time-dependent solution."
   ]
  },
  {
   "cell_type": "markdown",
   "metadata": {},
   "source": [
    "## Example: 1-D Heat Conduction"
   ]
  },
  {
   "cell_type": "markdown",
   "metadata": {},
   "source": [
    "$$ \\frac{\\partial u}{\\partial t} = \\alpha \\frac{\\partial^2u}{\\partial x^2} $$\n",
    "$$ u(0, t) = T_0, u(1, t) = T_1, u(x, 0) = T_0 $$\n",
    "$$ 0<x<1, t>0 $$"
   ]
  },
  {
   "cell_type": "code",
   "execution_count": null,
   "metadata": {},
   "outputs": [],
   "source": [
    "from scipy.integrate import solve_ivp\n",
    "\n",
    "def f(t, y, x, alpha):\n",
    "    rhs = alpha * np.gradient(np.gradient(y, x), x)\n",
    "    # setting the RHS on the boundary to 0 preserves the boundary conditions\n",
    "    rhs[0] = 0.\n",
    "    rhs[-1] = 0.\n",
    "    return rhs\n",
    "    \n",
    "alpha = 0.1\n",
    "T0 = 100.\n",
    "T1 = 275.\n",
    "t_span = [0., 5.]\n",
    "y0 = np.ones((50,)) * T0\n",
    "y0[-1] = T1\n",
    "x = np.linspace(0, 1, 50)\n",
    "t_eval = np.linspace(*t_span, 100)\n",
    "sol = solve_ivp(f, t_span, y0, t_eval=t_eval, args=(x, alpha))"
   ]
  },
  {
   "cell_type": "code",
   "execution_count": null,
   "metadata": {},
   "outputs": [],
   "source": [
    "y_plt = sol.y[:, ::10]\n",
    "for i in range(y_plt.shape[-1]):\n",
    "    plt.plot(x, y_plt)\n",
    "plt.legend(['t={}'.format(i*5/100*10) for i in range(y_plt.shape[-1])])\n",
    "plt.show()\n",
    "plt.close()"
   ]
  },
  {
   "cell_type": "markdown",
   "metadata": {},
   "source": [
    "## Converting Plots to Video\n",
    "\n",
    "Here's a nice routine for creating an animation of the transient heat conduction. The idea is to construct a function `animate` that creates the video one frame at a time, and the pass that function to `matplotlib.animation.FuncAnimation`."
   ]
  },
  {
   "cell_type": "code",
   "execution_count": null,
   "metadata": {},
   "outputs": [],
   "source": [
    "import matplotlib.animation as animation\n",
    "from IPython.display import HTML\n",
    "fig = plt.figure()\n",
    "def animate(i):\n",
    "    plt.clf()\n",
    "    plt.xlabel(\"x\")\n",
    "    plt.ylabel(\"T [K]\")\n",
    "    p = plt.plot(x, sol.y[:, i])\n",
    "    return p\n",
    "ani = animation.FuncAnimation(fig, animate, frames=len(sol.y))\n",
    "HTML(ani.to_html5_video())"
   ]
  },
  {
   "cell_type": "markdown",
   "metadata": {},
   "source": [
    "## Exercise: 1-D Reaction-Diffusion"
   ]
  },
  {
   "cell_type": "markdown",
   "metadata": {},
   "source": [
    "The one-dimensional, time-dependent reaction-diffusion equation can be written as:\n",
    "    \n",
    "$$ \\frac{\\partial u}{\\partial t} = \\frac{\\partial^2 u}{\\partial \\xi^2} - Da * u $$\n",
    "\n",
    "$$ u(0) = 1, u(1) = 1 $$\n",
    "$$ 0 < \\xi < 1, t > 0 $$\n",
    "\n",
    "where we use the same dimensionless variables defined above. Solve for the dimensionless concentration, u, when Da=10.\n",
    "\n"
   ]
  },
  {
   "cell_type": "code",
   "execution_count": null,
   "metadata": {},
   "outputs": [],
   "source": []
  }
 ],
 "metadata": {
  "kernelspec": {
   "display_name": "Python 3",
   "language": "python",
   "name": "python3"
  },
  "language_info": {
   "codemirror_mode": {
    "name": "ipython",
    "version": 3
   },
   "file_extension": ".py",
   "mimetype": "text/x-python",
   "name": "python",
   "nbconvert_exporter": "python",
   "pygments_lexer": "ipython3",
   "version": "3.7.7"
  }
 },
 "nbformat": 4,
 "nbformat_minor": 4
}
