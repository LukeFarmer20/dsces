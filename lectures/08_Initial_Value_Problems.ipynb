{
 "cells": [
  {
   "cell_type": "code",
   "execution_count": null,
   "metadata": {},
   "outputs": [],
   "source": [
    "import numpy as np\n",
    "import matplotlib.pyplot as plt"
   ]
  },
  {
   "cell_type": "markdown",
   "metadata": {},
   "source": [
    "# (More) Initial Value Problems"
   ]
  },
  {
   "cell_type": "markdown",
   "metadata": {},
   "source": [
    "By using a reduction of order technique, we can solve second-order linear ordinary differential equations with `solve_ivp`.\n",
    "\n",
    "$$ \\frac{d^2y}{dt^2} + q(t)\\frac{dy}{dt} = r(t) $$\n",
    "\n",
    "can be re-written as:\n",
    "\n",
    "$$ \\frac{dy}{dt} = z(t) $$\n",
    "$$ \\frac{dz}{dt} = r(t) - q(t) z(t) $$"
   ]
  },
  {
   "cell_type": "markdown",
   "metadata": {},
   "source": [
    "## Example: Reduction of Order"
   ]
  },
  {
   "cell_type": "markdown",
   "metadata": {},
   "source": [
    "Given the equation:\n",
    "\n",
    "$$ \\frac{d^2y}{dt^2} + y = 0 $$\n",
    "$$ y(0) = 1, y'(0) = 0 $$\n",
    "\n",
    "we can re-write as:\n",
    "\n",
    "$$ \\frac{dy_1}{dt} = -y_2 $$\n",
    "$$ \\frac{dy_2}{dt} = y_1 $$\n",
    "$$ y_1(0) = 0, y_2(0) = 1 $$"
   ]
  },
  {
   "cell_type": "code",
   "execution_count": null,
   "metadata": {},
   "outputs": [],
   "source": [
    "from scipy.integrate import solve_ivp\n",
    "def f(t, y):\n",
    "    y1, y2 = y\n",
    "    return [-y2, y1]\n",
    "\n",
    "t_span = [0, 2*np.pi]\n",
    "y0 = [0., 1.]\n",
    "\n",
    "sol = solve_ivp(f, t_span, y0, t_eval=np.linspace(*t_span))\n",
    "\n",
    "y1 = sol.y[0]\n",
    "y2 = sol.y[1]\n",
    "t = sol.t\n",
    "plt.plot(t, y1, label='y1')\n",
    "plt.plot(t, y2, label='y2')\n",
    "plt.legend()"
   ]
  },
  {
   "cell_type": "markdown",
   "metadata": {},
   "source": [
    "## Exercise: Second order ODE"
   ]
  },
  {
   "cell_type": "markdown",
   "metadata": {},
   "source": [
    "Solve the equation:\n",
    "\n",
    "$$ \\frac{d^2y}{dt^2} + y = cos(t) $$\n",
    "$$ y(0) = 1, y'(0) = 0, 0 < t < 10\\pi $$"
   ]
  },
  {
   "cell_type": "code",
   "execution_count": null,
   "metadata": {},
   "outputs": [],
   "source": []
  },
  {
   "cell_type": "markdown",
   "metadata": {},
   "source": [
    "## Exercise: Second order ODE"
   ]
  },
  {
   "cell_type": "markdown",
   "metadata": {},
   "source": [
    "$$ \\frac{d^2y}{dt^2} + \\frac{dy}{dt} + 3y = 0 $$\n",
    "$$ y(0) = 1, y'(0) = 0, 0<t<14 $$"
   ]
  },
  {
   "cell_type": "code",
   "execution_count": null,
   "metadata": {},
   "outputs": [],
   "source": []
  }
 ],
 "metadata": {
  "kernelspec": {
   "display_name": "Python 3",
   "language": "python",
   "name": "python3"
  },
  "language_info": {
   "codemirror_mode": {
    "name": "ipython",
    "version": 3
   },
   "file_extension": ".py",
   "mimetype": "text/x-python",
   "name": "python",
   "nbconvert_exporter": "python",
   "pygments_lexer": "ipython3",
   "version": "3.6.9"
  }
 },
 "nbformat": 4,
 "nbformat_minor": 4
}
