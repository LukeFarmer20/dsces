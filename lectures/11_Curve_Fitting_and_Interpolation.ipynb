{
  "nbformat": 4,
  "nbformat_minor": 0,
  "metadata": {
    "colab": {
      "name": "11_Curve_Fitting_and_Interpolation.ipynb",
      "provenance": [],
      "collapsed_sections": []
    },
    "kernelspec": {
      "name": "python3",
      "display_name": "Python 3"
    }
  },
  "cells": [
    {
      "cell_type": "code",
      "metadata": {
        "id": "1E0WJ8UlLNNE"
      },
      "source": [
        "import numpy as np\n",
        "import matplotlib.pyplot as plt"
      ],
      "execution_count": null,
      "outputs": []
    },
    {
      "cell_type": "markdown",
      "metadata": {
        "id": "5cgO5ONRLeJf"
      },
      "source": [
        "# (Getting Started) Working with Data"
      ]
    },
    {
      "cell_type": "markdown",
      "metadata": {
        "id": "5ykETNGkL5cp"
      },
      "source": [
        "## Example: Peak finding in Raman Spectroscopy (Kitchin 14.1)\n",
        "\n",
        "Raman spectroscopy is technique typically used to determine the vibrational models of a molecule or material, and provides a structural fingerprint by which molecules may be identified. The data reported by the instrument typically is stored as Intensity vs. Wavenumber, and is discrete rather than continuous. In order to characterize a molecule, one must determine the location of peaks in this data. Here, we will use data interpolation and fitting via spline smoothing to construct a continuous representation of the data and use this to determine peaks."
      ]
    },
    {
      "cell_type": "markdown",
      "metadata": {
        "id": "XyWzHLMAND7S"
      },
      "source": [
        "### Step 1: Downloading the data"
      ]
    },
    {
      "cell_type": "code",
      "metadata": {
        "id": "ZlQ2b5P9LgQk"
      },
      "source": [
        "import os\n",
        "os.system(\"wget https://raw.githubusercontent.com/jkitchin/pycse/master/data/raman.txt\")"
      ],
      "execution_count": null,
      "outputs": []
    },
    {
      "cell_type": "code",
      "metadata": {
        "id": "jZTBTloCN348"
      },
      "source": [
        "import io\n",
        "import requests\n",
        "r = requests.get('https://raw.githubusercontent.com/jkitchin/pycse/master/data/raman.txt')\n",
        "raman = io.StringIO(r.text)\n",
        "print(raman)"
      ],
      "execution_count": null,
      "outputs": []
    },
    {
      "cell_type": "markdown",
      "metadata": {
        "id": "IEhiWKaLNH5A"
      },
      "source": [
        "### Step 2: Loading the data"
      ]
    },
    {
      "cell_type": "code",
      "metadata": {
        "id": "cMfwd69GNHpw"
      },
      "source": [
        "data = np.loadtxt('raman.txt')\n",
        "print(data.shape)\n",
        "print(data)"
      ],
      "execution_count": null,
      "outputs": []
    },
    {
      "cell_type": "code",
      "metadata": {
        "id": "exiX0Ir4RGSq"
      },
      "source": [
        "rdata = np.loadtxt(raman)\n",
        "print(rdata.shape)\n",
        "print(rdata)"
      ],
      "execution_count": null,
      "outputs": []
    },
    {
      "cell_type": "code",
      "metadata": {
        "id": "g67TbvszOoAS"
      },
      "source": [
        "wn = data[:, 0]\n",
        "intens = data[:, 1]\n",
        "plt.plot(wn, intens)\n",
        "plt.xlabel(\"Wavenumber (cm$^{-1}$)\")\n",
        "plt.ylabel(\"Intensity (counts)\")"
      ],
      "execution_count": null,
      "outputs": []
    },
    {
      "cell_type": "markdown",
      "metadata": {
        "id": "SWzFb8O-QeyV"
      },
      "source": [
        "### Step 3: Select region of interest"
      ]
    },
    {
      "cell_type": "code",
      "metadata": {
        "id": "m_Xx02cjPXvU"
      },
      "source": [
        "ind = (wn > 1200) & (wn < 1300)\n",
        "w1 = wn[ind]\n",
        "i1 = intens[ind]\n",
        "\n",
        "plt.figure()\n",
        "plt.plot(w1, i1, 'b. ')\n",
        "plt.xlabel('Wavenumber (cm$^{-1}$)')\n",
        "plt.ylabel('Intensity (counts)')"
      ],
      "execution_count": null,
      "outputs": []
    },
    {
      "cell_type": "markdown",
      "metadata": {
        "id": "pd9E2uahReJO"
      },
      "source": [
        "### Step 4: Fit spline function"
      ]
    },
    {
      "cell_type": "code",
      "metadata": {
        "id": "6XMVVRhfPwzU"
      },
      "source": [
        "from scipy.interpolate import UnivariateSpline\n",
        "\n",
        "# s is a \"smoothing\" factor\n",
        "sp = UnivariateSpline(w1, i1, k=4, s=2000)\n",
        "\n",
        "plt.plot(w1, i1, 'b. ')\n",
        "plt.plot(w1, sp(w1), 'r-')\n",
        "plt.xlabel('Raman shift (cm$^{-1}$)')\n",
        "plt.ylabel('Intensity (counts)')"
      ],
      "execution_count": null,
      "outputs": []
    },
    {
      "cell_type": "code",
      "metadata": {
        "id": "Rn4BvDZNQGOw"
      },
      "source": [
        "# get the first derivative evaluated at all the points\n",
        "d1s = sp.derivative()\n",
        "\n",
        "d1 = d1s(w1)\n",
        "\n",
        "# we can get the roots directly here, which correspond to minima and\n",
        "# maxima.\n",
        "#print('Roots = {}'.format(sp.derivative().roots()))\n",
        "minmax = sp.derivative().roots()\n",
        "\n",
        "plt.clf()\n",
        "plt.plot(w1, d1, label='first derivative')\n",
        "plt.xlabel('Raman shift (cm$^{-1}$)')\n",
        "plt.ylabel('First derivative')\n",
        "plt.grid()\n",
        "\n",
        "plt.figure()\n",
        "plt.plot(minmax, d1s(minmax), 'ro ', label='zeros')\n",
        "plt.legend(loc='best')\n",
        "\n",
        "plt.plot(w1, i1, 'b. ')\n",
        "plt.plot(w1, sp(w1), 'r-')\n",
        "plt.xlabel('Raman shift (cm$^{-1}$)')\n",
        "plt.ylabel('Intensity (counts)')\n",
        "plt.plot(minmax, sp(minmax), 'ro ')"
      ],
      "execution_count": null,
      "outputs": []
    },
    {
      "cell_type": "code",
      "metadata": {
        "id": "UVpM_ly2R4Gt"
      },
      "source": [
        "ind = (wn > 1241) & (wn < 1259)\n",
        "w1 = wn[ind]\n",
        "i1 = intens[ind]\n",
        "sp = UnivariateSpline(w1, i1, k=4, s=2)\n",
        "d1s = sp.derivative()\n",
        "d1 = d1s(w1)\n",
        "\n",
        "print('Roots = {}'.format(sp.derivative().roots()))\n",
        "minmax = sp.derivative().roots()\n",
        "\n",
        "plt.clf()\n",
        "plt.plot(w1, d1, label='first derivative')\n",
        "plt.xlabel('Raman shift (cm$^{-1}$)')\n",
        "plt.ylabel('First derivative')\n",
        "plt.grid()\n",
        "\n",
        "plt.figure()\n",
        "plt.plot(minmax, d1s(minmax), 'ro ', label='zeros')\n",
        "plt.legend(loc='best')\n",
        "\n",
        "plt.plot(w1, i1, 'b. ')\n",
        "plt.plot(w1, sp(w1), 'r-')\n",
        "plt.xlabel('Raman shift (cm$^{-1}$)')\n",
        "plt.ylabel('Intensity (counts)')\n",
        "plt.plot(minmax, sp(minmax), 'ro ')"
      ],
      "execution_count": null,
      "outputs": []
    },
    {
      "cell_type": "markdown",
      "metadata": {
        "id": "mtw9kzSTUy6G"
      },
      "source": [
        "## Exercise: Peak Finding in Raman Spectroscopy\n",
        "\n",
        "Determine the position of the peak between 745 $cm^{-1}$ and 760 $cm^{-1}$"
      ]
    },
    {
      "cell_type": "code",
      "metadata": {
        "id": "_e48MAJJSeMr"
      },
      "source": [
        ""
      ],
      "execution_count": null,
      "outputs": []
    },
    {
      "cell_type": "markdown",
      "metadata": {
        "id": "iVXchy7WUI87"
      },
      "source": [
        "## Example: Curve fitting in Gas Chromatography (Kitchin 14.2)\n",
        "\n",
        "We have a text file that contains data from a gas chromatograph with two peaks that overlap. We want the area under each peak to estimate the gas composition. You will see how to read the text file in, parse it to get the data for plotting and analysis, and then how to fit it. "
      ]
    },
    {
      "cell_type": "code",
      "metadata": {
        "id": "FWVAofPJTLVi"
      },
      "source": [
        "os.system(\"wget https://raw.githubusercontent.com/jkitchin/pycse/master/data/gc-data-21.txt\")\n",
        "with open('gc-data-21.txt', 'r') as f:\n",
        "  data = f.readlines()\n",
        "\n",
        "print(\"\".join(data[:100]))"
      ],
      "execution_count": null,
      "outputs": []
    },
    {
      "cell_type": "markdown",
      "metadata": {
        "id": "P3ZeiywrabU4"
      },
      "source": [
        "### Step 2: Load the data"
      ]
    },
    {
      "cell_type": "code",
      "metadata": {
        "id": "MFZYw9tdVw4J"
      },
      "source": [
        "for i,line in enumerate(data):\n",
        "    if '# of Points' in line:\n",
        "        npoints = int(line.split()[-1])\n",
        "    elif 'R.Time\\tIntensity' in line:\n",
        "        i += 1\n",
        "        break\n",
        "\n",
        "# now get the data\n",
        "t, intensity = [], []\n",
        "for j in range(i, i + npoints):\n",
        "    fields = data[j].split()\n",
        "    t += [float(fields[0])]\n",
        "    intensity += [int(fields[1])]\n",
        "\n",
        "t = np.array(t)\n",
        "intensity = np.array(intensity, np.float)\n",
        "\n",
        "# now plot the data in the relevant time frame\n",
        "plt.plot(t, intensity)\n",
        "plt.xlim([4, 6])\n",
        "plt.xlabel('Time (s)')\n",
        "plt.ylabel('Intensity (arb. units)')"
      ],
      "execution_count": null,
      "outputs": []
    },
    {
      "cell_type": "markdown",
      "metadata": {
        "id": "e9WE7TcDafba"
      },
      "source": [
        "### Step 3: Baseline correction"
      ]
    },
    {
      "cell_type": "code",
      "metadata": {
        "id": "q8p34MEFWxHD"
      },
      "source": [
        "intensity -= np.mean(intensity[(t > 4.0) & (t < 4.4)])\n",
        "plt.figure()\n",
        "plt.plot(t, intensity)\n",
        "plt.xlim([4, 6])\n",
        "plt.xlabel('Time (s)')\n",
        "plt.ylabel('Intensity (arb. units)')"
      ],
      "execution_count": null,
      "outputs": []
    },
    {
      "cell_type": "markdown",
      "metadata": {
        "id": "l5HSruKcavay"
      },
      "source": [
        "### Step 4: Define fit function"
      ]
    },
    {
      "cell_type": "code",
      "metadata": {
        "id": "4WwgPmATW1Z6"
      },
      "source": [
        "from scipy.special import erf\n",
        "\n",
        "def asym_peak(t, pars):\n",
        "    'from Anal. Chem. 1994, 66, 1294-1301'\n",
        "    a0 = pars[0]  # peak area\n",
        "    a1 = pars[1]  # elution time\n",
        "    a2 = pars[2]  # width of gaussian\n",
        "    a3 = pars[3]  # exponential damping term\n",
        "    f = (a0/2/a3*np.exp(a2**2/2.0/a3**2 + (a1 - t)/a3)\n",
        "         *(erf((t-a1)/(np.sqrt(2.0)*a2) - a2/np.sqrt(2.0)/a3) + 1.0))\n",
        "    return f"
      ],
      "execution_count": null,
      "outputs": []
    },
    {
      "cell_type": "code",
      "metadata": {
        "id": "nI-Fo1aWW38Z"
      },
      "source": [
        "\n",
        "\n",
        "def two_peaks(t, *pars):\n",
        "    'function of two overlapping peaks'\n",
        "    a10 = pars[0]  # peak area\n",
        "    a11 = pars[1]  # elution time\n",
        "    a12 = pars[2]  # width of gaussian\n",
        "    a13 = pars[3]  # exponential damping term\n",
        "    a20 = pars[4]  # peak area\n",
        "    a21 = pars[5]  # elution time\n",
        "    a22 = pars[6]  # width of gaussian\n",
        "    a23 = pars[7]  # exponential damping term\n",
        "    p1 = asym_peak(t, [a10, a11, a12, a13])\n",
        "    p2 = asym_peak(t, [a20, a21, a22, a23])\n",
        "    return p1 + p2"
      ],
      "execution_count": null,
      "outputs": []
    },
    {
      "cell_type": "markdown",
      "metadata": {
        "id": "MgbTnqLxa82_"
      },
      "source": [
        "### Step 5: Construct initial guess and call `curve_fit`"
      ]
    },
    {
      "cell_type": "code",
      "metadata": {
        "id": "mBlhcg1PW7rD"
      },
      "source": [
        "from scipy.optimize import curve_fit\n",
        "\n",
        "parguess = (1500, 4.85, 0.05, 0.05, 5000, 5.1, 0.05, 0.1)\n",
        "popt, pcov = curve_fit(two_peaks, t, intensity, parguess)\n",
        "print(popt)\n",
        "plt.plot(t, intensity)\n",
        "plt.plot(t, two_peaks(t, *popt), 'g-')\n",
        "plt.xlim([4, 6])\n",
        "plt.legend(['data', 'final fit'])"
      ],
      "execution_count": null,
      "outputs": []
    },
    {
      "cell_type": "code",
      "metadata": {
        "id": "bigpR9GXW_WC"
      },
      "source": [
        "pars1 = popt[0:4]\n",
        "pars2 = popt[4:8]\n",
        "\n",
        "peak1 = asym_peak(t, pars1)\n",
        "peak2 = asym_peak(t, pars2)\n",
        "\n",
        "plt.figure()\n",
        "plt.plot(t, intensity)\n",
        "plt.plot(t, peak1, 'r-')\n",
        "plt.plot(t, peak2, 'g-')\n",
        "plt.xlim([4, 6])\n",
        "plt.xlabel('Time (s)')\n",
        "plt.ylabel('Intensity (arb. units)')\n",
        "plt.legend(['data', 'peak 1', 'peak 2'])"
      ],
      "execution_count": null,
      "outputs": []
    },
    {
      "cell_type": "markdown",
      "metadata": {
        "id": "sUeaPFQ8ZjVv"
      },
      "source": [
        "## Exercise: Area Under the Curve\n",
        "\n",
        "Find the area under peak 1 and peak 2. Take the ratio of each peak to the total area under the curve to determine the composition of the gas."
      ]
    },
    {
      "cell_type": "code",
      "metadata": {
        "id": "P-16-vYpXfB8"
      },
      "source": [
        ""
      ],
      "execution_count": null,
      "outputs": []
    }
  ]
}