{
 "cells": [
  {
   "cell_type": "code",
   "execution_count": null,
   "metadata": {
    "colab": {},
    "colab_type": "code",
    "id": "UHgx_4kcWPBa"
   },
   "outputs": [],
   "source": [
    "import numpy as np\n",
    "import matplotlib.pyplot as plt"
   ]
  },
  {
   "cell_type": "markdown",
   "metadata": {
    "colab_type": "text",
    "id": "bqne0I4IbNfE"
   },
   "source": [
    "# Linear Algebra\n",
    "\n",
    "In this lecture, we will focus on the application of linear algebra toward the solution of systems of linear equations.\n",
    "\n",
    "- Does a solution exists?\n",
    "- If the solution exists, is it unique?\n",
    "- Is it possible to find the solution or family of solution?"
   ]
  },
  {
   "cell_type": "markdown",
   "metadata": {
    "colab_type": "text",
    "id": "4ETbtcOKcrUM"
   },
   "source": [
    "## Linear systems of equation"
   ]
  },
  {
   "cell_type": "markdown",
   "metadata": {
    "colab": {},
    "colab_type": "code",
    "id": "Tu5tvbxsbKOM"
   },
   "source": [
    "A linear system is a collection of one or more linear equations composed of the same variables. A general equation for $m$ equations in $n$ variables can be written as:\n",
    "\n",
    "$$a_{11} x_1 + a_{12} x_2 + ... + a_{1n} x_n = b_1$$\n",
    "\n",
    "$$a_{21} x_1 + a_{22} x_2 + ... + a_{2n} x_n = b_2$$\n",
    "\n",
    "$$...$$\n",
    "\n",
    "$$a_{m1} x_1 + a_{m2} x_2 + ... + a_{mn} x_n = b_m$$"
   ]
  },
  {
   "cell_type": "markdown",
   "metadata": {
    "colab_type": "text",
    "id": "EoUWBsuOcrYh"
   },
   "source": [
    "## Graphical solution"
   ]
  },
  {
   "cell_type": "markdown",
   "metadata": {
    "colab": {},
    "colab_type": "code",
    "id": "SThQqAfDd9Dh"
   },
   "source": [
    "In two dimensions (two variables), a linear system of equation can be solved graphically by plot the lines and observing the intersection point."
   ]
  },
  {
   "cell_type": "markdown",
   "metadata": {},
   "source": [
    "## Exercise: Graphical solution of 2-D linear system\n",
    "\n",
    "Given the following linear system, find the solution ($x$, $y$):\n",
    "\n",
    "$$ x + y = 3 $$\n",
    "$$ -2x + y = 0 $$"
   ]
  },
  {
   "cell_type": "code",
   "execution_count": null,
   "metadata": {},
   "outputs": [],
   "source": []
  },
  {
   "cell_type": "markdown",
   "metadata": {},
   "source": [
    "## Solution set\n",
    "\n",
    "A solution of a linear system is an assignment of values to the variables $x_1$, $x_2$, .., $x_n$ such that all equations are satisfied. The set of all possible solutions is refered to as the solution set. A linear system may permit following solution sets:\n",
    "\n",
    "- The system has no solution (inconsistent)\n",
    "- The system has a single, unique solution\n",
    "- The system has an infinite number of solutions"
   ]
  },
  {
   "cell_type": "markdown",
   "metadata": {},
   "source": [
    "### No solution\n",
    "\n",
    "$$ x + y = 3 $$\n",
    "$$ x + y = 6 $$"
   ]
  },
  {
   "cell_type": "code",
   "execution_count": null,
   "metadata": {},
   "outputs": [],
   "source": []
  },
  {
   "cell_type": "markdown",
   "metadata": {},
   "source": [
    "### One solution\n",
    "\n",
    "$$ x + y = 4 $$\n",
    "$$ -2x + y = 1 $$"
   ]
  },
  {
   "cell_type": "code",
   "execution_count": null,
   "metadata": {},
   "outputs": [],
   "source": []
  },
  {
   "cell_type": "markdown",
   "metadata": {},
   "source": [
    "### Infinite solutions:\n",
    "\n",
    "$$ x + y = 3 $$\n",
    "$$ 2x + 2y = 6 $$"
   ]
  },
  {
   "cell_type": "code",
   "execution_count": null,
   "metadata": {},
   "outputs": [],
   "source": []
  },
  {
   "cell_type": "markdown",
   "metadata": {},
   "source": [
    "For systems of equations with more than two variables, these lines generalize to planes (3-dimension) and hyperplanes (n-dimension). The solution set remains the same; the (hyper-)planes can intersect at a point (unique solution), along a line/plane/hyperplane (infinite solutions), or can not intersect at all (no solution)."
   ]
  },
  {
   "cell_type": "markdown",
   "metadata": {
    "colab_type": "text",
    "id": "TAgx3J9Mcrcr"
   },
   "source": [
    "## Numerical solution"
   ]
  },
  {
   "cell_type": "markdown",
   "metadata": {
    "colab": {},
    "colab_type": "code",
    "id": "2QN5XhUqeEqr"
   },
   "source": [
    "When solving a set of linear equations numerically, it is useful to represent them in matrix form.\n",
    "\n",
    "$$ x_1 - x_2 + x_3 = 0 $$\n",
    "$$ 10 x_2 + 25 x_3 = 90 $$\n",
    "$$ 20 x_1 + 10 x_2 = 80 $$"
   ]
  },
  {
   "cell_type": "code",
   "execution_count": null,
   "metadata": {},
   "outputs": [],
   "source": []
  },
  {
   "cell_type": "markdown",
   "metadata": {},
   "source": [
    "We can now solve the matrix equation:\n",
    "\n",
    "$$ \\bf{\\underline{\\underline{A}}\\underline{x}} = \\bf{\\underline{b}} $$\n",
    "$$ \\bf{\\underline{x}} = \\bf{\\underline{\\underline{A^{-1}}}\\underline{b}} $$"
   ]
  },
  {
   "cell_type": "markdown",
   "metadata": {},
   "source": [
    "To solve a system of linear equations in matrix form, use `np.linalg.solve`."
   ]
  },
  {
   "cell_type": "code",
   "execution_count": null,
   "metadata": {},
   "outputs": [],
   "source": []
  },
  {
   "cell_type": "markdown",
   "metadata": {},
   "source": [
    "## Matrix/Vector operations\n",
    "\n",
    "There are many ways to manipulate and operate on matrices and vectors in numpy. `@`, `np.matmul`, `np.dot`, .."
   ]
  },
  {
   "cell_type": "markdown",
   "metadata": {},
   "source": [
    "### Matrix-matrix multiplication"
   ]
  },
  {
   "cell_type": "code",
   "execution_count": null,
   "metadata": {},
   "outputs": [],
   "source": []
  },
  {
   "cell_type": "markdown",
   "metadata": {},
   "source": [
    "### Matrix-vector multiplication"
   ]
  },
  {
   "cell_type": "code",
   "execution_count": null,
   "metadata": {},
   "outputs": [],
   "source": []
  },
  {
   "cell_type": "markdown",
   "metadata": {},
   "source": [
    "### Vector-vector dot product"
   ]
  },
  {
   "cell_type": "code",
   "execution_count": null,
   "metadata": {},
   "outputs": [],
   "source": []
  },
  {
   "cell_type": "markdown",
   "metadata": {},
   "source": [
    "### Matrix inverse"
   ]
  },
  {
   "cell_type": "code",
   "execution_count": null,
   "metadata": {},
   "outputs": [],
   "source": []
  },
  {
   "cell_type": "markdown",
   "metadata": {
    "colab_type": "text",
    "id": "XDH1y9idcjOz"
   },
   "source": [
    "## Exercise: Mass Balance"
   ]
  },
  {
   "cell_type": "markdown",
   "metadata": {},
   "source": [
    "Solving the system of linear equations represented by the mass balance below:\n",
    "\n",
    "<img src=\"https://i.imgur.com/sXn7o4c.png\" width=\"650\">"
   ]
  },
  {
   "cell_type": "markdown",
   "metadata": {
    "colab": {},
    "colab_type": "code",
    "id": "E0HqyxSHbk0z"
   },
   "source": []
  }
 ],
 "metadata": {
  "colab": {
   "collapsed_sections": [],
   "name": "04_Linear_Systems.ipynb",
   "provenance": []
  },
  "kernelspec": {
   "display_name": "Python 3",
   "language": "python",
   "name": "python3"
  },
  "language_info": {
   "codemirror_mode": {
    "name": "ipython",
    "version": 3
   },
   "file_extension": ".py",
   "mimetype": "text/x-python",
   "name": "python",
   "nbconvert_exporter": "python",
   "pygments_lexer": "ipython3",
   "version": "3.5.6"
  }
 },
 "nbformat": 4,
 "nbformat_minor": 1
}
