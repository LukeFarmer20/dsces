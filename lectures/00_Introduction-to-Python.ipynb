{
 "cells": [
  {
   "cell_type": "markdown",
   "metadata": {},
   "source": [
    "# Introduction to Python"
   ]
  },
  {
   "cell_type": "markdown",
   "metadata": {},
   "source": [
    "# 1. Python Variables\n",
    "### In Python, variables are created when assigned a value."
   ]
  },
  {
   "cell_type": "code",
   "execution_count": null,
   "metadata": {},
   "outputs": [],
   "source": [
    "# Comments can be added by using the \"#\" symbol\n",
    "\n",
    "# Floating point numbers can be positive or negative, with one or more decimal place\n",
    "x = 2.2\n",
    "\n",
    "# Integer numbers can be positive or negative with no decimal places\n",
    "y = -7\n",
    "\n",
    "# Strings are contained within double or single quotations\n",
    "z = \"Hello, World!\""
   ]
  },
  {
   "cell_type": "markdown",
   "metadata": {},
   "source": [
    "### Variable names must:\n",
    " - start with a letter or underscore character\n",
    " - contain only alpha-numeric characters and underscores\n",
    "\n",
    "### Variable names are case-sensitive"
   ]
  },
  {
   "cell_type": "code",
   "execution_count": null,
   "metadata": {},
   "outputs": [],
   "source": [
    "test_variable = \"test\"\n",
    "TEST_VARIABLE = \"testing\""
   ]
  },
  {
   "cell_type": "markdown",
   "metadata": {},
   "source": [
    "### Variable names can be re-used and re-assigned"
   ]
  },
  {
   "cell_type": "code",
   "execution_count": null,
   "metadata": {},
   "outputs": [],
   "source": [
    "y = 6"
   ]
  },
  {
   "cell_type": "markdown",
   "metadata": {},
   "source": [
    "# Exercise:\n",
    "### Attempt to create a variable name with a hyphen and assign a number of your choice to it"
   ]
  },
  {
   "cell_type": "code",
   "execution_count": null,
   "metadata": {},
   "outputs": [],
   "source": []
  },
  {
   "cell_type": "markdown",
   "metadata": {},
   "source": [
    "# 2. Python Built-In Functions\n",
    "### Python comes installed with a set of useful built-in functions documented [here](https://docs.python.org/3/library/functions.html). Let's examine how to use two of these functions, [print()](https://docs.python.org/3/library/functions.html#print) and [help()](https://docs.python.org/3/library/functions.html#help)."
   ]
  },
  {
   "cell_type": "markdown",
   "metadata": {},
   "source": [
    "### `print` can be used to display values"
   ]
  },
  {
   "cell_type": "code",
   "execution_count": null,
   "metadata": {},
   "outputs": [],
   "source": [
    "print(x, y)"
   ]
  },
  {
   "cell_type": "code",
   "execution_count": null,
   "metadata": {},
   "outputs": [],
   "source": [
    "print(test_variable, TEST_VARIABLE)"
   ]
  },
  {
   "cell_type": "code",
   "execution_count": null,
   "metadata": {},
   "outputs": [],
   "source": [
    "print(z, \"Python is fun\")"
   ]
  },
  {
   "cell_type": "markdown",
   "metadata": {},
   "source": [
    "### `help` displays documentation and usage of functions in-line"
   ]
  },
  {
   "cell_type": "code",
   "execution_count": null,
   "metadata": {},
   "outputs": [],
   "source": [
    "help(print)"
   ]
  },
  {
   "cell_type": "code",
   "execution_count": null,
   "metadata": {},
   "outputs": [],
   "source": [
    "help(x)"
   ]
  },
  {
   "cell_type": "markdown",
   "metadata": {},
   "source": [
    "# Exercise:\n",
    "### Create a variable `name` and assign your name to it. Print out the variable `name`"
   ]
  },
  {
   "cell_type": "code",
   "execution_count": null,
   "metadata": {},
   "outputs": [],
   "source": []
  },
  {
   "cell_type": "markdown",
   "metadata": {},
   "source": [
    "# 3. Python Data Types\n",
    "### Python data types include: text (`str`), numbers (`int`, `float`, `complex`), sequences (`list`, `tuple`, `range`), maps (`dict`), sets (`set`, `frozenset`), boolean (`bool`), binary (`bytes`, `bytearray`, `memoryview`)"
   ]
  },
  {
   "cell_type": "markdown",
   "metadata": {},
   "source": [
    "### To determine the type of a variable, you can use the built-in `type` function"
   ]
  },
  {
   "cell_type": "code",
   "execution_count": null,
   "metadata": {},
   "outputs": [],
   "source": [
    "print(type(z), type(7.2))"
   ]
  },
  {
   "cell_type": "code",
   "execution_count": null,
   "metadata": {},
   "outputs": [],
   "source": [
    "str_variable = \"Hello World\"\n",
    "int_variable = 333\n",
    "float_variable = 333.0\n",
    "complex_variable = 1j\n",
    "list_variable = [\"Hydrogen\", \"Helium\", \"Lithium\"]\n",
    "tuple_variable = (\"Hydrogen\", \"Helium\", \"Lithium\")\n",
    "range_variable = range(10)\n",
    "dict_variable = {\"name\":\"Hydrogen\", \"electrons\":1}\n",
    "bool_variable = True"
   ]
  },
  {
   "cell_type": "markdown",
   "metadata": {},
   "source": [
    "### It is possible to set the variable data type using the corresponding built-in function. The built-in functions can be used to cast variables to new data types."
   ]
  },
  {
   "cell_type": "code",
   "execution_count": null,
   "metadata": {},
   "outputs": [],
   "source": [
    "print(float(int_variable))\n",
    "print(complex(1.0))\n",
    "print(list(range_variable))\n",
    "print(int(bool_variable))"
   ]
  },
  {
   "cell_type": "markdown",
   "metadata": {},
   "source": [
    "# Exercise:\n",
    "### Convert x to an integer and print out the new variable"
   ]
  },
  {
   "cell_type": "code",
   "execution_count": null,
   "metadata": {},
   "outputs": [],
   "source": [
    "x = 5.6"
   ]
  },
  {
   "cell_type": "markdown",
   "metadata": {},
   "source": [
    "### Convert x to a float and print out the new variable"
   ]
  },
  {
   "cell_type": "code",
   "execution_count": null,
   "metadata": {},
   "outputs": [],
   "source": [
    "x = 7"
   ]
  },
  {
   "cell_type": "markdown",
   "metadata": {},
   "source": [
    "### Convert x to string and print out the new variable"
   ]
  },
  {
   "cell_type": "code",
   "execution_count": null,
   "metadata": {},
   "outputs": [],
   "source": [
    "x = 8.9"
   ]
  },
  {
   "cell_type": "markdown",
   "metadata": {},
   "source": [
    "# 4. Python Operators\n",
    "### Operators perform operations on variables and values. There are several types of operators:\n",
    "- Arithmetic operators\n",
    "- Assignment operators\n",
    "- Comparison operators\n",
    "- Logical operators\n",
    "- Identity operators\n",
    "- Membership operators\n",
    "- Bitwise operators (not used in this course)"
   ]
  },
  {
   "cell_type": "markdown",
   "metadata": {},
   "source": [
    "### Arithmetic operators are used to perform mathematical operations on numerical values: `+` (addition), `-` (subtraction), `*` (multiplication), `/` (division), `%` (modulus), `**` (exponentiation), `//` (floor division)"
   ]
  },
  {
   "cell_type": "code",
   "execution_count": null,
   "metadata": {},
   "outputs": [],
   "source": [
    "x = 12.0\n",
    "y = 5.0"
   ]
  },
  {
   "cell_type": "code",
   "execution_count": null,
   "metadata": {},
   "outputs": [],
   "source": [
    "print(x + y)\n",
    "print(x - y)\n",
    "print(x * y)\n",
    "print(x / y)\n",
    "print(x % y)\n",
    "print(x ** y)\n",
    "print(x // y)"
   ]
  },
  {
   "cell_type": "markdown",
   "metadata": {},
   "source": [
    "### Assignment operators are used to assign values to variables: `=` (assign), `+=` (add), `-=` (subtract), `*=` (multiply), `/=` (divide), `%=` (modulo), `**=` (exponentiate), `//=` (floor divide)"
   ]
  },
  {
   "cell_type": "code",
   "execution_count": null,
   "metadata": {},
   "outputs": [],
   "source": [
    "x += y\n",
    "print(x)\n",
    "x -= y\n",
    "print(x)\n",
    "x *= y\n",
    "print(x)\n",
    "x /= y\n",
    "print(x)\n",
    "x %= y\n",
    "print(x)\n",
    "x **= y\n",
    "print(x)\n",
    "x //= y\n",
    "print(x)"
   ]
  },
  {
   "cell_type": "markdown",
   "metadata": {},
   "source": [
    "### Comparison operators are used to compare two values: `==` (equal), `!=` (not equal), `>` (greater than), `<` (less than), `>=` (greater than or equal to), `<=` (less than or equal to)"
   ]
  },
  {
   "cell_type": "code",
   "execution_count": null,
   "metadata": {},
   "outputs": [],
   "source": [
    "x = 12.0\n",
    "y = 5.0\n",
    "print(x == y)\n",
    "print(x != y)\n",
    "print(x > y)\n",
    "print(x < y)\n",
    "print(x >= y)\n",
    "print(x <= y)\n",
    "print(type(x<=y))"
   ]
  },
  {
   "cell_type": "markdown",
   "metadata": {},
   "source": [
    "### Conditional statements can be combined with logical operators: `and` (`True` if both statements are true), `or` (`True` if either statement is true), `not` (`True` if statement is false, `False` if statement is true)"
   ]
  },
  {
   "cell_type": "code",
   "execution_count": null,
   "metadata": {},
   "outputs": [],
   "source": [
    "x = 2.0\n",
    "print(x%2 == 0.0 and x > 0.0)\n",
    "print(x > 2.0 or x < 2.0)\n",
    "print(not(x == 2.0))"
   ]
  },
  {
   "cell_type": "markdown",
   "metadata": {},
   "source": [
    "# Exercise:\n",
    "### If x % 5 == 1 and x // 5 == 12, what is x?"
   ]
  },
  {
   "cell_type": "code",
   "execution_count": null,
   "metadata": {},
   "outputs": [],
   "source": [
    "x = ???\n",
    "assert x % 5 == 1 and x // 5 == 12"
   ]
  },
  {
   "cell_type": "markdown",
   "metadata": {},
   "source": [
    "### Identity operators are used to compare equivalence between objects: `is` (`True` if both variables are the same object), `is not` (`True` if both variables are not the same object). Do not use to determine if two values are equal (use comparison operators instead)"
   ]
  },
  {
   "cell_type": "code",
   "execution_count": null,
   "metadata": {},
   "outputs": [],
   "source": [
    "x = 12.0\n",
    "y = 12.0\n",
    "z = y\n",
    "print(x == y)\n",
    "print(x is not y)\n",
    "print(y is z)"
   ]
  },
  {
   "cell_type": "markdown",
   "metadata": {},
   "source": [
    "### Membership operators determine if a sequence is present within an object: `in` (`True` if a sequence is present within the object), `not in` (`True` if a sequence is not present within the object)"
   ]
  },
  {
   "cell_type": "code",
   "execution_count": null,
   "metadata": {},
   "outputs": [],
   "source": [
    "x = [\"Hydrogen\", \"Helium\", \"Lithium\"]\n",
    "print(\"Hydrogen\" in x)\n",
    "print(\"lithium\" not in x)"
   ]
  },
  {
   "cell_type": "markdown",
   "metadata": {},
   "source": [
    "# 5. Python Collections\n",
    "### Python contains four collection data types:\n",
    "- List is an ordered, indexed, and changeable collection, duplicates allowed.\n",
    "- Tuple is an ordered, indexed, and unchangable collection, duplicates allowed.\n",
    "- Set is an unordered, unindexed, and changeable collection, no duplicates.\n",
    "- Dictionary is an unordered, indexed, and changeable collection, no duplicates."
   ]
  },
  {
   "cell_type": "markdown",
   "metadata": {},
   "source": [
    "### Python lists are written with square brackets, and items within a list can be accessed by an index number"
   ]
  },
  {
   "cell_type": "code",
   "execution_count": null,
   "metadata": {},
   "outputs": [],
   "source": [
    "x = [\"Hydrogen\", \"Helium\", \"Lithium\", \"Beryllium\", \"Boron\", \"Carbon\", \"Nitrogen\", \"Oxygen\"]\n",
    "print(x)\n",
    "print(x[0])\n",
    "print(x[-1])\n",
    "print(x[2:4])\n",
    "print(x[:2])\n",
    "print(x[2:])\n",
    "print(x[-3:-1])"
   ]
  },
  {
   "cell_type": "markdown",
   "metadata": {},
   "source": [
    "### Python lists can be changed, appended, operated on, and have several special built-in functions called \"dot functions\" that introduce list-specific operations"
   ]
  },
  {
   "cell_type": "code",
   "execution_count": null,
   "metadata": {},
   "outputs": [],
   "source": [
    "help(list)"
   ]
  },
  {
   "cell_type": "code",
   "execution_count": null,
   "metadata": {},
   "outputs": [],
   "source": [
    "x[0] = \"Protium\"\n",
    "print(x)"
   ]
  },
  {
   "cell_type": "code",
   "execution_count": null,
   "metadata": {},
   "outputs": [],
   "source": [
    "x += [\"Flourine\"]\n",
    "print(x)"
   ]
  },
  {
   "cell_type": "code",
   "execution_count": null,
   "metadata": {},
   "outputs": [],
   "source": [
    "x.append(\"Neon\")\n",
    "print(x)"
   ]
  },
  {
   "cell_type": "code",
   "execution_count": null,
   "metadata": {},
   "outputs": [],
   "source": [
    "x.insert(1, \"Gomesium\")\n",
    "print(x)"
   ]
  },
  {
   "cell_type": "code",
   "execution_count": null,
   "metadata": {},
   "outputs": [],
   "source": [
    "x.remove(\"Gomesium\")\n",
    "print(x)"
   ]
  },
  {
   "cell_type": "code",
   "execution_count": null,
   "metadata": {},
   "outputs": [],
   "source": [
    "print(len(x))\n",
    "print(sorted(x))\n",
    "x.sort()\n",
    "print(x)"
   ]
  },
  {
   "cell_type": "markdown",
   "metadata": {},
   "source": [
    "### Python tuples are functionally similar to lists but are immutable!"
   ]
  },
  {
   "cell_type": "code",
   "execution_count": null,
   "metadata": {},
   "outputs": [],
   "source": [
    "x = (\"Hydrogen\", \"Helium\", \"Lithium\", \"Beryllium\", \"Boron\", \"Carbon\", \"Nitrogen\", \"Oxygen\")\n",
    "print(x)\n",
    "print(x[0])\n",
    "print(x[-1])\n",
    "print(x[2:4])\n",
    "print(x[:2])\n",
    "print(x[2:])\n",
    "print(x[-3:-1])"
   ]
  },
  {
   "cell_type": "code",
   "execution_count": null,
   "metadata": {},
   "outputs": [],
   "source": [
    "try:\n",
    "    x[0] = \"Protium\"\n",
    "except TypeError as err:\n",
    "    print(err)"
   ]
  },
  {
   "cell_type": "markdown",
   "metadata": {},
   "source": [
    "### Python sets can be operated on like lists but are unindexed and cannot contain duplicate items. I find these can be useful for removing duplicate items from a list."
   ]
  },
  {
   "cell_type": "code",
   "execution_count": null,
   "metadata": {},
   "outputs": [],
   "source": [
    "x = [\"Hydrogen\", \"Helium\", \"Lithium\", \"Beryllium\", \"Boron\", \"Carbon\", \"Nitrogen\", \"Oxygen\"]\n",
    "x += x\n",
    "x = set(x)\n",
    "print(x)\n",
    "x = list(x)\n",
    "print(x)"
   ]
  },
  {
   "cell_type": "markdown",
   "metadata": {},
   "source": [
    "### Python dictionaries are a collection of \"key\" and \"value\" pairs."
   ]
  },
  {
   "cell_type": "code",
   "execution_count": null,
   "metadata": {},
   "outputs": [],
   "source": [
    "x = {\n",
    "    \"name\": \"Hydrogen\",\n",
    "    \"electrons\": 1,\n",
    "    \"weight\": 1.008,\n",
    "}\n",
    "print(x.keys())\n",
    "print(x.values())\n",
    "print(x.items())\n",
    "print(x[\"name\"], x[list(x.keys())[0]], list(x.values())[0], list(x.items())[0][-1])"
   ]
  },
  {
   "cell_type": "code",
   "execution_count": null,
   "metadata": {},
   "outputs": [],
   "source": [
    "x[\"electronegativity\"] = 2.20\n",
    "print(x)\n",
    "x.pop(\"electronegativity\")\n",
    "print(x)"
   ]
  },
  {
   "cell_type": "markdown",
   "metadata": {},
   "source": [
    "### Collection data types can be nested as well"
   ]
  },
  {
   "cell_type": "code",
   "execution_count": null,
   "metadata": {},
   "outputs": [],
   "source": [
    "H = {\n",
    "    \"name\": \"Hydrogen\",\n",
    "    \"electrons\": 1,\n",
    "    \"weight\": 1.008,\n",
    "}\n",
    "He = {\n",
    "    \"name\": \"Helium\",\n",
    "    \"electrons\": 2,\n",
    "    \"weight\": 4.0026,\n",
    "}\n",
    "Li = {\n",
    "    \"name\": \"Lithium\",\n",
    "    \"electrons\": 3,\n",
    "    \"weight\": 6.94,\n",
    "}\n",
    "periodic_table_dict = {\"H\": H, \"He\": He, \"Li\": Li}\n",
    "print(periodic_table_dict)"
   ]
  },
  {
   "cell_type": "markdown",
   "metadata": {},
   "source": [
    "# Exercise\n",
    "### Extend the periodic table dictionary to include Be (Beryllium, 4 electrons, weight 9.0122 u) and print the result"
   ]
  },
  {
   "cell_type": "code",
   "execution_count": null,
   "metadata": {},
   "outputs": [],
   "source": []
  },
  {
   "cell_type": "markdown",
   "metadata": {},
   "source": [
    "# 6. Python Control Flow"
   ]
  },
  {
   "cell_type": "markdown",
   "metadata": {},
   "source": [
    "### `if` statements execute code blocks that depend on conditional values"
   ]
  },
  {
   "cell_type": "code",
   "execution_count": null,
   "metadata": {},
   "outputs": [],
   "source": [
    "x = 10\n",
    "if x > 10:\n",
    "    print(\"x is greater than 10\")\n",
    "elif x < 10:\n",
    "    print(\"x is less than 10\")\n",
    "else:\n",
    "    print(\"x is equal to 10\")"
   ]
  },
  {
   "cell_type": "markdown",
   "metadata": {},
   "source": [
    "### `while` loops can execute blocks while a condition is true"
   ]
  },
  {
   "cell_type": "code",
   "execution_count": null,
   "metadata": {},
   "outputs": [],
   "source": [
    "x = 1\n",
    "while x < 100:\n",
    "    print(x)\n",
    "    x += x"
   ]
  },
  {
   "cell_type": "markdown",
   "metadata": {},
   "source": [
    "### `for` loops are used to iterate over a sequence (`list`, `tuple`, `dict`, `set` or `str`)"
   ]
  },
  {
   "cell_type": "code",
   "execution_count": null,
   "metadata": {},
   "outputs": [],
   "source": [
    "for i in range(10):\n",
    "    print(i)"
   ]
  },
  {
   "cell_type": "code",
   "execution_count": null,
   "metadata": {},
   "outputs": [],
   "source": [
    "for key, value in periodic_table_dict.items():\n",
    "    print(key, value)"
   ]
  },
  {
   "cell_type": "markdown",
   "metadata": {},
   "source": [
    "### List comprehension is a useful technique to define a list using a pre-existing one."
   ]
  },
  {
   "cell_type": "code",
   "execution_count": null,
   "metadata": {},
   "outputs": [],
   "source": [
    "x = list(range(10))\n",
    "x2 = [i**2 for i in x]\n",
    "print(x, x2)\n",
    "print(list(zip(x, x2)))"
   ]
  },
  {
   "cell_type": "markdown",
   "metadata": {},
   "source": [
    "# Exercise\n",
    "### Using `periodic_table_dict`, print the name of the element that has three electrons"
   ]
  },
  {
   "cell_type": "code",
   "execution_count": null,
   "metadata": {},
   "outputs": [],
   "source": []
  },
  {
   "cell_type": "markdown",
   "metadata": {},
   "source": [
    "# 7. Python Functions\n",
    "### It is often useful to define functions that contain blocks of code that can be run repeatedly. Functions are defined in Python by a `def` statement."
   ]
  },
  {
   "cell_type": "code",
   "execution_count": null,
   "metadata": {},
   "outputs": [],
   "source": [
    "def greeting():\n",
    "    print(\"Hello!\")"
   ]
  },
  {
   "cell_type": "markdown",
   "metadata": {},
   "source": [
    "### Custom functions can be called like any other built-in Python function."
   ]
  },
  {
   "cell_type": "code",
   "execution_count": null,
   "metadata": {},
   "outputs": [],
   "source": [
    "greeting()"
   ]
  },
  {
   "cell_type": "markdown",
   "metadata": {},
   "source": [
    "### Functions can operate on values passed as arguments and pass results back with a `return` statement."
   ]
  },
  {
   "cell_type": "code",
   "execution_count": null,
   "metadata": {},
   "outputs": [],
   "source": [
    "def factorial(x):\n",
    "    assert x>0 and type(x) == int\n",
    "    fact = max(1, x)\n",
    "    while x>1:\n",
    "        x -= 1\n",
    "        fact *= x\n",
    "    return fact"
   ]
  },
  {
   "cell_type": "code",
   "execution_count": null,
   "metadata": {},
   "outputs": [],
   "source": [
    "factorial(4)"
   ]
  },
  {
   "cell_type": "markdown",
   "metadata": {},
   "source": [
    "# Exercise\n",
    "### Create a function to calculate the exponential of a number using the power series definition:\n",
    "### exp(x) = $\\sum_{k=0}^{\\infty} \\frac{x^k}{k!} $\n",
    "### and compare with the `exp` function from the `math` library"
   ]
  },
  {
   "cell_type": "code",
   "execution_count": null,
   "metadata": {},
   "outputs": [],
   "source": [
    "def exp(x):\n",
    "    value = 0.\n",
    "    # ...\n",
    "    return value\n",
    "\n",
    "import math\n",
    "print(exp(1.1), math.exp(1.1))"
   ]
  },
  {
   "cell_type": "markdown",
   "metadata": {},
   "source": [
    "# 8. Python Classes and Objects\n",
    "### A software object is a collection of properties (state) and functions (methods). Python is an object-oriented programming language and almost everything in Python is an object. A `Class` can be thought of as an object constructor."
   ]
  },
  {
   "cell_type": "markdown",
   "metadata": {},
   "source": [
    "### Let's construct a simple object for Hydrogen"
   ]
  },
  {
   "cell_type": "code",
   "execution_count": null,
   "metadata": {},
   "outputs": [],
   "source": [
    "class SimpleElement:\n",
    "    name = \"Hydrogen\""
   ]
  },
  {
   "cell_type": "code",
   "execution_count": null,
   "metadata": {},
   "outputs": [],
   "source": [
    "se = SimpleElement()\n",
    "print(se.name)"
   ]
  },
  {
   "cell_type": "markdown",
   "metadata": {},
   "source": [
    "### The `__init__()` function is used to assign values to object properties and perform execute code used to create the object. The `self` parameter is a reference to the current instance of the class is used to access variables that belong to the class."
   ]
  },
  {
   "cell_type": "code",
   "execution_count": null,
   "metadata": {},
   "outputs": [],
   "source": [
    "class Element:\n",
    "    def __init__(self, name, electrons, weight):\n",
    "        self.name = name\n",
    "        self.electrons = electrons\n",
    "        self.weight = weight\n",
    "\n",
    "e = Element(\"Hydrogen\", 1, 1.008)\n",
    "print(e.name, e.electrons, e.weight)"
   ]
  },
  {
   "cell_type": "markdown",
   "metadata": {},
   "source": [
    "### It is possible for classes to inherit methods from other classes. In this way, it is possible to extend the functionality of basic classes."
   ]
  },
  {
   "cell_type": "code",
   "execution_count": null,
   "metadata": {},
   "outputs": [],
   "source": [
    "class FancyElement(Element):\n",
    "    def print_weight(self):\n",
    "        print(\"Weight: \" + str(self.weight))\n",
    "\n",
    "e = FancyElement(\"Hydrogen\", 1, 1.008)\n",
    "e.print_weight()"
   ]
  },
  {
   "cell_type": "markdown",
   "metadata": {},
   "source": [
    "# Exercise\n",
    "### Extend the `Element` class with a method (function) for printing just the element name. Use your new class to construct an example object representing Hydrogen and print the element name"
   ]
  },
  {
   "cell_type": "code",
   "execution_count": null,
   "metadata": {},
   "outputs": [],
   "source": []
  },
  {
   "cell_type": "markdown",
   "metadata": {},
   "source": [
    "# 9. Python Libraries"
   ]
  },
  {
   "cell_type": "markdown",
   "metadata": {},
   "source": [
    "### The open-source community of users develop and freely distribute libraries that enhance the capabilities of Python. If you want to compute it, chances are there's a library that can help! Many of the most useful libraries (`numpy`, `scipy`, `pandas`) come pre-installed on Google Colaboratory as well as with Python distribution packages like Anaconda. A library can be used in your code after an `import` statement. `math` is a default Python library."
   ]
  },
  {
   "cell_type": "code",
   "execution_count": null,
   "metadata": {},
   "outputs": [],
   "source": [
    "import math\n",
    "help(math)"
   ]
  },
  {
   "cell_type": "markdown",
   "metadata": {},
   "source": [
    "### We will learn more about numPy's functionality in the next lecture!"
   ]
  }
 ],
 "metadata": {
  "kernelspec": {
   "display_name": "Python 3",
   "language": "python",
   "name": "python3"
  },
  "language_info": {
   "codemirror_mode": {
    "name": "ipython",
    "version": 3
   },
   "file_extension": ".py",
   "mimetype": "text/x-python",
   "name": "python",
   "nbconvert_exporter": "python",
   "pygments_lexer": "ipython3",
   "version": "3.7.7"
  }
 },
 "nbformat": 4,
 "nbformat_minor": 4
}
