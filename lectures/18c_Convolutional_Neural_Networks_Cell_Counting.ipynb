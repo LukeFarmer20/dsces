{
  "nbformat": 4,
  "nbformat_minor": 0,
  "metadata": {
    "colab": {
      "name": "Convolutional Neural Networks - Cell Counting.ipynb",
      "provenance": [],
      "collapsed_sections": []
    },
    "kernelspec": {
      "name": "python3",
      "display_name": "Python 3"
    },
    "accelerator": "GPU"
  },
  "cells": [
    {
      "cell_type": "code",
      "metadata": {
        "id": "pR2v3J-tuDRO"
      },
      "source": [
        "!pip install skorch"
      ],
      "execution_count": null,
      "outputs": []
    },
    {
      "cell_type": "code",
      "metadata": {
        "id": "vzdKCFdfukFB"
      },
      "source": [
        "import os\n",
        "import glob\n",
        "import tqdm\n",
        "import numpy as np\n",
        "import pandas as pd\n",
        "import pickle\n",
        "import matplotlib.pyplot as plt\n",
        "import torch\n",
        "import torch.nn as nn\n",
        "import torch.nn.functional as F\n",
        "import torchvision\n",
        "import skorch\n",
        "from PIL import Image\n",
        "from torchvision import transforms\n",
        "from sklearn.model_selection import train_test_split\n",
        "from sklearn.metrics import mean_absolute_error, r2_score, accuracy_score, roc_auc_score"
      ],
      "execution_count": null,
      "outputs": []
    },
    {
      "cell_type": "markdown",
      "metadata": {
        "id": "GfZuDcH1ukaW"
      },
      "source": [
        "## Using Pre-trained CNNs\n",
        "\n",
        "<img src='https://i.stack.imgur.com/gI4zT.png'>"
      ]
    },
    {
      "cell_type": "markdown",
      "metadata": {
        "id": "6Ut9YGPXusOV"
      },
      "source": [
        "## Example: Cell Counting"
      ]
    },
    {
      "cell_type": "code",
      "metadata": {
        "id": "OgsNu1mKuoUJ"
      },
      "source": [
        "# https://bbbc.broadinstitute.org/BBBC005\n",
        "# https://data.broadinstitute.org/bbbc/BBBC005/BBBC005_v1_images.zip\n",
        "# SIMCEPImages_well_Ccells_Fblur;_ssamples_wstain.TIF\n",
        "os.system('wget https://data.broadinstitute.org/bbbc/BBBC005/BBBC005_v1_images.zip')\n",
        "os.system('unzip BBBC005_v1_images.zip')"
      ],
      "execution_count": null,
      "outputs": []
    },
    {
      "cell_type": "markdown",
      "metadata": {
        "id": "Bf4TpcI-wbVB"
      },
      "source": [
        "### View representative image"
      ]
    },
    {
      "cell_type": "code",
      "metadata": {
        "id": "8YSjOlPQuvCv"
      },
      "source": [
        "img = Image.open('/content/BBBC005_v1_images/SIMCEPImages_A07_C27_F1_s11_w2.TIF').convert('RGB')\n",
        "img = transforms.Resize((299, 299))(img)\n",
        "display(img)\n",
        "img = transforms.ToTensor()(img)\n",
        "print(img.shape)  "
      ],
      "execution_count": null,
      "outputs": []
    },
    {
      "cell_type": "markdown",
      "metadata": {
        "id": "JVOz8Gqawf2D"
      },
      "source": [
        "### Load dataset"
      ]
    },
    {
      "cell_type": "code",
      "metadata": {
        "id": "EoBopTxkuvGj"
      },
      "source": [
        "def load_cell_dataset():\n",
        "  X = []\n",
        "  y = []\n",
        "  imgs = sorted(glob.glob(\"BBBC005_v1_images/*.TIF\"))[:2500]\n",
        "  preprocess = transforms.Compose([transforms.Resize((299, 299)),\n",
        "                                   transforms.RandomHorizontalFlip(),\n",
        "                                   transforms.RandomVerticalFlip(),\n",
        "                                   transforms.ToTensor(),\n",
        "                                   # normalization used on training resnet-50 data\n",
        "                                   transforms.Normalize(mean=[0.7137, 0.6628, 0.6519], \\\n",
        "                                                        std=[0.2970, 0.3017, 0.2979])])\n",
        "  for i in tqdm.tqdm(imgs):\n",
        "    # Convert image from B&W .TIF file to RGB image\n",
        "    img = Image.open(i).convert('RGB')\n",
        "\n",
        "    # Apply preprocessing\n",
        "    img = preprocess(img)\n",
        "    X.append(img)\n",
        "\n",
        "    # Determine number of cells in the image from the filename\n",
        "    name = os.path.basename(i)\n",
        "    ncells = float(name.split(\"_\")[2][1:])\n",
        "    y.append(torch.tensor([ncells]))\n",
        "\n",
        "  X = torch.stack(X, dim=0).float()\n",
        "  y = torch.stack(y, dim=0).float()\n",
        "  X_train, X_test, y_train, y_test = train_test_split(X, y, test_size=0.1)\n",
        "  return X_train, X_test, y_train, y_test\n",
        "\n",
        "X_train, X_test, y_train, y_test = load_cell_dataset()"
      ],
      "execution_count": null,
      "outputs": []
    },
    {
      "cell_type": "markdown",
      "metadata": {
        "id": "Adkt2eg5w05Q"
      },
      "source": [
        "### Initialize pre-trained model"
      ]
    },
    {
      "cell_type": "code",
      "metadata": {
        "id": "v9oY9yXSuvL2"
      },
      "source": [
        "# Load up pre-trained resnet-50 model and print the module information\n",
        "model = torchvision.models.resnet50(pretrained=True)\n",
        "model"
      ],
      "execution_count": null,
      "outputs": []
    },
    {
      "cell_type": "markdown",
      "metadata": {
        "id": "aiqlLB42w4df"
      },
      "source": [
        "### Re-initialize final layer of the pre-trained model"
      ]
    },
    {
      "cell_type": "code",
      "metadata": {
        "id": "pq3CyuLfu14M"
      },
      "source": [
        "# Replace fc layer with regression output\n",
        "model.fc = nn.Linear(2048, 1)"
      ],
      "execution_count": null,
      "outputs": []
    },
    {
      "cell_type": "markdown",
      "metadata": {
        "id": "voLtRPTZxAyR"
      },
      "source": [
        "### Standardize data"
      ]
    },
    {
      "cell_type": "code",
      "metadata": {
        "id": "jVMbleYJu1z8"
      },
      "source": [
        "y_mean = y_train.mean()\n",
        "y_std = y_train.std()\n",
        "y_train = (y_train-y_mean)/y_std\n",
        "y_test = (y_test-y_mean)/y_std"
      ],
      "execution_count": null,
      "outputs": []
    },
    {
      "cell_type": "markdown",
      "metadata": {
        "id": "g3fc4w1FxHwR"
      },
      "source": [
        "### Fit the model"
      ]
    },
    {
      "cell_type": "code",
      "metadata": {
        "id": "wfAMRNhhu38r"
      },
      "source": [
        "from skorch import NeuralNetRegressor\n",
        "def optim(pgroups, **kwargs):\n",
        "  return torch.optim.Adam(model.fc.parameters(), **kwargs)\n",
        "regr = NeuralNetRegressor(model, batch_size=16, max_epochs=10, lr=2e-3, optimizer=optim, device='cuda')\n",
        "regr.fit(X_train, y_train)"
      ],
      "execution_count": null,
      "outputs": []
    },
    {
      "cell_type": "markdown",
      "metadata": {
        "id": "4xw05uMWxJ2v"
      },
      "source": [
        "### Evaluate the model"
      ]
    },
    {
      "cell_type": "code",
      "metadata": {
        "id": "ecvbdtE3u3xT"
      },
      "source": [
        "from sklearn.metrics import r2_score\n",
        "preds = regr.predict(X_test)\n",
        "preds = preds*y_std.item() + y_mean.item()\n",
        "targets = y_test.numpy()*y_std.item() + y_mean.item()\n",
        "r2_score = r2_score(targets, preds)\n",
        "mae_score = mean_absolute_error(targets, preds)\n",
        "print(r2_score, mae_score)"
      ],
      "execution_count": null,
      "outputs": []
    },
    {
      "cell_type": "code",
      "metadata": {
        "id": "zeOauLPKu3rv"
      },
      "source": [
        "plt.scatter(targets, preds)"
      ],
      "execution_count": null,
      "outputs": []
    }
  ]
}