{
 "cells": [
  {
   "cell_type": "code",
   "execution_count": null,
   "metadata": {},
   "outputs": [],
   "source": [
    "import numpy as np\n",
    "import matplotlib.pyplot as plt"
   ]
  },
  {
   "cell_type": "markdown",
   "metadata": {},
   "source": [
    "# Differential equations"
   ]
  },
  {
   "cell_type": "markdown",
   "metadata": {},
   "source": [
    "The key to numerically solving differential equations is to:\n",
    "    - Correctly classify the equation(s)\n",
    "    - Re-arrange the equation(s) into a standard form\n",
    "    - Pick the correct solver\n",
    "    \n",
    "Some classes of differential equations include:\n",
    "    - Ordinary differential equations\n",
    "        - Initial value problems\n",
    "        - Boundary value problems\n",
    "    - Delay differential equations\n",
    "    - Differential algebraic equations\n",
    "    - Partial differential equations"
   ]
  },
  {
   "cell_type": "markdown",
   "metadata": {},
   "source": [
    "## Initial value problems"
   ]
  },
  {
   "cell_type": "markdown",
   "metadata": {},
   "source": [
    "Let's solve the differential equations:\n",
    "\n",
    "$$ \\frac{dy}{dt} = y(t) $$\n",
    "$$ y(0) = 1 $$\n",
    "$$ 0 < t < 2 $$\n",
    "\n",
    "To solve this, we will use the `scipy.integrate.solve_ivp` function."
   ]
  },
  {
   "cell_type": "code",
   "execution_count": null,
   "metadata": {},
   "outputs": [],
   "source": [
    "from scipy.integrate import solve_ivp\n",
    "help(solve_ivp)"
   ]
  },
  {
   "cell_type": "markdown",
   "metadata": {},
   "source": [
    "We need to identify $f(t, y)$, t_span (integration domain), and y0 (initial value)"
   ]
  },
  {
   "cell_type": "code",
   "execution_count": null,
   "metadata": {},
   "outputs": [],
   "source": [
    "def f(t, y):\n",
    "    return y\n",
    "\n",
    "t_span = [0., 2.0]\n",
    "y0 = [1.0]\n",
    "\n",
    "sol = solve_ivp(f, t_span, y0)\n",
    "print(sol)"
   ]
  },
  {
   "cell_type": "markdown",
   "metadata": {},
   "source": [
    "We can pass in an array of values we'd like to evaluate using the `t_eval` argument of `solve_ivp`."
   ]
  },
  {
   "cell_type": "code",
   "execution_count": null,
   "metadata": {},
   "outputs": [],
   "source": [
    "sol = solve_ivp(f, t_span, y0, t_eval=np.linspace(0., 2.))\n",
    "print(sol)"
   ]
  },
  {
   "cell_type": "markdown",
   "metadata": {},
   "source": [
    "Finally, let's plot the result"
   ]
  },
  {
   "cell_type": "code",
   "execution_count": null,
   "metadata": {},
   "outputs": [],
   "source": [
    "y = sol.y.reshape((-1,))\n",
    "t = sol.t\n",
    "plt.scatter(t, y)\n",
    "plt.plot(t, y)"
   ]
  },
  {
   "cell_type": "markdown",
   "metadata": {},
   "source": [
    "## Exercise: Initial value problem"
   ]
  },
  {
   "cell_type": "markdown",
   "metadata": {},
   "source": [
    "Solve the differential equations:\n",
    "\n",
    "$$ \\frac{dC_A}{dt} = -k C_A(t) $$\n",
    "$$ C_A(0) = 1 $$\n",
    "$$ 0 < t < 10 s $$\n",
    "\n",
    "Let k = 0.5 $s^{-1}$. Evaluate and plot the results."
   ]
  },
  {
   "cell_type": "code",
   "execution_count": null,
   "metadata": {},
   "outputs": [],
   "source": [
    "def f(t, y):\n",
    "    return -0.5 * y\n",
    "\n",
    "t_span = [0., 10.0]\n",
    "y0 = [1.0]\n",
    "\n",
    "sol = solve_ivp(f, t_span, y0, t_eval=np.linspace(0., 10.))\n",
    "print(sol)\n",
    "plt.scatter(sol.t, sol.y)"
   ]
  },
  {
   "cell_type": "markdown",
   "metadata": {},
   "source": [
    "## Example: IVP's with a discontinuous forcing function"
   ]
  },
  {
   "cell_type": "markdown",
   "metadata": {},
   "source": [
    "A mixing tank initially contains 300 g of salt mixed into 1000 L of water. At t=0 min, a solution of 4 g/L salt enters the tank at 6 L/min. At t=10 min, the solution is changed to 2 g/L salt, still entering at 6 L/min. The tank is well stirred, and the tank solution leaves at a rate of 6 L/min. Plot the concentration of salt (g/L) in the tank as a function of time.\n",
    "\n",
    "A mass balance on the salt in the tank leads to this differential equation: \n",
    "\n",
    "$$ \\frac{dM_S}{dt} = \\nu C_{S,in}(t) - \\nu M_S/V $$\n",
    "$$ M_S(0) = 300 $$\n",
    "\n",
    "The inlet conditions are given by:\n",
    "\n",
    "$$ C_{S,in}(t) = \n",
    "\\begin{cases} \n",
    "      0 & t\\leq 0 \\\\\n",
    "      4 & 0\\leq t\\leq 10 \\\\\n",
    "      2 & 10\\leq t \n",
    "\\end{cases}\n",
    "$$"
   ]
  },
  {
   "cell_type": "code",
   "execution_count": null,
   "metadata": {},
   "outputs": [],
   "source": [
    "V = 1000. # L\n",
    "nu = 6.0 # L/min\n",
    "\n",
    "def inlet_conc(t):\n",
    "    return None\n",
    "def f(t, y):\n",
    "    return None\n",
    "\n",
    "t_span = [0., 15.0]\n",
    "t_eval = np.linspace(0., 15.0)\n",
    "y0 = [300.]\n",
    "\n",
    "sol = solve_ivp(f, t_span, y0, t_eval=t_eval)\n",
    "\n",
    "y = sol.y[0]\n",
    "t = sol.t\n",
    "\n",
    "plt.scatter(t, y)\n",
    "plt.plot(t, y)"
   ]
  },
  {
   "cell_type": "markdown",
   "metadata": {},
   "source": [
    "## Example: Systems of Ordinary Differential Equations"
   ]
  },
  {
   "cell_type": "markdown",
   "metadata": {},
   "source": [
    "Consider the isomerization reaction:\n",
    "    \n",
    "$$ A \\longleftrightarrow B $$\n",
    "\n",
    "with forward and backward rate constants k_1 and k_2, respectively.\n",
    "\n",
    "$$ \\frac{dC_A}{dt} = -k_1 C_A + k_2 C_B $$\n",
    "$$ \\frac{dC_B}{dt} = k_1 C_A - k_2 C_B $$\n",
    "$$ C_A(0) = 1.0, C_B(0) = 0.0 $$\n",
    "$$ k_1 = 0.5 s^{-1}, k_2 = 0.3 s^{-1} $$"
   ]
  },
  {
   "cell_type": "code",
   "execution_count": null,
   "metadata": {},
   "outputs": [],
   "source": [
    "k1 = 0.5\n",
    "k2 = 0.3\n",
    "def f(t, y):\n",
    "    Ca, Cb = y\n",
    "    return [-k1*Ca+k2*Cb, k1*Ca-k2*Cb]\n",
    "\n",
    "t_span = [0., 10.]\n",
    "y0 = [1.0, 0.0]\n",
    "\n",
    "sol = solve_ivp(f, t_span, y0, t_eval=np.linspace(0., 10.))\n",
    "y1 = sol.y[0]\n",
    "y2 = sol.y[1]\n",
    "t = sol.t\n",
    "\n",
    "plt.plot(t, y1)\n",
    "plt.plot(t, y2)"
   ]
  },
  {
   "cell_type": "markdown",
   "metadata": {},
   "source": [
    "## Exercise: Systems of Ordinary Differential Equations"
   ]
  },
  {
   "cell_type": "markdown",
   "metadata": {},
   "source": [
    "Consider the isomerization reaction:\n",
    "    \n",
    "$$ A \\longleftrightarrow B \\longrightarrow C $$\n",
    "\n",
    "with forward and backward rate constants k_1 and k_2 describing reaction 1 and forward rate constant k_3 for reaction 2.\n",
    "\n",
    "$$ \\frac{dC_A}{dt} = -k_1 C_A + k_2 C_B $$\n",
    "$$ \\frac{dC_B}{dt} = k_1 C_A - k_2 C_B - k_3 C_B $$\n",
    "$$ \\frac{dC_C}{dt} = k_3 C_B $$\n",
    "$$ C_A(0) = 1.0, C_B(0) = 0.0, C_C(0) = 0.0 $$\n",
    "$$ k_1 = 0.5 s^{-1}, k_2 = 0.3 s^{-1}, k_3 = 0.5 s^{-1} $$\n",
    "\n",
    "Evaluate and plot each concentration as a function of time."
   ]
  },
  {
   "cell_type": "code",
   "execution_count": null,
   "metadata": {},
   "outputs": [],
   "source": []
  }
 ],
 "metadata": {
  "kernelspec": {
   "display_name": "Python 3",
   "language": "python",
   "name": "python3"
  },
  "language_info": {
   "codemirror_mode": {
    "name": "ipython",
    "version": 3
   },
   "file_extension": ".py",
   "mimetype": "text/x-python",
   "name": "python",
   "nbconvert_exporter": "python",
   "pygments_lexer": "ipython3",
   "version": "3.5.6"
  }
 },
 "nbformat": 4,
 "nbformat_minor": 4
}
