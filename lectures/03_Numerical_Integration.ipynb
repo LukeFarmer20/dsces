{
 "cells": [
  {
   "cell_type": "code",
   "execution_count": null,
   "metadata": {},
   "outputs": [],
   "source": [
    "import numpy as np\n",
    "import matplotlib.pyplot as plt\n",
    "from scipy.integrate import quad"
   ]
  },
  {
   "cell_type": "markdown",
   "metadata": {},
   "source": [
    "# Numerical Integration"
   ]
  },
  {
   "cell_type": "markdown",
   "metadata": {},
   "source": [
    "## The trapezoid method"
   ]
  },
  {
   "cell_type": "markdown",
   "metadata": {},
   "source": [
    "The trapezoid method is a numerical technique for approximating a definite integral."
   ]
  },
  {
   "cell_type": "markdown",
   "metadata": {},
   "source": [
    "$$\\int_a^b f(x) \\approx \\frac{1}{2} \\sum_{k=1}^N (x_{k+1} - x_k)(f(x_{k+1})+f(x_k))$$"
   ]
  },
  {
   "cell_type": "markdown",
   "metadata": {},
   "source": [
    "<img src=\"https://upload.wikimedia.org/wikipedia/commons/thumb/7/7e/Trapezium2.gif/330px-Trapezium2.gif\">\n",
    "\n",
    "<center>from <a href=\"https://en.wikipedia.org/wiki/Trapezoidal_rule\">Wikipedia</a></center>"
   ]
  },
  {
   "cell_type": "markdown",
   "metadata": {},
   "source": [
    "Let's do some numerical integration in numpy with `np.trapz`"
   ]
  },
  {
   "cell_type": "markdown",
   "metadata": {},
   "source": [
    "$$ \\int_{-5}^5 x^2 dx = \\frac{x^3}{3}\\rvert_{-5}^5 = 83.333... $$"
   ]
  },
  {
   "cell_type": "code",
   "execution_count": null,
   "metadata": {},
   "outputs": [],
   "source": [
    "ans = (5**3 - (-5)**3)/3\n",
    "x = np.linspace(-5, 5)\n",
    "y = x**2\n",
    "iy = np.trapz(y, x)\n",
    "print(iy, ans, np.abs(iy-ans))"
   ]
  },
  {
   "cell_type": "markdown",
   "metadata": {},
   "source": [
    "As shown in the image above, the quality of your numerical integration depends on the density of data points in the region of interest."
   ]
  },
  {
   "cell_type": "code",
   "execution_count": null,
   "metadata": {},
   "outputs": [],
   "source": [
    "ans = (5**3 - (-5)**3)/3\n",
    "x = np.linspace(-5, 5, 10)\n",
    "y = x**2\n",
    "iy = np.trapz(y, x)\n",
    "print(iy, ans, np.abs(iy-ans))"
   ]
  },
  {
   "cell_type": "markdown",
   "metadata": {},
   "source": [
    "You can use loops to compute and plot the integral across a domain"
   ]
  },
  {
   "cell_type": "markdown",
   "metadata": {},
   "source": [
    "$$ \\int cos(x) dx = sin(x) + C $$"
   ]
  },
  {
   "cell_type": "code",
   "execution_count": null,
   "metadata": {},
   "outputs": [],
   "source": [
    "x = np.linspace(0, 2*np.pi, 8)\n",
    "y = np.cos(x)\n",
    "iy = np.array([np.trapz(y[:i+1], x[:i+1]) for i in range(x.size)])\n",
    "plt.plot(x, y)\n",
    "plt.plot(x, iy)\n",
    "plt.legend(['y(x)', 'trapz(y(x))'])"
   ]
  },
  {
   "cell_type": "code",
   "execution_count": null,
   "metadata": {},
   "outputs": [],
   "source": [
    "x = np.linspace(0, 2*np.pi, 64)\n",
    "y = np.cos(x)\n",
    "iy = np.array([np.trapz(y[:i+1], x[:i+1]) for i in range(x.size)])\n",
    "plt.plot(x, y)\n",
    "plt.plot(x, iy)\n",
    "plt.legend(['y(x)', 'trapz(y(x))'])"
   ]
  },
  {
   "cell_type": "markdown",
   "metadata": {},
   "source": [
    "## Exercise: The trapezoid method"
   ]
  },
  {
   "cell_type": "markdown",
   "metadata": {},
   "source": [
    "Evaluate the following integral and print out the result:"
   ]
  },
  {
   "cell_type": "markdown",
   "metadata": {},
   "source": [
    "$$ \\int_0^5 2x dx \\approx $$"
   ]
  },
  {
   "cell_type": "code",
   "execution_count": null,
   "metadata": {},
   "outputs": [],
   "source": []
  },
  {
   "cell_type": "markdown",
   "metadata": {},
   "source": [
    "## Simpson's Rule"
   ]
  },
  {
   "cell_type": "markdown",
   "metadata": {},
   "source": [
    "<img src=\"https://upload.wikimedia.org/wikipedia/commons/thumb/6/67/Simpsonsrule2.gif/330px-Simpsonsrule2.gif\">\n",
    "\n",
    "<center>from <a href=\"https://en.wikipedia.org/wiki/Simpson%27s_rule\">Wikipedia</a></center>"
   ]
  },
  {
   "cell_type": "markdown",
   "metadata": {},
   "source": [
    "Simpson's rule is another, more-accurate method for approximating definite integrals. It replaces the integrand $f(x)$ with a quadratic polynomial $P(x)$ that is fit to three data points. The integration of that polynomial yields the expression: "
   ]
  },
  {
   "cell_type": "markdown",
   "metadata": {},
   "source": [
    "$$\\int_a^b f(x) dx \\approx \\frac{\\Delta x}{3}(f(x_0) + 4f(x_1) + 2f(x_2) + 4f(x_3) + 2f(x_4) + ... + 4f(x_{n-1}) + f(x_n))$$\n",
    "\n",
    "where\n",
    "\n",
    "$$\\Delta x = \\frac{b-a}{n}; x_i = a + i\\Delta x$$"
   ]
  },
  {
   "cell_type": "markdown",
   "metadata": {},
   "source": [
    "A python routine for performing Simpson's rule integration is available in `scipy.integrate`."
   ]
  },
  {
   "cell_type": "markdown",
   "metadata": {},
   "source": [
    "$$ \\int \\frac{1}{x} dx = ln(x) + C $$"
   ]
  },
  {
   "cell_type": "code",
   "execution_count": null,
   "metadata": {},
   "outputs": [],
   "source": [
    "from scipy.integrate import simps\n",
    "x = np.linspace(1.0, 10, 64)\n",
    "y = x**-1\n",
    "iy = np.array([simps(y[:i+1], x[:i+1]) for i in range(x.size)])\n",
    "plt.plot(x, y)\n",
    "plt.plot(x, iy)\n",
    "plt.legend(['y(x)', 'simps(y(x))'])"
   ]
  },
  {
   "cell_type": "markdown",
   "metadata": {},
   "source": [
    "## Exercise: Simpson's Rule"
   ]
  },
  {
   "cell_type": "markdown",
   "metadata": {},
   "source": [
    "Recompute the integral below and compare with the analytical result and the result obtained by the trapezoid rule:\n",
    "    \n",
    "$$ \\int_{-5}^5 x^2 dx = \\frac{x^3}{3}\\rvert_{-5}^5 = 83.333... $$"
   ]
  },
  {
   "cell_type": "code",
   "execution_count": null,
   "metadata": {},
   "outputs": [],
   "source": [
    "ans = (5**3 - (-5)**3)/3\n",
    "x = np.linspace(-5, 5, 10)\n",
    "y = x**2"
   ]
  },
  {
   "cell_type": "markdown",
   "metadata": {},
   "source": [
    "## Numerical Quadrature"
   ]
  },
  {
   "cell_type": "markdown",
   "metadata": {},
   "source": [
    "Quadrature is a more accurate way of integrating a function when the data lies on a grid or when the integrand is known. A python routine for 1-dimensional numerical quadrature is available in `scipy.integrate`."
   ]
  },
  {
   "cell_type": "markdown",
   "metadata": {},
   "source": [
    "## Example: Flow into a tank"
   ]
  },
  {
   "cell_type": "markdown",
   "metadata": {},
   "source": [
    "Consider a liquid flowing into a tank where the volumetric flow rate $\\nu$ is given by the following differential equation:\n",
    "$$ \\frac{d\\nu}{dt} = \\alpha $$\n",
    "where $\\alpha = 1$ L/min and the initial volumetric flow rate $\\nu_0 = 5$ L/min. Determine the amount of liquid that flows into the tank over the course of 10 minutes."
   ]
  },
  {
   "cell_type": "markdown",
   "metadata": {},
   "source": [
    "Solution: $$ V = \\int_{0}^{10} (\\nu_0 + \\alpha t) dt $$"
   ]
  },
  {
   "cell_type": "code",
   "execution_count": null,
   "metadata": {},
   "outputs": [],
   "source": [
    "from scipy.integrate import quad\n",
    "\n",
    "def integrand(t):\n",
    "    alpha = 1.0\n",
    "    nu0 = 5.0\n",
    "    return nu0 + alpha * t\n",
    "\n",
    "iy, err = quad(integrand, 0., 10.)\n",
    "print(\"The total volume of liquid is {} L +/- {}\".format(iy, err))"
   ]
  },
  {
   "cell_type": "markdown",
   "metadata": {},
   "source": [
    "## Exercise: Quadrature"
   ]
  },
  {
   "cell_type": "markdown",
   "metadata": {},
   "source": [
    "For a constant volume batch reactor where $A \\rightarrow B$ at a rate of $-r_A = k C_A^2$, we derive the following design equation for the length of time required to achieve a a level of conversion, $X$:\n",
    "\n",
    "$$ t(X) = \\frac{1}{kC_{A0}} \\int_{X=0}^X \\frac{dX}{(1-X)^2} $$\n",
    "\n",
    "If $k = 10^{-3}$ L/mol/s and $C_{A0} = 1$ mol/L, estimate the time to achieve 90% conversion."
   ]
  },
  {
   "cell_type": "code",
   "execution_count": null,
   "metadata": {},
   "outputs": [],
   "source": []
  }
 ],
 "metadata": {
  "kernelspec": {
   "display_name": "Python 3",
   "language": "python",
   "name": "python3"
  },
  "language_info": {
   "codemirror_mode": {
    "name": "ipython",
    "version": 3
   },
   "file_extension": ".py",
   "mimetype": "text/x-python",
   "name": "python",
   "nbconvert_exporter": "python",
   "pygments_lexer": "ipython3",
   "version": "3.7.4"
  }
 },
 "nbformat": 4,
 "nbformat_minor": 4
}
