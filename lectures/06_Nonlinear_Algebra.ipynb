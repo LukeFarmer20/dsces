{
 "cells": [
  {
   "cell_type": "code",
   "execution_count": null,
   "metadata": {},
   "outputs": [],
   "source": [
    "import numpy as np\n",
    "import matplotlib.pyplot as plt"
   ]
  },
  {
   "cell_type": "markdown",
   "metadata": {},
   "source": [
    "# Nonlinear Algebra"
   ]
  },
  {
   "cell_type": "markdown",
   "metadata": {},
   "source": [
    "Nonlinear algebra problems are typically solved iteratively, with the solution being determined numerically within a set tolerance. The equation to solve is rearranged into the form $f(X)=0$. "
   ]
  },
  {
   "cell_type": "markdown",
   "metadata": {},
   "source": [
    "## Example: Exit concentration from a reactor\n",
    "\n",
    "Given the expression:\n",
    "\n",
    "$$ V = \\frac{\\nu (C_{A0} - C_A)}{kC_A^2} $$ \n",
    "\n",
    "and the variables:\n",
    "\n",
    "$ C_{A0} = $ 2 mol/L\n",
    "\n",
    "$ V = $ 10 L\n",
    "\n",
    "$ \\nu = $ 0.5 L/s\n",
    "\n",
    "$ k = 0.23 $ L/mol/s\n",
    "\n",
    "Solve for the exit concentration, $C_A$."
   ]
  },
  {
   "cell_type": "code",
   "execution_count": null,
   "metadata": {},
   "outputs": [],
   "source": [
    "# define constants\n",
    "Ca0 = 2.0 # mol / L\n",
    "V = 10 # L\n",
    "nu = 0.5 # L / s\n",
    "k = 0.23 # L / mol / s\n",
    "\n",
    "#define equation in form f(X)=0\n",
    "def func(Ca):\n",
    "    return V - nu * (Ca0-Ca)/(k * Ca**2)"
   ]
  },
  {
   "cell_type": "markdown",
   "metadata": {},
   "source": [
    "### Step 1: Plot the function f(X)=0 to get an initial guess for $C_A$"
   ]
  },
  {
   "cell_type": "code",
   "execution_count": null,
   "metadata": {},
   "outputs": [],
   "source": [
    "c = np.linspace(1e-1, 2.0)\n",
    "plt.plot(c, func(c))\n",
    "plt.xlabel('$C_A$ (mol/L)')\n",
    "plt.ylabel('f($C_A$)')\n",
    "plt.hlines(0, 1e-1, 2.0)"
   ]
  },
  {
   "cell_type": "markdown",
   "metadata": {},
   "source": [
    "### Step 2: Find the solution to $f(X)=0$ using `fsolve`"
   ]
  },
  {
   "cell_type": "code",
   "execution_count": null,
   "metadata": {},
   "outputs": [],
   "source": [
    "from scipy.optimize import fsolve\n",
    "help(fsolve)"
   ]
  },
  {
   "cell_type": "code",
   "execution_count": null,
   "metadata": {},
   "outputs": [],
   "source": [
    "c0 = 0.5\n",
    "c, = fsolve(func, c0)\n",
    "print(c, func(c))"
   ]
  },
  {
   "cell_type": "markdown",
   "metadata": {},
   "source": [
    "## Exercise: Exit concentration of a plug flow reactor (solving integral equations)\n",
    "\n",
    "Given the equation:\n",
    "    \n",
    "$$ V = \\int_{F_{A0}}^{F_A} r_A^{-1} dF_A $$\n",
    "\n",
    "and constants:\n",
    "\n",
    "$ V = $ 100 L\n",
    "\n",
    "$ F_{A0} = $ 1 mol/min\n",
    "\n",
    "$ \\nu = $ 10 L/min\n",
    "\n",
    "$ r_A =  -k C_A $\n",
    "\n",
    "$ k = $ 0.23 /min\n",
    "\n",
    "Solve for the exit molar flow rate, $F_A$.\n",
    "\n",
    "$$ 100 = \\int_{F_{A0}}^{F_A} \\frac{1}{-k F_A / \\nu} dF_A $$"
   ]
  },
  {
   "cell_type": "markdown",
   "metadata": {},
   "source": [
    "### Step 1: Define a function to evaluate the integral with `scipy.integrate.quad`"
   ]
  },
  {
   "cell_type": "code",
   "execution_count": null,
   "metadata": {},
   "outputs": [],
   "source": []
  },
  {
   "cell_type": "markdown",
   "metadata": {},
   "source": [
    "### Step 2: Plot the function to find an initial guess for $F_A$"
   ]
  },
  {
   "cell_type": "code",
   "execution_count": null,
   "metadata": {},
   "outputs": [],
   "source": []
  },
  {
   "cell_type": "markdown",
   "metadata": {},
   "source": [
    "### Step 3: Use the initial guess to solve the equation"
   ]
  },
  {
   "cell_type": "code",
   "execution_count": null,
   "metadata": {},
   "outputs": [],
   "source": []
  },
  {
   "cell_type": "markdown",
   "metadata": {},
   "source": [
    "## Example: Find the solution to the following set of nonlinear equations:\n",
    "\n",
    "$$ 2 + x + y - x^2 + 8xy + y^3 = 0 $$\n",
    "$$ 1 + 2x - 3y + x^2 + xy - ye^x = 0 $$"
   ]
  },
  {
   "cell_type": "markdown",
   "metadata": {},
   "source": [
    "### Step 1: Define functions"
   ]
  },
  {
   "cell_type": "code",
   "execution_count": null,
   "metadata": {},
   "outputs": [],
   "source": [
    "def f(x, y):\n",
    "    return 2 + x + y - x**2 + 8*x*y + y**3\n",
    "\n",
    "def g(x, y):\n",
    "    return 1 + 2*x - 3*y + x**2 + x*y - y*np.exp(x)"
   ]
  },
  {
   "cell_type": "markdown",
   "metadata": {},
   "source": [
    "### Step 2: Plot functions"
   ]
  },
  {
   "cell_type": "code",
   "execution_count": null,
   "metadata": {},
   "outputs": [],
   "source": [
    "x = np.linspace(-5, 5, 500)\n",
    "y = np.linspace(-5, 5, 500)\n",
    "XX, YY = np.meshgrid(x, y)\n",
    "fig, ax = plt.subplots()\n",
    "pos = plt.contour(XX, YY, f(XX, YY), 100)\n",
    "fig.colorbar(pos, ax=ax)\n",
    "ax.clabel(pos, pos.levels, inline=True, fontsize=10)\n",
    "plt.show()\n",
    "plt.close()\n",
    "fig, ax = plt.subplots()\n",
    "pos = plt.contour(XX, YY, g(XX, YY), 100)\n",
    "fig.colorbar(pos, ax=ax)\n",
    "ax.clabel(pos, pos.levels, inline=True, fontsize=10)\n",
    "plt.show()\n",
    "plt.close()"
   ]
  },
  {
   "cell_type": "markdown",
   "metadata": {},
   "source": [
    "### Step 3: `fsolve`"
   ]
  },
  {
   "cell_type": "code",
   "execution_count": null,
   "metadata": {},
   "outputs": [],
   "source": [
    "from scipy.optimize import fsolve\n",
    "def func(X):\n",
    "    x, y = X\n",
    "    return [f(x, y), g(x, y)]\n",
    "\n",
    "soln = fsolve(func, [0, 0])\n",
    "print(soln)"
   ]
  }
 ],
 "metadata": {
  "kernelspec": {
   "display_name": "Python 3",
   "language": "python",
   "name": "python3"
  },
  "language_info": {
   "codemirror_mode": {
    "name": "ipython",
    "version": 3
   },
   "file_extension": ".py",
   "mimetype": "text/x-python",
   "name": "python",
   "nbconvert_exporter": "python",
   "pygments_lexer": "ipython3",
   "version": "3.5.6"
  }
 },
 "nbformat": 4,
 "nbformat_minor": 4
}
